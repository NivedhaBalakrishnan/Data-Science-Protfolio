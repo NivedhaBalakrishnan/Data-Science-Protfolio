{
  "cells": [
    {
      "cell_type": "markdown",
      "metadata": {
        "id": "view-in-github",
        "colab_type": "text"
      },
      "source": [
        "<a href=\"https://colab.research.google.com/github/NivedhaBalakrishnan/Data-Science-Protfolio/blob/main/Medical%20Image%20Segmentation/UNet%2B%2B.ipynb\" target=\"_parent\"><img src=\"https://colab.research.google.com/assets/colab-badge.svg\" alt=\"Open In Colab\"/></a>"
      ]
    },
    {
      "cell_type": "code",
      "source": [
        "# Mounting Colab\n",
        "from google.colab import drive\n",
        "drive.mount('/content/drive')"
      ],
      "metadata": {
        "colab": {
          "base_uri": "https://localhost:8080/"
        },
        "id": "i1Dqq7cB03O6",
        "outputId": "d61f7811-9beb-4513-b144-55d7a4d2379e"
      },
      "execution_count": 1,
      "outputs": [
        {
          "output_type": "stream",
          "name": "stdout",
          "text": [
            "Mounted at /content/drive\n"
          ]
        }
      ]
    },
    {
      "cell_type": "code",
      "source": [
        "cd drive/Shareddrives/Interview\\ Preparation/Data\\ Science/Image Segmentation"
      ],
      "metadata": {
        "colab": {
          "base_uri": "https://localhost:8080/"
        },
        "id": "7z9VelnM6yAk",
        "outputId": "836beeaa-6e10-4156-c025-cfdeec68f075"
      },
      "execution_count": 24,
      "outputs": [
        {
          "output_type": "stream",
          "name": "stdout",
          "text": [
            "[Errno 2] No such file or directory: 'drive/Shareddrives/Interview Preparation/Data Science/Image Segmentation'\n",
            "/content/drive/Shareddrives/Interview Preparation/Data Science/Image Segmentation\n"
          ]
        }
      ]
    },
    {
      "cell_type": "code",
      "source": [
        "ls"
      ],
      "metadata": {
        "colab": {
          "base_uri": "https://localhost:8080/"
        },
        "id": "2R7gtAsy7bDR",
        "outputId": "ce2582ab-ccb2-4abb-e39a-50e5a2585d9b"
      },
      "execution_count": 25,
      "outputs": [
        {
          "output_type": "stream",
          "name": "stdout",
          "text": [
            "\u001b[0m\u001b[01;34mdata\u001b[0m/  \u001b[01;34minput\u001b[0m/  \u001b[01;34mlib\u001b[0m/  \u001b[01;34mnotebook\u001b[0m/  \u001b[01;34moutput\u001b[0m/  \u001b[01;34msource\u001b[0m/\n"
          ]
        }
      ]
    },
    {
      "cell_type": "code",
      "execution_count": 4,
      "metadata": {
        "id": "dLUiiMOAzAMS"
      },
      "outputs": [],
      "source": [
        "import os\n",
        "import yaml\n",
        "import torch\n",
        "import pandas as pd\n",
        "import torch.nn as nn\n",
        "import torch.optim as optim\n",
        "\n",
        "from glob import glob\n",
        "from tqdm import tqdm\n",
        "from collections import OrderedDict\n",
        "from albumentations.augmentations import transforms\n",
        "from sklearn.model_selection import train_test_split\n",
        "from albumentations.core.composition import Compose, OneOf\n",
        "\n",
        "# from train import train, validate\n",
        "# from source.network import UNetPP\n",
        "# from source.dataset import DataSet"
      ]
    },
    {
      "cell_type": "code",
      "execution_count": 5,
      "metadata": {
        "id": "W_vp0mdJzAMZ"
      },
      "outputs": [],
      "source": [
        "import os\n",
        "import cv2\n",
        "import numpy as np\n",
        "import torch.utils.data\n",
        "\n",
        "\n",
        "class DataSet(torch.utils.data.Dataset):\n",
        "    def __init__(self, img_ids, img_dir, mask_dir, img_ext, mask_ext, transform=None):\n",
        "        self.img_ids = img_ids\n",
        "        self.img_dir = img_dir\n",
        "        self.mask_dir = mask_dir\n",
        "        self.img_ext = img_ext\n",
        "        self.mask_ext = mask_ext\n",
        "        self.transform = transform\n",
        "\n",
        "    def __len__(self):\n",
        "        return len(self.img_ids)\n",
        "\n",
        "    def __getitem__(self, idx):\n",
        "        img_id = self.img_ids[idx]\n",
        "\n",
        "        img = cv2.imread(os.path.join(self.img_dir, img_id + self.img_ext))\n",
        "\n",
        "        mask = []\n",
        "        mask.append(cv2.imread(os.path.join(self.mask_dir,\n",
        "                                            img_id + self.mask_ext), cv2.IMREAD_GRAYSCALE)[..., None])\n",
        "        mask = np.dstack(mask)\n",
        "\n",
        "        if self.transform is not None:\n",
        "            augmented = self.transform(image=img, mask=mask)\n",
        "            img = augmented['image']\n",
        "            mask = augmented['mask']\n",
        "\n",
        "        img = img.astype('float32') / 255\n",
        "        img = img.transpose(2, 0, 1)\n",
        "        mask = mask.astype('float32') / 255\n",
        "        mask = mask.transpose(2, 0, 1)\n",
        "\n",
        "        return img, mask, {'img_id': img_id}\n",
        "\n"
      ]
    },
    {
      "cell_type": "code",
      "execution_count": 6,
      "metadata": {
        "id": "g1bia8E3zAMc"
      },
      "outputs": [],
      "source": [
        "import torch\n",
        "from torch import nn\n",
        "\n",
        "\n",
        "class VGGBlock(nn.Module):\n",
        "    def __init__(self, in_channels, middle_channels, out_channels):\n",
        "        super().__init__()\n",
        "        self.relu = nn.ReLU(inplace=True)\n",
        "        self.conv1 = nn.Conv2d(in_channels, middle_channels, 3, padding=1)\n",
        "        self.bn1 = nn.BatchNorm2d(middle_channels)\n",
        "        self.conv2 = nn.Conv2d(middle_channels, out_channels, 3, padding=1)\n",
        "        self.bn2 = nn.BatchNorm2d(out_channels)\n",
        "\n",
        "    def forward(self, x):\n",
        "        out = self.conv1(x)\n",
        "        out = self.bn1(out)\n",
        "        out = self.relu(out)\n",
        "\n",
        "        out = self.conv2(out)\n",
        "        out = self.bn2(out)\n",
        "        out = self.relu(out)\n",
        "\n",
        "        return out\n",
        "\n",
        "\n",
        "class UNetPP(nn.Module):\n",
        "    def __init__(self, num_classes, input_channels=3, deep_supervision=False, **kwargs):\n",
        "        super().__init__()\n",
        "\n",
        "        nb_filter = [32, 64, 128, 256, 512]\n",
        "\n",
        "        self.deep_supervision = deep_supervision\n",
        "\n",
        "        self.pool = nn.MaxPool2d(2, 2)\n",
        "        self.up = nn.Upsample(scale_factor=2, mode='bilinear', align_corners=True)\n",
        "\n",
        "        self.conv0_0 = VGGBlock(input_channels, nb_filter[0], nb_filter[0])\n",
        "        self.conv1_0 = VGGBlock(nb_filter[0], nb_filter[1], nb_filter[1])\n",
        "        self.conv2_0 = VGGBlock(nb_filter[1], nb_filter[2], nb_filter[2])\n",
        "        self.conv3_0 = VGGBlock(nb_filter[2], nb_filter[3], nb_filter[3])\n",
        "        self.conv4_0 = VGGBlock(nb_filter[3], nb_filter[4], nb_filter[4])\n",
        "\n",
        "        self.conv0_1 = VGGBlock(nb_filter[0]+nb_filter[1], nb_filter[0], nb_filter[0])\n",
        "        self.conv1_1 = VGGBlock(nb_filter[1]+nb_filter[2], nb_filter[1], nb_filter[1])\n",
        "        self.conv2_1 = VGGBlock(nb_filter[2]+nb_filter[3], nb_filter[2], nb_filter[2])\n",
        "        self.conv3_1 = VGGBlock(nb_filter[3]+nb_filter[4], nb_filter[3], nb_filter[3])\n",
        "\n",
        "        self.conv0_2 = VGGBlock(nb_filter[0]*2+nb_filter[1], nb_filter[0], nb_filter[0])\n",
        "        self.conv1_2 = VGGBlock(nb_filter[1]*2+nb_filter[2], nb_filter[1], nb_filter[1])\n",
        "        self.conv2_2 = VGGBlock(nb_filter[2]*2+nb_filter[3], nb_filter[2], nb_filter[2])\n",
        "\n",
        "        self.conv0_3 = VGGBlock(nb_filter[0]*3+nb_filter[1], nb_filter[0], nb_filter[0])\n",
        "        self.conv1_3 = VGGBlock(nb_filter[1]*3+nb_filter[2], nb_filter[1], nb_filter[1])\n",
        "\n",
        "        self.conv0_4 = VGGBlock(nb_filter[0]*4+nb_filter[1], nb_filter[0], nb_filter[0])\n",
        "\n",
        "        if self.deep_supervision:\n",
        "            self.final1 = nn.Conv2d(nb_filter[0], num_classes, kernel_size=1)\n",
        "            self.final2 = nn.Conv2d(nb_filter[0], num_classes, kernel_size=1)\n",
        "            self.final3 = nn.Conv2d(nb_filter[0], num_classes, kernel_size=1)\n",
        "            self.final4 = nn.Conv2d(nb_filter[0], num_classes, kernel_size=1)\n",
        "        else:\n",
        "            self.final = nn.Conv2d(nb_filter[0], num_classes, kernel_size=1)\n",
        "\n",
        "\n",
        "    def forward(self, input):\n",
        "        x0_0 = self.conv0_0(input)\n",
        "        x1_0 = self.conv1_0(self.pool(x0_0))\n",
        "        x0_1 = self.conv0_1(torch.cat([x0_0, self.up(x1_0)], 1))\n",
        "\n",
        "        x2_0 = self.conv2_0(self.pool(x1_0))\n",
        "        x1_1 = self.conv1_1(torch.cat([x1_0, self.up(x2_0)], 1))\n",
        "        x0_2 = self.conv0_2(torch.cat([x0_0, x0_1, self.up(x1_1)], 1))\n",
        "\n",
        "        x3_0 = self.conv3_0(self.pool(x2_0))\n",
        "        x2_1 = self.conv2_1(torch.cat([x2_0, self.up(x3_0)], 1))\n",
        "        x1_2 = self.conv1_2(torch.cat([x1_0, x1_1, self.up(x2_1)], 1))\n",
        "        x0_3 = self.conv0_3(torch.cat([x0_0, x0_1, x0_2, self.up(x1_2)], 1))\n",
        "\n",
        "        x4_0 = self.conv4_0(self.pool(x3_0))\n",
        "        x3_1 = self.conv3_1(torch.cat([x3_0, self.up(x4_0)], 1))\n",
        "        x2_2 = self.conv2_2(torch.cat([x2_0, x2_1, self.up(x3_1)], 1))\n",
        "        x1_3 = self.conv1_3(torch.cat([x1_0, x1_1, x1_2, self.up(x2_2)], 1))\n",
        "        x0_4 = self.conv0_4(torch.cat([x0_0, x0_1, x0_2, x0_3, self.up(x1_3)], 1))\n",
        "\n",
        "        if self.deep_supervision:\n",
        "            output1 = self.final1(x0_1)\n",
        "            output2 = self.final2(x0_2)\n",
        "            output3 = self.final3(x0_3)\n",
        "            output4 = self.final4(x0_4)\n",
        "            return [output1, output2, output3, output4]\n",
        "\n",
        "        else:\n",
        "            output = self.final(x0_4)\n",
        "            return output\n"
      ]
    },
    {
      "cell_type": "code",
      "execution_count": 7,
      "metadata": {
        "id": "dssiiYU5zAMf"
      },
      "outputs": [],
      "source": [
        "import torch\n",
        "\n",
        "\n",
        "class AverageMeter(object):\n",
        "    \"\"\"Computes and stores the average and current value\"\"\"\n",
        "\n",
        "    def __init__(self):\n",
        "        self.reset()\n",
        "\n",
        "    def reset(self):\n",
        "        self.val = 0\n",
        "        self.avg = 0\n",
        "        self.sum = 0\n",
        "        self.count = 0\n",
        "\n",
        "    def update(self, val, n=1):\n",
        "        self.val = val\n",
        "        self.sum += val * n\n",
        "        self.count += n\n",
        "        self.avg = self.sum / self.count\n",
        "\n",
        "\n",
        "def iou_score(output, target):\n",
        "    smooth = 1e-5\n",
        "\n",
        "    if torch.is_tensor(output):\n",
        "        output = torch.sigmoid(output).data.cpu().numpy()\n",
        "    if torch.is_tensor(target):\n",
        "        target = target.data.cpu().numpy()\n",
        "    output_ = output > 0.5\n",
        "    target_ = target > 0.5\n",
        "    intersection = (output_ & target_).sum()\n",
        "    union = (output_ | target_).sum()\n",
        "\n",
        "    return (intersection + smooth) / (union + smooth)\n"
      ]
    },
    {
      "cell_type": "code",
      "execution_count": 8,
      "metadata": {
        "id": "yTI2b_VgzAMh"
      },
      "outputs": [],
      "source": [
        "import os\n",
        "import yaml\n",
        "import torch\n",
        "import pandas as pd\n",
        "import torch.nn as nn\n",
        "import torch.optim as optim\n",
        "\n",
        "from glob import glob\n",
        "from tqdm import tqdm\n",
        "from collections import OrderedDict\n",
        "from source.ML_Pipeline.utils import iou_score, AverageMeter\n",
        "from albumentations import Resize\n",
        "from albumentations.augmentations import transforms\n",
        "from sklearn.model_selection import train_test_split\n",
        "from albumentations.core.composition import Compose, OneOf\n",
        "from albumentations.augmentations.geometric.rotate import RandomRotate90\n",
        "from source.ML_Pipeline.network import UNetPP\n",
        "from source.ML_Pipeline.dataset import DataSet\n",
        "\n",
        "\n",
        "def train(deep_sup, train_loader, model, criterion, optimizer):\n",
        "    avg_meters = {'loss': AverageMeter(),\n",
        "                  'iou': AverageMeter()}\n",
        "\n",
        "    model.train()\n",
        "\n",
        "    pbar = tqdm(total=len(train_loader))\n",
        "    device = torch.device(\"cuda:0\" if torch.cuda.is_available() else \"cpu\")\n",
        "    for input, target, _ in train_loader:\n",
        "        input = input.to(device)\n",
        "        target = target.to(device)\n",
        "\n",
        "        # compute output\n",
        "        if deep_sup:\n",
        "            outputs = model(input)\n",
        "            loss = 0\n",
        "            for output in outputs:\n",
        "                loss += criterion(output, target)\n",
        "            loss /= len(outputs)\n",
        "            iou = iou_score(outputs[-1], target)\n",
        "        else:\n",
        "            output = model(input)\n",
        "            loss = criterion(output, target)\n",
        "            iou = iou_score(output, target)\n",
        "\n",
        "        # compute gradient and do optimizing step\n",
        "        optimizer.zero_grad()\n",
        "        loss.backward()\n",
        "        optimizer.step()\n",
        "\n",
        "        avg_meters['loss'].update(loss.item(), input.size(0))\n",
        "        avg_meters['iou'].update(iou, input.size(0))\n",
        "\n",
        "        postfix = OrderedDict([\n",
        "            ('loss', avg_meters['loss'].avg),\n",
        "            ('iou', avg_meters['iou'].avg),\n",
        "        ])\n",
        "        pbar.set_postfix(postfix)\n",
        "        pbar.update(1)\n",
        "    pbar.close()\n",
        "\n",
        "    return OrderedDict([('loss', avg_meters['loss'].avg),\n",
        "                        ('iou', avg_meters['iou'].avg)])\n",
        "\n",
        "\n",
        "def validate(deep_sup, val_loader, model, criterion):\n",
        "    avg_meters = {'loss': AverageMeter(),\n",
        "                  'iou': AverageMeter()}\n",
        "\n",
        "    # switch to evaluate mode\n",
        "    model.eval()\n",
        "    device = torch.device(\"cuda:0\" if torch.cuda.is_available() else \"cpu\")\n",
        "\n",
        "    with torch.no_grad():\n",
        "        pbar = tqdm(total=len(val_loader))\n",
        "        for input, target, _ in val_loader:\n",
        "            input = input.to(device)\n",
        "            target = target.to(device)\n",
        "\n",
        "            # compute output\n",
        "            if deep_sup:\n",
        "                outputs = model(input)\n",
        "                loss = 0\n",
        "                for output in outputs:\n",
        "                    loss += criterion(output, target)\n",
        "                loss /= len(outputs)\n",
        "                iou = iou_score(outputs[-1], target)\n",
        "            else:\n",
        "                output = model(input)\n",
        "                loss = criterion(output, target)\n",
        "                iou = iou_score(output, target)\n",
        "\n",
        "            avg_meters['loss'].update(loss.item(), input.size(0))\n",
        "            avg_meters['iou'].update(iou, input.size(0))\n",
        "\n",
        "            postfix = OrderedDict([\n",
        "                ('loss', avg_meters['loss'].avg),\n",
        "                ('iou', avg_meters['iou'].avg),\n",
        "            ])\n",
        "            pbar.set_postfix(postfix)\n",
        "            pbar.update(1)\n",
        "        pbar.close()\n",
        "\n",
        "    return OrderedDict([('loss', avg_meters['loss'].avg),\n",
        "                        ('iou', avg_meters['iou'].avg)])\n"
      ]
    },
    {
      "cell_type": "code",
      "execution_count": 9,
      "metadata": {
        "id": "lceMy9nkzAMj"
      },
      "outputs": [],
      "source": [
        "import cv2\n",
        "import yaml\n",
        "import torch\n",
        "import numpy as np\n",
        "import matplotlib.pyplot as plt\n",
        "\n",
        "from source.ML_Pipeline.network import UNetPP\n",
        "from argparse import ArgumentParser\n",
        "import albumentations as A\n",
        "from albumentations.augmentations import transforms\n",
        "from albumentations.core.composition import Compose\n",
        "\n",
        "\n",
        "val_transform = Compose([\n",
        "    A.Resize(256, 256),\n",
        "    transforms.Normalize(),\n",
        "])\n",
        "\n",
        "\n",
        "def image_loader(image_name):\n",
        "    img = cv2.imread(image_name)\n",
        "    img = val_transform(image=img)[\"image\"]\n",
        "    img = img.astype('float32') / 255\n",
        "    img = img.transpose(2, 0, 1)\n",
        "\n",
        "    return img"
      ]
    },
    {
      "cell_type": "code",
      "execution_count": 10,
      "metadata": {
        "id": "BSe8NZn1zAMk"
      },
      "outputs": [],
      "source": [
        "with open(\"source/config.yaml\") as f:\n",
        "    config = yaml.safe_load(f)\n",
        "\n",
        "extn = config[\"extn\"]\n",
        "epochs = config[\"epochs\"]\n",
        "log_path = config[\"log_path\"]\n",
        "mask_path = config[\"mask_path\"]\n",
        "image_path = config[\"image_path\"]\n",
        "model_path = config[\"model_path\"]"
      ]
    },
    {
      "cell_type": "markdown",
      "metadata": {
        "id": "FpzVIBLBzAMl"
      },
      "source": [
        "## Create log file"
      ]
    },
    {
      "cell_type": "code",
      "execution_count": 11,
      "metadata": {
        "id": "72j54fOJzAMq"
      },
      "outputs": [],
      "source": [
        "log = OrderedDict([\n",
        "    ('epoch', []),\n",
        "    ('loss', []),\n",
        "    ('iou', []),\n",
        "    ('val_loss', []),\n",
        "    ('val_iou', []),\n",
        "])\n",
        "\n",
        "best_iou = 0\n",
        "trigger = 0"
      ]
    },
    {
      "cell_type": "markdown",
      "metadata": {
        "id": "XVLfAS6FzAMr"
      },
      "source": [
        "## Split images into train and validation set"
      ]
    },
    {
      "cell_type": "code",
      "execution_count": 12,
      "metadata": {
        "id": "SLFoqvFzzAMu"
      },
      "outputs": [],
      "source": [
        "import glob\n",
        "\n",
        "extn_ = f\"*{extn}\"\n",
        "img_ids = glob.glob(os.path.join(image_path, extn_))\n",
        "img_ids = [os.path.splitext(os.path.basename(p))[0] for p in img_ids]\n",
        "train_img_ids, val_img_ids = train_test_split(img_ids, test_size=0.2)"
      ]
    },
    {
      "cell_type": "markdown",
      "metadata": {
        "id": "vtbS2GHdzAMv"
      },
      "source": [
        "## Define data transformations"
      ]
    },
    {
      "cell_type": "code",
      "execution_count": 13,
      "metadata": {
        "id": "0o5n0QfQzAMw",
        "colab": {
          "base_uri": "https://localhost:8080/"
        },
        "outputId": "9870b4f8-0d98-4a94-c547-b947e96f0b36"
      },
      "outputs": [
        {
          "output_type": "stream",
          "name": "stderr",
          "text": [
            "/usr/local/lib/python3.8/dist-packages/albumentations/augmentations/transforms.py:1613: FutureWarning: This class has been deprecated. Please use RandomBrightnessContrast\n",
            "  warnings.warn(\n"
          ]
        }
      ],
      "source": [
        "train_transform = Compose([\n",
        "    A.RandomRotate90(),\n",
        "    transforms.Flip(),\n",
        "    OneOf([\n",
        "        transforms.HueSaturationValue(),\n",
        "        transforms.RandomBrightness(),\n",
        "        transforms.RandomBrightnessContrast(),\n",
        "    ], p=1),\n",
        "    A.Resize(256, 256),\n",
        "    transforms.Normalize(),\n",
        "])\n",
        "\n",
        "val_transform = Compose([\n",
        "    A.Resize(256, 256),\n",
        "    transforms.Normalize(),\n",
        "])"
      ]
    },
    {
      "cell_type": "markdown",
      "metadata": {
        "id": "RljLVv8uzAMx"
      },
      "source": [
        "## Create train and validation dataset"
      ]
    },
    {
      "cell_type": "code",
      "execution_count": 14,
      "metadata": {
        "id": "4kva2Z4czAMx"
      },
      "outputs": [],
      "source": [
        "train_dataset = DataSet(\n",
        "    img_ids=train_img_ids,\n",
        "    img_dir=image_path,\n",
        "    mask_dir=mask_path,\n",
        "    img_ext=extn,\n",
        "    mask_ext=extn,\n",
        "    transform=train_transform)\n",
        "\n",
        "val_dataset = DataSet(\n",
        "    img_ids=val_img_ids,\n",
        "    img_dir=image_path,\n",
        "    mask_dir=mask_path,\n",
        "    img_ext=extn,\n",
        "    mask_ext=extn,\n",
        "    transform=val_transform)"
      ]
    },
    {
      "cell_type": "markdown",
      "metadata": {
        "id": "YID1nmlXzAMy"
      },
      "source": [
        "## Create train and validation data loaders"
      ]
    },
    {
      "cell_type": "code",
      "execution_count": 15,
      "metadata": {
        "id": "r5UMuSjVzAMy"
      },
      "outputs": [],
      "source": [
        "train_loader = torch.utils.data.DataLoader(\n",
        "    train_dataset,\n",
        "    batch_size=16,\n",
        "    shuffle=True,\n",
        "    drop_last=True)\n",
        "\n",
        "val_loader = torch.utils.data.DataLoader(\n",
        "    val_dataset,\n",
        "    batch_size=16,\n",
        "    shuffle=False,\n",
        "    drop_last=False)"
      ]
    },
    {
      "cell_type": "markdown",
      "metadata": {
        "id": "XEWdhhC2zAMz"
      },
      "source": [
        "## Create the model object"
      ]
    },
    {
      "cell_type": "code",
      "execution_count": 16,
      "metadata": {
        "id": "EXgCj4mIzAMz"
      },
      "outputs": [],
      "source": [
        "# Create model object\n",
        "model = UNetPP(1, 3, True)\n",
        "\n",
        "# Port model to GPU if it is available\n",
        "if torch.cuda.is_available():\n",
        "    model.cuda()\n",
        "    \n",
        "# Define Loss Function\n",
        "criterion = nn.BCEWithLogitsLoss()\n",
        "params = filter(lambda p: p.requires_grad, model.parameters())\n",
        "\n",
        "# Define Optimizer\n",
        "optimizer = optim.Adam(params, lr=1e-3, weight_decay=1e-4)"
      ]
    },
    {
      "cell_type": "markdown",
      "metadata": {
        "id": "cBf7X0YvzAM0"
      },
      "source": [
        "## Run the train loop"
      ]
    },
    {
      "cell_type": "code",
      "execution_count": 17,
      "metadata": {
        "id": "tzp0vYvSzAM0",
        "colab": {
          "base_uri": "https://localhost:8080/"
        },
        "outputId": "364271c0-756b-4426-cb1f-4a2a19f43891"
      },
      "outputs": [
        {
          "metadata": {
            "tags": null
          },
          "name": "stdout",
          "output_type": "stream",
          "text": [
            "Epoch [0/300]\n"
          ]
        },
        {
          "metadata": {
            "tags": null
          },
          "name": "stderr",
          "output_type": "stream",
          "text": [
            "100%|██████████| 30/30 [07:30<00:00, 15.00s/it, loss=0.506, iou=0.0814]\n",
            "100%|██████████| 8/8 [01:44<00:00, 13.12s/it, loss=0.544, iou=0.000173]\n"
          ]
        },
        {
          "metadata": {
            "tags": null
          },
          "name": "stdout",
          "output_type": "stream",
          "text": [
            "loss 0.5062 - iou 0.0814 - val_loss 0.5442 - val_iou 0.0002\n",
            "=> saved best model\n",
            "Epoch [1/300]\n"
          ]
        },
        {
          "metadata": {
            "tags": null
          },
          "name": "stderr",
          "output_type": "stream",
          "text": [
            "100%|██████████| 30/30 [00:44<00:00,  1.50s/it, loss=0.381, iou=0.0079]\n",
            "100%|██████████| 8/8 [00:03<00:00,  2.04it/s, loss=0.367, iou=1.28e-10]\n"
          ]
        },
        {
          "metadata": {
            "tags": null
          },
          "name": "stdout",
          "output_type": "stream",
          "text": [
            "loss 0.3810 - iou 0.0079 - val_loss 0.3673 - val_iou 0.0000\n",
            "Epoch [2/300]\n"
          ]
        },
        {
          "metadata": {
            "tags": null
          },
          "name": "stderr",
          "output_type": "stream",
          "text": [
            "100%|██████████| 30/30 [00:36<00:00,  1.23s/it, loss=0.329, iou=0.0122]\n",
            "100%|██████████| 8/8 [00:03<00:00,  2.07it/s, loss=0.336, iou=1.28e-10]\n"
          ]
        },
        {
          "metadata": {
            "tags": null
          },
          "name": "stdout",
          "output_type": "stream",
          "text": [
            "loss 0.3289 - iou 0.0122 - val_loss 0.3363 - val_iou 0.0000\n",
            "Epoch [3/300]\n"
          ]
        },
        {
          "metadata": {
            "tags": null
          },
          "name": "stderr",
          "output_type": "stream",
          "text": [
            "100%|██████████| 30/30 [00:37<00:00,  1.24s/it, loss=0.296, iou=0.0121]\n",
            "100%|██████████| 8/8 [00:03<00:00,  2.08it/s, loss=0.353, iou=0.00239]\n"
          ]
        },
        {
          "metadata": {
            "tags": null
          },
          "name": "stdout",
          "output_type": "stream",
          "text": [
            "loss 0.2965 - iou 0.0121 - val_loss 0.3531 - val_iou 0.0024\n",
            "=> saved best model\n",
            "Epoch [4/300]\n"
          ]
        },
        {
          "metadata": {
            "tags": null
          },
          "name": "stderr",
          "output_type": "stream",
          "text": [
            "100%|██████████| 30/30 [00:37<00:00,  1.23s/it, loss=0.277, iou=0.00549]\n",
            "100%|██████████| 8/8 [00:03<00:00,  2.07it/s, loss=0.316, iou=0.0241]\n"
          ]
        },
        {
          "metadata": {
            "tags": null
          },
          "name": "stdout",
          "output_type": "stream",
          "text": [
            "loss 0.2767 - iou 0.0055 - val_loss 0.3156 - val_iou 0.0241\n",
            "=> saved best model\n",
            "Epoch [5/300]\n"
          ]
        },
        {
          "metadata": {
            "tags": null
          },
          "name": "stderr",
          "output_type": "stream",
          "text": [
            "100%|██████████| 30/30 [00:37<00:00,  1.24s/it, loss=0.271, iou=0.0141]\n",
            "100%|██████████| 8/8 [00:03<00:00,  2.07it/s, loss=0.26, iou=1.28e-10]\n"
          ]
        },
        {
          "metadata": {
            "tags": null
          },
          "name": "stdout",
          "output_type": "stream",
          "text": [
            "loss 0.2709 - iou 0.0141 - val_loss 0.2604 - val_iou 0.0000\n",
            "Epoch [6/300]\n"
          ]
        },
        {
          "metadata": {
            "tags": null
          },
          "name": "stderr",
          "output_type": "stream",
          "text": [
            "100%|██████████| 30/30 [00:37<00:00,  1.24s/it, loss=0.261, iou=0.000341]\n",
            "100%|██████████| 8/8 [00:03<00:00,  2.01it/s, loss=0.243, iou=1.28e-10]\n"
          ]
        },
        {
          "metadata": {
            "tags": null
          },
          "name": "stdout",
          "output_type": "stream",
          "text": [
            "loss 0.2608 - iou 0.0003 - val_loss 0.2432 - val_iou 0.0000\n",
            "Epoch [7/300]\n"
          ]
        },
        {
          "metadata": {
            "tags": null
          },
          "name": "stderr",
          "output_type": "stream",
          "text": [
            "100%|██████████| 30/30 [00:37<00:00,  1.24s/it, loss=0.261, iou=0.000136]\n",
            "100%|██████████| 8/8 [00:04<00:00,  1.97it/s, loss=0.244, iou=1.28e-10]\n"
          ]
        },
        {
          "metadata": {
            "tags": null
          },
          "name": "stdout",
          "output_type": "stream",
          "text": [
            "loss 0.2611 - iou 0.0001 - val_loss 0.2442 - val_iou 0.0000\n",
            "Epoch [8/300]\n"
          ]
        },
        {
          "metadata": {
            "tags": null
          },
          "name": "stderr",
          "output_type": "stream",
          "text": [
            "100%|██████████| 30/30 [00:36<00:00,  1.22s/it, loss=0.255, iou=0.000362]\n",
            "100%|██████████| 8/8 [00:04<00:00,  1.94it/s, loss=0.281, iou=1.28e-10]\n"
          ]
        },
        {
          "metadata": {
            "tags": null
          },
          "name": "stdout",
          "output_type": "stream",
          "text": [
            "loss 0.2549 - iou 0.0004 - val_loss 0.2815 - val_iou 0.0000\n",
            "Epoch [9/300]\n"
          ]
        },
        {
          "metadata": {
            "tags": null
          },
          "name": "stderr",
          "output_type": "stream",
          "text": [
            "100%|██████████| 30/30 [00:36<00:00,  1.23s/it, loss=0.249, iou=0.00112]\n",
            "100%|██████████| 8/8 [00:04<00:00,  1.90it/s, loss=0.284, iou=1.28e-10]\n"
          ]
        },
        {
          "metadata": {
            "tags": null
          },
          "name": "stdout",
          "output_type": "stream",
          "text": [
            "loss 0.2486 - iou 0.0011 - val_loss 0.2837 - val_iou 0.0000\n",
            "Epoch [10/300]\n"
          ]
        },
        {
          "metadata": {
            "tags": null
          },
          "name": "stderr",
          "output_type": "stream",
          "text": [
            "100%|██████████| 30/30 [00:36<00:00,  1.23s/it, loss=0.246, iou=0.0196]\n",
            "100%|██████████| 8/8 [00:04<00:00,  1.90it/s, loss=0.248, iou=1.28e-10]\n"
          ]
        },
        {
          "metadata": {
            "tags": null
          },
          "name": "stdout",
          "output_type": "stream",
          "text": [
            "loss 0.2462 - iou 0.0196 - val_loss 0.2482 - val_iou 0.0000\n",
            "Epoch [11/300]\n"
          ]
        },
        {
          "metadata": {
            "tags": null
          },
          "name": "stderr",
          "output_type": "stream",
          "text": [
            "100%|██████████| 30/30 [00:36<00:00,  1.23s/it, loss=0.249, iou=0.00281]\n",
            "100%|██████████| 8/8 [00:04<00:00,  1.96it/s, loss=0.245, iou=1.28e-10]\n"
          ]
        },
        {
          "metadata": {
            "tags": null
          },
          "name": "stdout",
          "output_type": "stream",
          "text": [
            "loss 0.2486 - iou 0.0028 - val_loss 0.2452 - val_iou 0.0000\n",
            "Epoch [12/300]\n"
          ]
        },
        {
          "metadata": {
            "tags": null
          },
          "name": "stderr",
          "output_type": "stream",
          "text": [
            "100%|██████████| 30/30 [00:37<00:00,  1.23s/it, loss=0.242, iou=0.068]\n",
            "100%|██████████| 8/8 [00:03<00:00,  2.00it/s, loss=0.234, iou=0.0157]\n"
          ]
        },
        {
          "metadata": {
            "tags": null
          },
          "name": "stdout",
          "output_type": "stream",
          "text": [
            "loss 0.2424 - iou 0.0680 - val_loss 0.2336 - val_iou 0.0157\n",
            "Epoch [13/300]\n"
          ]
        },
        {
          "metadata": {
            "tags": null
          },
          "name": "stderr",
          "output_type": "stream",
          "text": [
            "100%|██████████| 30/30 [00:36<00:00,  1.23s/it, loss=0.239, iou=0.0861]\n",
            "100%|██████████| 8/8 [00:03<00:00,  2.02it/s, loss=0.242, iou=0.124]\n"
          ]
        },
        {
          "metadata": {
            "tags": null
          },
          "name": "stdout",
          "output_type": "stream",
          "text": [
            "loss 0.2386 - iou 0.0861 - val_loss 0.2420 - val_iou 0.1235\n",
            "=> saved best model\n",
            "Epoch [14/300]\n"
          ]
        },
        {
          "metadata": {
            "tags": null
          },
          "name": "stderr",
          "output_type": "stream",
          "text": [
            "100%|██████████| 30/30 [00:36<00:00,  1.23s/it, loss=0.241, iou=0.0841]\n",
            "100%|██████████| 8/8 [00:03<00:00,  2.06it/s, loss=0.235, iou=1.28e-10]\n"
          ]
        },
        {
          "metadata": {
            "tags": null
          },
          "name": "stdout",
          "output_type": "stream",
          "text": [
            "loss 0.2411 - iou 0.0841 - val_loss 0.2353 - val_iou 0.0000\n",
            "Epoch [15/300]\n"
          ]
        },
        {
          "metadata": {
            "tags": null
          },
          "name": "stderr",
          "output_type": "stream",
          "text": [
            "100%|██████████| 30/30 [00:37<00:00,  1.23s/it, loss=0.242, iou=0.0711]\n",
            "100%|██████████| 8/8 [00:03<00:00,  2.06it/s, loss=0.224, iou=0.0232]\n"
          ]
        },
        {
          "metadata": {
            "tags": null
          },
          "name": "stdout",
          "output_type": "stream",
          "text": [
            "loss 0.2415 - iou 0.0711 - val_loss 0.2241 - val_iou 0.0232\n",
            "Epoch [16/300]\n"
          ]
        },
        {
          "metadata": {
            "tags": null
          },
          "name": "stderr",
          "output_type": "stream",
          "text": [
            "100%|██████████| 30/30 [00:37<00:00,  1.24s/it, loss=0.236, iou=0.14]\n",
            "100%|██████████| 8/8 [00:03<00:00,  2.03it/s, loss=0.252, iou=0.227]\n"
          ]
        },
        {
          "metadata": {
            "tags": null
          },
          "name": "stdout",
          "output_type": "stream",
          "text": [
            "loss 0.2358 - iou 0.1395 - val_loss 0.2523 - val_iou 0.2265\n",
            "=> saved best model\n",
            "Epoch [17/300]\n"
          ]
        },
        {
          "metadata": {
            "tags": null
          },
          "name": "stderr",
          "output_type": "stream",
          "text": [
            "100%|██████████| 30/30 [00:37<00:00,  1.24s/it, loss=0.234, iou=0.113]\n",
            "100%|██████████| 8/8 [00:03<00:00,  2.04it/s, loss=0.226, iou=0.0978]\n"
          ]
        },
        {
          "metadata": {
            "tags": null
          },
          "name": "stdout",
          "output_type": "stream",
          "text": [
            "loss 0.2338 - iou 0.1129 - val_loss 0.2261 - val_iou 0.0978\n",
            "Epoch [18/300]\n"
          ]
        },
        {
          "metadata": {
            "tags": null
          },
          "name": "stderr",
          "output_type": "stream",
          "text": [
            "100%|██████████| 30/30 [00:37<00:00,  1.24s/it, loss=0.231, iou=0.174]\n",
            "100%|██████████| 8/8 [00:03<00:00,  2.06it/s, loss=0.385, iou=0.155]\n"
          ]
        },
        {
          "metadata": {
            "tags": null
          },
          "name": "stdout",
          "output_type": "stream",
          "text": [
            "loss 0.2306 - iou 0.1745 - val_loss 0.3851 - val_iou 0.1554\n",
            "Epoch [19/300]\n"
          ]
        },
        {
          "metadata": {
            "tags": null
          },
          "name": "stderr",
          "output_type": "stream",
          "text": [
            "100%|██████████| 30/30 [00:37<00:00,  1.24s/it, loss=0.227, iou=0.22]\n",
            "100%|██████████| 8/8 [00:03<00:00,  2.05it/s, loss=0.299, iou=0.257]\n"
          ]
        },
        {
          "metadata": {
            "tags": null
          },
          "name": "stdout",
          "output_type": "stream",
          "text": [
            "loss 0.2267 - iou 0.2202 - val_loss 0.2995 - val_iou 0.2573\n",
            "=> saved best model\n",
            "Epoch [20/300]\n"
          ]
        },
        {
          "metadata": {
            "tags": null
          },
          "name": "stderr",
          "output_type": "stream",
          "text": [
            "100%|██████████| 30/30 [00:37<00:00,  1.24s/it, loss=0.235, iou=0.149]\n",
            "100%|██████████| 8/8 [00:03<00:00,  2.08it/s, loss=0.249, iou=1.28e-10]\n"
          ]
        },
        {
          "metadata": {
            "tags": null
          },
          "name": "stdout",
          "output_type": "stream",
          "text": [
            "loss 0.2352 - iou 0.1491 - val_loss 0.2485 - val_iou 0.0000\n",
            "Epoch [21/300]\n"
          ]
        },
        {
          "metadata": {
            "tags": null
          },
          "name": "stderr",
          "output_type": "stream",
          "text": [
            "100%|██████████| 30/30 [00:37<00:00,  1.24s/it, loss=0.226, iou=0.18]\n",
            "100%|██████████| 8/8 [00:03<00:00,  2.09it/s, loss=0.467, iou=0.161]\n"
          ]
        },
        {
          "metadata": {
            "tags": null
          },
          "name": "stdout",
          "output_type": "stream",
          "text": [
            "loss 0.2257 - iou 0.1796 - val_loss 0.4674 - val_iou 0.1613\n",
            "Epoch [22/300]\n"
          ]
        },
        {
          "metadata": {
            "tags": null
          },
          "name": "stderr",
          "output_type": "stream",
          "text": [
            "100%|██████████| 30/30 [00:37<00:00,  1.24s/it, loss=0.226, iou=0.234]\n",
            "100%|██████████| 8/8 [00:03<00:00,  2.07it/s, loss=0.27, iou=1.28e-10]\n"
          ]
        },
        {
          "metadata": {
            "tags": null
          },
          "name": "stdout",
          "output_type": "stream",
          "text": [
            "loss 0.2257 - iou 0.2338 - val_loss 0.2705 - val_iou 0.0000\n",
            "Epoch [23/300]\n"
          ]
        },
        {
          "metadata": {
            "tags": null
          },
          "name": "stderr",
          "output_type": "stream",
          "text": [
            "100%|██████████| 30/30 [00:37<00:00,  1.24s/it, loss=0.23, iou=0.207]\n",
            "100%|██████████| 8/8 [00:03<00:00,  2.05it/s, loss=0.233, iou=0.19]\n"
          ]
        },
        {
          "metadata": {
            "tags": null
          },
          "name": "stdout",
          "output_type": "stream",
          "text": [
            "loss 0.2299 - iou 0.2069 - val_loss 0.2332 - val_iou 0.1902\n",
            "Epoch [24/300]\n"
          ]
        },
        {
          "metadata": {
            "tags": null
          },
          "name": "stderr",
          "output_type": "stream",
          "text": [
            "100%|██████████| 30/30 [00:37<00:00,  1.24s/it, loss=0.228, iou=0.225]\n",
            "100%|██████████| 8/8 [00:03<00:00,  2.03it/s, loss=0.258, iou=1.28e-10]\n"
          ]
        },
        {
          "metadata": {
            "tags": null
          },
          "name": "stdout",
          "output_type": "stream",
          "text": [
            "loss 0.2280 - iou 0.2254 - val_loss 0.2577 - val_iou 0.0000\n",
            "Epoch [25/300]\n"
          ]
        },
        {
          "metadata": {
            "tags": null
          },
          "name": "stderr",
          "output_type": "stream",
          "text": [
            "100%|██████████| 30/30 [00:37<00:00,  1.24s/it, loss=0.22, iou=0.265]\n",
            "100%|██████████| 8/8 [00:04<00:00,  1.97it/s, loss=0.222, iou=0.0234]\n"
          ]
        },
        {
          "metadata": {
            "tags": null
          },
          "name": "stdout",
          "output_type": "stream",
          "text": [
            "loss 0.2198 - iou 0.2647 - val_loss 0.2223 - val_iou 0.0234\n",
            "Epoch [26/300]\n"
          ]
        },
        {
          "metadata": {
            "tags": null
          },
          "name": "stderr",
          "output_type": "stream",
          "text": [
            "100%|██████████| 30/30 [00:36<00:00,  1.23s/it, loss=0.223, iou=0.209]\n",
            "100%|██████████| 8/8 [00:04<00:00,  1.95it/s, loss=0.328, iou=0.211]\n"
          ]
        },
        {
          "metadata": {
            "tags": null
          },
          "name": "stdout",
          "output_type": "stream",
          "text": [
            "loss 0.2227 - iou 0.2092 - val_loss 0.3283 - val_iou 0.2113\n",
            "Epoch [27/300]\n"
          ]
        },
        {
          "metadata": {
            "tags": null
          },
          "name": "stderr",
          "output_type": "stream",
          "text": [
            "100%|██████████| 30/30 [00:36<00:00,  1.23s/it, loss=0.22, iou=0.265]\n",
            "100%|██████████| 8/8 [00:04<00:00,  1.89it/s, loss=0.249, iou=1.28e-10]\n"
          ]
        },
        {
          "metadata": {
            "tags": null
          },
          "name": "stdout",
          "output_type": "stream",
          "text": [
            "loss 0.2196 - iou 0.2647 - val_loss 0.2487 - val_iou 0.0000\n",
            "Epoch [28/300]\n"
          ]
        },
        {
          "metadata": {
            "tags": null
          },
          "name": "stderr",
          "output_type": "stream",
          "text": [
            "100%|██████████| 30/30 [00:37<00:00,  1.24s/it, loss=0.217, iou=0.294]\n",
            "100%|██████████| 8/8 [00:04<00:00,  1.91it/s, loss=0.493, iou=0.246]\n"
          ]
        },
        {
          "metadata": {
            "tags": null
          },
          "name": "stdout",
          "output_type": "stream",
          "text": [
            "loss 0.2175 - iou 0.2940 - val_loss 0.4931 - val_iou 0.2456\n",
            "Epoch [29/300]\n"
          ]
        },
        {
          "metadata": {
            "tags": null
          },
          "name": "stderr",
          "output_type": "stream",
          "text": [
            "100%|██████████| 30/30 [00:36<00:00,  1.23s/it, loss=0.212, iou=0.301]\n",
            "100%|██████████| 8/8 [00:04<00:00,  1.94it/s, loss=0.257, iou=1.28e-10]\n"
          ]
        },
        {
          "metadata": {
            "tags": null
          },
          "name": "stdout",
          "output_type": "stream",
          "text": [
            "loss 0.2116 - iou 0.3012 - val_loss 0.2570 - val_iou 0.0000\n",
            "Epoch [30/300]\n"
          ]
        },
        {
          "metadata": {
            "tags": null
          },
          "name": "stderr",
          "output_type": "stream",
          "text": [
            "100%|██████████| 30/30 [00:36<00:00,  1.23s/it, loss=0.221, iou=0.251]\n",
            "100%|██████████| 8/8 [00:04<00:00,  1.98it/s, loss=0.26, iou=0.0501]\n"
          ]
        },
        {
          "metadata": {
            "tags": null
          },
          "name": "stdout",
          "output_type": "stream",
          "text": [
            "loss 0.2215 - iou 0.2513 - val_loss 0.2602 - val_iou 0.0501\n",
            "Epoch [31/300]\n"
          ]
        },
        {
          "metadata": {
            "tags": null
          },
          "name": "stderr",
          "output_type": "stream",
          "text": [
            "100%|██████████| 30/30 [00:36<00:00,  1.23s/it, loss=0.215, iou=0.312]\n",
            "100%|██████████| 8/8 [00:03<00:00,  2.02it/s, loss=0.208, iou=0.324]\n"
          ]
        },
        {
          "metadata": {
            "tags": null
          },
          "name": "stdout",
          "output_type": "stream",
          "text": [
            "loss 0.2146 - iou 0.3120 - val_loss 0.2076 - val_iou 0.3238\n",
            "=> saved best model\n",
            "Epoch [32/300]\n"
          ]
        },
        {
          "metadata": {
            "tags": null
          },
          "name": "stderr",
          "output_type": "stream",
          "text": [
            "100%|██████████| 30/30 [00:37<00:00,  1.24s/it, loss=0.213, iou=0.304]\n",
            "100%|██████████| 8/8 [00:03<00:00,  2.03it/s, loss=0.659, iou=0.151]\n"
          ]
        },
        {
          "metadata": {
            "tags": null
          },
          "name": "stdout",
          "output_type": "stream",
          "text": [
            "loss 0.2128 - iou 0.3040 - val_loss 0.6587 - val_iou 0.1508\n",
            "Epoch [33/300]\n"
          ]
        },
        {
          "metadata": {
            "tags": null
          },
          "name": "stderr",
          "output_type": "stream",
          "text": [
            "100%|██████████| 30/30 [00:37<00:00,  1.24s/it, loss=0.215, iou=0.295]\n",
            "100%|██████████| 8/8 [00:03<00:00,  2.06it/s, loss=0.257, iou=0.121]\n"
          ]
        },
        {
          "metadata": {
            "tags": null
          },
          "name": "stdout",
          "output_type": "stream",
          "text": [
            "loss 0.2152 - iou 0.2952 - val_loss 0.2572 - val_iou 0.1207\n",
            "Epoch [34/300]\n"
          ]
        },
        {
          "metadata": {
            "tags": null
          },
          "name": "stderr",
          "output_type": "stream",
          "text": [
            "100%|██████████| 30/30 [00:37<00:00,  1.24s/it, loss=0.213, iou=0.318]\n",
            "100%|██████████| 8/8 [00:03<00:00,  2.07it/s, loss=0.27, iou=1.28e-10]\n"
          ]
        },
        {
          "metadata": {
            "tags": null
          },
          "name": "stdout",
          "output_type": "stream",
          "text": [
            "loss 0.2134 - iou 0.3180 - val_loss 0.2702 - val_iou 0.0000\n",
            "Epoch [35/300]\n"
          ]
        },
        {
          "metadata": {
            "tags": null
          },
          "name": "stderr",
          "output_type": "stream",
          "text": [
            "100%|██████████| 30/30 [00:37<00:00,  1.24s/it, loss=0.21, iou=0.335]\n",
            "100%|██████████| 8/8 [00:03<00:00,  2.06it/s, loss=0.249, iou=0.00126]\n"
          ]
        },
        {
          "metadata": {
            "tags": null
          },
          "name": "stdout",
          "output_type": "stream",
          "text": [
            "loss 0.2101 - iou 0.3349 - val_loss 0.2489 - val_iou 0.0013\n",
            "Epoch [36/300]\n"
          ]
        },
        {
          "metadata": {
            "tags": null
          },
          "name": "stderr",
          "output_type": "stream",
          "text": [
            "100%|██████████| 30/30 [00:36<00:00,  1.23s/it, loss=0.207, iou=0.351]\n",
            "100%|██████████| 8/8 [00:03<00:00,  2.06it/s, loss=0.242, iou=0.00236]\n"
          ]
        },
        {
          "metadata": {
            "tags": null
          },
          "name": "stdout",
          "output_type": "stream",
          "text": [
            "loss 0.2068 - iou 0.3507 - val_loss 0.2419 - val_iou 0.0024\n",
            "Epoch [37/300]\n"
          ]
        },
        {
          "metadata": {
            "tags": null
          },
          "name": "stderr",
          "output_type": "stream",
          "text": [
            "100%|██████████| 30/30 [00:37<00:00,  1.24s/it, loss=0.208, iou=0.371]\n",
            "100%|██████████| 8/8 [00:03<00:00,  2.04it/s, loss=0.7, iou=0.149]\n"
          ]
        },
        {
          "metadata": {
            "tags": null
          },
          "name": "stdout",
          "output_type": "stream",
          "text": [
            "loss 0.2079 - iou 0.3712 - val_loss 0.7002 - val_iou 0.1493\n",
            "Epoch [38/300]\n"
          ]
        },
        {
          "metadata": {
            "tags": null
          },
          "name": "stderr",
          "output_type": "stream",
          "text": [
            "100%|██████████| 30/30 [00:37<00:00,  1.24s/it, loss=0.205, iou=0.381]\n",
            "100%|██████████| 8/8 [00:03<00:00,  2.05it/s, loss=0.247, iou=1.28e-10]\n"
          ]
        },
        {
          "metadata": {
            "tags": null
          },
          "name": "stdout",
          "output_type": "stream",
          "text": [
            "loss 0.2053 - iou 0.3806 - val_loss 0.2474 - val_iou 0.0000\n",
            "Epoch [39/300]\n"
          ]
        },
        {
          "metadata": {
            "tags": null
          },
          "name": "stderr",
          "output_type": "stream",
          "text": [
            "100%|██████████| 30/30 [00:37<00:00,  1.23s/it, loss=0.206, iou=0.353]\n",
            "100%|██████████| 8/8 [00:03<00:00,  2.06it/s, loss=0.338, iou=1.28e-10]\n"
          ]
        },
        {
          "metadata": {
            "tags": null
          },
          "name": "stdout",
          "output_type": "stream",
          "text": [
            "loss 0.2062 - iou 0.3531 - val_loss 0.3380 - val_iou 0.0000\n",
            "Epoch [40/300]\n"
          ]
        },
        {
          "metadata": {
            "tags": null
          },
          "name": "stderr",
          "output_type": "stream",
          "text": [
            "100%|██████████| 30/30 [00:37<00:00,  1.24s/it, loss=0.2, iou=0.408]\n",
            "100%|██████████| 8/8 [00:03<00:00,  2.06it/s, loss=0.248, iou=0.0539]\n"
          ]
        },
        {
          "metadata": {
            "tags": null
          },
          "name": "stdout",
          "output_type": "stream",
          "text": [
            "loss 0.2004 - iou 0.4077 - val_loss 0.2485 - val_iou 0.0539\n",
            "Epoch [41/300]\n"
          ]
        },
        {
          "metadata": {
            "tags": null
          },
          "name": "stderr",
          "output_type": "stream",
          "text": [
            "100%|██████████| 30/30 [00:37<00:00,  1.23s/it, loss=0.201, iou=0.388]\n",
            "100%|██████████| 8/8 [00:03<00:00,  2.07it/s, loss=0.26, iou=1.28e-10]\n"
          ]
        },
        {
          "metadata": {
            "tags": null
          },
          "name": "stdout",
          "output_type": "stream",
          "text": [
            "loss 0.2012 - iou 0.3878 - val_loss 0.2598 - val_iou 0.0000\n",
            "Epoch [42/300]\n"
          ]
        },
        {
          "metadata": {
            "tags": null
          },
          "name": "stderr",
          "output_type": "stream",
          "text": [
            "100%|██████████| 30/30 [00:37<00:00,  1.24s/it, loss=0.195, iou=0.413]\n",
            "100%|██████████| 8/8 [00:03<00:00,  2.02it/s, loss=0.224, iou=0.0743]\n"
          ]
        },
        {
          "metadata": {
            "tags": null
          },
          "name": "stdout",
          "output_type": "stream",
          "text": [
            "loss 0.1953 - iou 0.4132 - val_loss 0.2241 - val_iou 0.0743\n",
            "Epoch [43/300]\n"
          ]
        },
        {
          "metadata": {
            "tags": null
          },
          "name": "stderr",
          "output_type": "stream",
          "text": [
            "100%|██████████| 30/30 [00:37<00:00,  1.24s/it, loss=0.195, iou=0.442]\n",
            "100%|██████████| 8/8 [00:03<00:00,  2.00it/s, loss=0.268, iou=0.142]\n"
          ]
        },
        {
          "metadata": {
            "tags": null
          },
          "name": "stdout",
          "output_type": "stream",
          "text": [
            "loss 0.1946 - iou 0.4415 - val_loss 0.2684 - val_iou 0.1416\n",
            "Epoch [44/300]\n"
          ]
        },
        {
          "metadata": {
            "tags": null
          },
          "name": "stderr",
          "output_type": "stream",
          "text": [
            "100%|██████████| 30/30 [00:37<00:00,  1.24s/it, loss=0.202, iou=0.375]\n",
            "100%|██████████| 8/8 [00:04<00:00,  1.95it/s, loss=0.274, iou=1.28e-10]\n"
          ]
        },
        {
          "metadata": {
            "tags": null
          },
          "name": "stdout",
          "output_type": "stream",
          "text": [
            "loss 0.2025 - iou 0.3747 - val_loss 0.2742 - val_iou 0.0000\n",
            "Epoch [45/300]\n"
          ]
        },
        {
          "metadata": {
            "tags": null
          },
          "name": "stderr",
          "output_type": "stream",
          "text": [
            "100%|██████████| 30/30 [00:36<00:00,  1.23s/it, loss=0.196, iou=0.424]\n",
            "100%|██████████| 8/8 [00:04<00:00,  1.91it/s, loss=0.219, iou=0.118]\n"
          ]
        },
        {
          "metadata": {
            "tags": null
          },
          "name": "stdout",
          "output_type": "stream",
          "text": [
            "loss 0.1961 - iou 0.4240 - val_loss 0.2189 - val_iou 0.1182\n",
            "Epoch [46/300]\n"
          ]
        },
        {
          "metadata": {
            "tags": null
          },
          "name": "stderr",
          "output_type": "stream",
          "text": [
            "100%|██████████| 30/30 [00:36<00:00,  1.23s/it, loss=0.187, iou=0.469]\n",
            "100%|██████████| 8/8 [00:04<00:00,  1.94it/s, loss=0.278, iou=1.28e-10]\n"
          ]
        },
        {
          "metadata": {
            "tags": null
          },
          "name": "stdout",
          "output_type": "stream",
          "text": [
            "loss 0.1868 - iou 0.4694 - val_loss 0.2783 - val_iou 0.0000\n",
            "Epoch [47/300]\n"
          ]
        },
        {
          "metadata": {
            "tags": null
          },
          "name": "stderr",
          "output_type": "stream",
          "text": [
            "100%|██████████| 30/30 [00:37<00:00,  1.24s/it, loss=0.181, iou=0.48]\n",
            "100%|██████████| 8/8 [00:04<00:00,  1.94it/s, loss=0.347, iou=1.28e-10]\n"
          ]
        },
        {
          "metadata": {
            "tags": null
          },
          "name": "stdout",
          "output_type": "stream",
          "text": [
            "loss 0.1810 - iou 0.4805 - val_loss 0.3473 - val_iou 0.0000\n",
            "Epoch [48/300]\n"
          ]
        },
        {
          "metadata": {
            "tags": null
          },
          "name": "stderr",
          "output_type": "stream",
          "text": [
            "100%|██████████| 30/30 [00:36<00:00,  1.23s/it, loss=0.187, iou=0.476]\n",
            "100%|██████████| 8/8 [00:04<00:00,  1.99it/s, loss=0.279, iou=1.28e-10]\n"
          ]
        },
        {
          "metadata": {
            "tags": null
          },
          "name": "stdout",
          "output_type": "stream",
          "text": [
            "loss 0.1872 - iou 0.4756 - val_loss 0.2787 - val_iou 0.0000\n",
            "Epoch [49/300]\n"
          ]
        },
        {
          "metadata": {
            "tags": null
          },
          "name": "stderr",
          "output_type": "stream",
          "text": [
            "100%|██████████| 30/30 [00:37<00:00,  1.24s/it, loss=0.193, iou=0.444]\n",
            "100%|██████████| 8/8 [00:03<00:00,  2.03it/s, loss=0.281, iou=3.59e-6]\n"
          ]
        },
        {
          "metadata": {
            "tags": null
          },
          "name": "stdout",
          "output_type": "stream",
          "text": [
            "loss 0.1926 - iou 0.4437 - val_loss 0.2812 - val_iou 0.0000\n",
            "Epoch [50/300]\n"
          ]
        },
        {
          "metadata": {
            "tags": null
          },
          "name": "stderr",
          "output_type": "stream",
          "text": [
            "100%|██████████| 30/30 [00:37<00:00,  1.24s/it, loss=0.182, iou=0.502]\n",
            "100%|██████████| 8/8 [00:03<00:00,  2.07it/s, loss=0.281, iou=1.28e-10]\n"
          ]
        },
        {
          "metadata": {
            "tags": null
          },
          "name": "stdout",
          "output_type": "stream",
          "text": [
            "loss 0.1824 - iou 0.5018 - val_loss 0.2808 - val_iou 0.0000\n",
            "Epoch [51/300]\n"
          ]
        },
        {
          "metadata": {
            "tags": null
          },
          "name": "stderr",
          "output_type": "stream",
          "text": [
            "100%|██████████| 30/30 [00:37<00:00,  1.24s/it, loss=0.184, iou=0.489]\n",
            "100%|██████████| 8/8 [00:03<00:00,  2.06it/s, loss=0.275, iou=0.0058]\n"
          ]
        },
        {
          "metadata": {
            "tags": null
          },
          "name": "stdout",
          "output_type": "stream",
          "text": [
            "loss 0.1839 - iou 0.4891 - val_loss 0.2751 - val_iou 0.0058\n",
            "Epoch [52/300]\n"
          ]
        },
        {
          "metadata": {
            "tags": null
          },
          "name": "stderr",
          "output_type": "stream",
          "text": [
            "100%|██████████| 30/30 [00:37<00:00,  1.23s/it, loss=0.186, iou=0.482]\n",
            "100%|██████████| 8/8 [00:03<00:00,  2.05it/s, loss=0.237, iou=0.0645]\n"
          ]
        },
        {
          "metadata": {
            "tags": null
          },
          "name": "stdout",
          "output_type": "stream",
          "text": [
            "loss 0.1859 - iou 0.4819 - val_loss 0.2368 - val_iou 0.0645\n",
            "Epoch [53/300]\n"
          ]
        },
        {
          "metadata": {
            "tags": null
          },
          "name": "stderr",
          "output_type": "stream",
          "text": [
            "100%|██████████| 30/30 [00:37<00:00,  1.24s/it, loss=0.179, iou=0.505]\n",
            "100%|██████████| 8/8 [00:03<00:00,  2.06it/s, loss=0.201, iou=0.277]\n"
          ]
        },
        {
          "metadata": {
            "tags": null
          },
          "name": "stdout",
          "output_type": "stream",
          "text": [
            "loss 0.1795 - iou 0.5048 - val_loss 0.2009 - val_iou 0.2767\n",
            "Epoch [54/300]\n"
          ]
        },
        {
          "metadata": {
            "tags": null
          },
          "name": "stderr",
          "output_type": "stream",
          "text": [
            "100%|██████████| 30/30 [00:37<00:00,  1.24s/it, loss=0.181, iou=0.5]\n",
            "100%|██████████| 8/8 [00:03<00:00,  2.06it/s, loss=0.257, iou=0.0933]\n"
          ]
        },
        {
          "metadata": {
            "tags": null
          },
          "name": "stdout",
          "output_type": "stream",
          "text": [
            "loss 0.1812 - iou 0.5000 - val_loss 0.2565 - val_iou 0.0933\n",
            "Epoch [55/300]\n"
          ]
        },
        {
          "metadata": {
            "tags": null
          },
          "name": "stderr",
          "output_type": "stream",
          "text": [
            "100%|██████████| 30/30 [00:36<00:00,  1.23s/it, loss=0.177, iou=0.528]\n",
            "100%|██████████| 8/8 [00:03<00:00,  2.07it/s, loss=0.239, iou=0.102]\n"
          ]
        },
        {
          "metadata": {
            "tags": null
          },
          "name": "stdout",
          "output_type": "stream",
          "text": [
            "loss 0.1768 - iou 0.5278 - val_loss 0.2394 - val_iou 0.1022\n",
            "Epoch [56/300]\n"
          ]
        },
        {
          "metadata": {
            "tags": null
          },
          "name": "stderr",
          "output_type": "stream",
          "text": [
            "100%|██████████| 30/30 [00:37<00:00,  1.24s/it, loss=0.176, iou=0.532]\n",
            "100%|██████████| 8/8 [00:03<00:00,  2.06it/s, loss=0.267, iou=0.0184]\n"
          ]
        },
        {
          "metadata": {
            "tags": null
          },
          "name": "stdout",
          "output_type": "stream",
          "text": [
            "loss 0.1757 - iou 0.5318 - val_loss 0.2670 - val_iou 0.0184\n",
            "Epoch [57/300]\n"
          ]
        },
        {
          "metadata": {
            "tags": null
          },
          "name": "stderr",
          "output_type": "stream",
          "text": [
            "100%|██████████| 30/30 [00:36<00:00,  1.23s/it, loss=0.177, iou=0.524]\n",
            "100%|██████████| 8/8 [00:03<00:00,  2.06it/s, loss=0.274, iou=0.156]\n"
          ]
        },
        {
          "metadata": {
            "tags": null
          },
          "name": "stdout",
          "output_type": "stream",
          "text": [
            "loss 0.1767 - iou 0.5239 - val_loss 0.2741 - val_iou 0.1562\n",
            "Epoch [58/300]\n"
          ]
        },
        {
          "metadata": {
            "tags": null
          },
          "name": "stderr",
          "output_type": "stream",
          "text": [
            "100%|██████████| 30/30 [00:37<00:00,  1.24s/it, loss=0.175, iou=0.527]\n",
            "100%|██████████| 8/8 [00:03<00:00,  2.06it/s, loss=0.312, iou=1.28e-10]\n"
          ]
        },
        {
          "metadata": {
            "tags": null
          },
          "name": "stdout",
          "output_type": "stream",
          "text": [
            "loss 0.1746 - iou 0.5269 - val_loss 0.3121 - val_iou 0.0000\n",
            "Epoch [59/300]\n"
          ]
        },
        {
          "metadata": {
            "tags": null
          },
          "name": "stderr",
          "output_type": "stream",
          "text": [
            "100%|██████████| 30/30 [00:37<00:00,  1.24s/it, loss=0.173, iou=0.553]\n",
            "100%|██████████| 8/8 [00:03<00:00,  2.06it/s, loss=0.224, iou=0.263]\n"
          ]
        },
        {
          "metadata": {
            "tags": null
          },
          "name": "stdout",
          "output_type": "stream",
          "text": [
            "loss 0.1729 - iou 0.5528 - val_loss 0.2242 - val_iou 0.2631\n",
            "Epoch [60/300]\n"
          ]
        },
        {
          "metadata": {
            "tags": null
          },
          "name": "stderr",
          "output_type": "stream",
          "text": [
            "100%|██████████| 30/30 [00:37<00:00,  1.24s/it, loss=0.166, iou=0.577]\n",
            "100%|██████████| 8/8 [00:04<00:00,  2.00it/s, loss=0.223, iou=0.097]\n"
          ]
        },
        {
          "metadata": {
            "tags": null
          },
          "name": "stdout",
          "output_type": "stream",
          "text": [
            "loss 0.1655 - iou 0.5775 - val_loss 0.2230 - val_iou 0.0970\n",
            "Epoch [61/300]\n"
          ]
        },
        {
          "metadata": {
            "tags": null
          },
          "name": "stderr",
          "output_type": "stream",
          "text": [
            "100%|██████████| 30/30 [00:37<00:00,  1.24s/it, loss=0.173, iou=0.544]\n",
            "100%|██████████| 8/8 [00:04<00:00,  1.99it/s, loss=0.333, iou=0.000257]\n"
          ]
        },
        {
          "metadata": {
            "tags": null
          },
          "name": "stdout",
          "output_type": "stream",
          "text": [
            "loss 0.1726 - iou 0.5439 - val_loss 0.3329 - val_iou 0.0003\n",
            "Epoch [62/300]\n"
          ]
        },
        {
          "metadata": {
            "tags": null
          },
          "name": "stderr",
          "output_type": "stream",
          "text": [
            "100%|██████████| 30/30 [00:36<00:00,  1.23s/it, loss=0.17, iou=0.545]\n",
            "100%|██████████| 8/8 [00:04<00:00,  1.97it/s, loss=0.288, iou=2.35e-5]\n"
          ]
        },
        {
          "metadata": {
            "tags": null
          },
          "name": "stdout",
          "output_type": "stream",
          "text": [
            "loss 0.1696 - iou 0.5455 - val_loss 0.2880 - val_iou 0.0000\n",
            "Epoch [63/300]\n"
          ]
        },
        {
          "metadata": {
            "tags": null
          },
          "name": "stderr",
          "output_type": "stream",
          "text": [
            "100%|██████████| 30/30 [00:36<00:00,  1.23s/it, loss=0.17, iou=0.544]\n",
            "100%|██████████| 8/8 [00:04<00:00,  1.91it/s, loss=0.204, iou=0.23]\n"
          ]
        },
        {
          "metadata": {
            "tags": null
          },
          "name": "stdout",
          "output_type": "stream",
          "text": [
            "loss 0.1705 - iou 0.5444 - val_loss 0.2039 - val_iou 0.2302\n",
            "Epoch [64/300]\n"
          ]
        },
        {
          "metadata": {
            "tags": null
          },
          "name": "stderr",
          "output_type": "stream",
          "text": [
            "100%|██████████| 30/30 [00:36<00:00,  1.22s/it, loss=0.161, iou=0.578]\n",
            "100%|██████████| 8/8 [00:04<00:00,  1.94it/s, loss=0.306, iou=1.28e-10]\n"
          ]
        },
        {
          "metadata": {
            "tags": null
          },
          "name": "stdout",
          "output_type": "stream",
          "text": [
            "loss 0.1615 - iou 0.5778 - val_loss 0.3059 - val_iou 0.0000\n",
            "Epoch [65/300]\n"
          ]
        },
        {
          "metadata": {
            "tags": null
          },
          "name": "stderr",
          "output_type": "stream",
          "text": [
            "100%|██████████| 30/30 [00:36<00:00,  1.23s/it, loss=0.163, iou=0.591]\n",
            "100%|██████████| 8/8 [00:04<00:00,  1.98it/s, loss=0.224, iou=0.127]\n"
          ]
        },
        {
          "metadata": {
            "tags": null
          },
          "name": "stdout",
          "output_type": "stream",
          "text": [
            "loss 0.1626 - iou 0.5910 - val_loss 0.2242 - val_iou 0.1268\n",
            "Epoch [66/300]\n"
          ]
        },
        {
          "metadata": {
            "tags": null
          },
          "name": "stderr",
          "output_type": "stream",
          "text": [
            "100%|██████████| 30/30 [00:36<00:00,  1.23s/it, loss=0.163, iou=0.57]\n",
            "100%|██████████| 8/8 [00:03<00:00,  2.00it/s, loss=0.184, iou=0.461]\n"
          ]
        },
        {
          "metadata": {
            "tags": null
          },
          "name": "stdout",
          "output_type": "stream",
          "text": [
            "loss 0.1633 - iou 0.5698 - val_loss 0.1838 - val_iou 0.4610\n",
            "=> saved best model\n",
            "Epoch [67/300]\n"
          ]
        },
        {
          "metadata": {
            "tags": null
          },
          "name": "stderr",
          "output_type": "stream",
          "text": [
            "100%|██████████| 30/30 [00:36<00:00,  1.23s/it, loss=0.166, iou=0.578]\n",
            "100%|██████████| 8/8 [00:03<00:00,  2.05it/s, loss=0.273, iou=0.00965]\n"
          ]
        },
        {
          "metadata": {
            "tags": null
          },
          "name": "stdout",
          "output_type": "stream",
          "text": [
            "loss 0.1658 - iou 0.5784 - val_loss 0.2735 - val_iou 0.0096\n",
            "Epoch [68/300]\n"
          ]
        },
        {
          "metadata": {
            "tags": null
          },
          "name": "stderr",
          "output_type": "stream",
          "text": [
            "100%|██████████| 30/30 [00:36<00:00,  1.23s/it, loss=0.161, iou=0.579]\n",
            "100%|██████████| 8/8 [00:03<00:00,  2.07it/s, loss=0.193, iou=0.302]\n"
          ]
        },
        {
          "metadata": {
            "tags": null
          },
          "name": "stdout",
          "output_type": "stream",
          "text": [
            "loss 0.1612 - iou 0.5794 - val_loss 0.1932 - val_iou 0.3017\n",
            "Epoch [69/300]\n"
          ]
        },
        {
          "metadata": {
            "tags": null
          },
          "name": "stderr",
          "output_type": "stream",
          "text": [
            "100%|██████████| 30/30 [00:37<00:00,  1.24s/it, loss=0.159, iou=0.621]\n",
            "100%|██████████| 8/8 [00:03<00:00,  2.06it/s, loss=0.266, iou=1.28e-10]\n"
          ]
        },
        {
          "metadata": {
            "tags": null
          },
          "name": "stdout",
          "output_type": "stream",
          "text": [
            "loss 0.1594 - iou 0.6214 - val_loss 0.2655 - val_iou 0.0000\n",
            "Epoch [70/300]\n"
          ]
        },
        {
          "metadata": {
            "tags": null
          },
          "name": "stderr",
          "output_type": "stream",
          "text": [
            "100%|██████████| 30/30 [00:36<00:00,  1.23s/it, loss=0.161, iou=0.597]\n",
            "100%|██████████| 8/8 [00:03<00:00,  2.07it/s, loss=0.305, iou=1.28e-10]\n"
          ]
        },
        {
          "metadata": {
            "tags": null
          },
          "name": "stdout",
          "output_type": "stream",
          "text": [
            "loss 0.1612 - iou 0.5970 - val_loss 0.3053 - val_iou 0.0000\n",
            "Epoch [71/300]\n"
          ]
        },
        {
          "metadata": {
            "tags": null
          },
          "name": "stderr",
          "output_type": "stream",
          "text": [
            "100%|██████████| 30/30 [00:36<00:00,  1.23s/it, loss=0.157, iou=0.606]\n",
            "100%|██████████| 8/8 [00:03<00:00,  2.08it/s, loss=0.289, iou=1.28e-10]\n"
          ]
        },
        {
          "metadata": {
            "tags": null
          },
          "name": "stdout",
          "output_type": "stream",
          "text": [
            "loss 0.1568 - iou 0.6060 - val_loss 0.2889 - val_iou 0.0000\n",
            "Epoch [72/300]\n"
          ]
        },
        {
          "metadata": {
            "tags": null
          },
          "name": "stderr",
          "output_type": "stream",
          "text": [
            "100%|██████████| 30/30 [00:36<00:00,  1.23s/it, loss=0.167, iou=0.575]\n",
            "100%|██████████| 8/8 [00:03<00:00,  2.08it/s, loss=0.283, iou=1.28e-10]\n"
          ]
        },
        {
          "metadata": {
            "tags": null
          },
          "name": "stdout",
          "output_type": "stream",
          "text": [
            "loss 0.1670 - iou 0.5753 - val_loss 0.2832 - val_iou 0.0000\n",
            "Epoch [73/300]\n"
          ]
        },
        {
          "metadata": {
            "tags": null
          },
          "name": "stderr",
          "output_type": "stream",
          "text": [
            "100%|██████████| 30/30 [00:36<00:00,  1.23s/it, loss=0.16, iou=0.613]\n",
            "100%|██████████| 8/8 [00:03<00:00,  2.04it/s, loss=0.234, iou=0.0908]\n"
          ]
        },
        {
          "metadata": {
            "tags": null
          },
          "name": "stdout",
          "output_type": "stream",
          "text": [
            "loss 0.1595 - iou 0.6130 - val_loss 0.2340 - val_iou 0.0908\n",
            "Epoch [74/300]\n"
          ]
        },
        {
          "metadata": {
            "tags": null
          },
          "name": "stderr",
          "output_type": "stream",
          "text": [
            "100%|██████████| 30/30 [00:36<00:00,  1.23s/it, loss=0.16, iou=0.601]\n",
            "100%|██████████| 8/8 [00:03<00:00,  2.09it/s, loss=0.257, iou=0.374]\n"
          ]
        },
        {
          "metadata": {
            "tags": null
          },
          "name": "stdout",
          "output_type": "stream",
          "text": [
            "loss 0.1604 - iou 0.6014 - val_loss 0.2571 - val_iou 0.3741\n",
            "Epoch [75/300]\n"
          ]
        },
        {
          "metadata": {
            "tags": null
          },
          "name": "stderr",
          "output_type": "stream",
          "text": [
            "100%|██████████| 30/30 [00:36<00:00,  1.23s/it, loss=0.156, iou=0.626]\n",
            "100%|██████████| 8/8 [00:03<00:00,  2.07it/s, loss=0.278, iou=1.28e-10]\n"
          ]
        },
        {
          "metadata": {
            "tags": null
          },
          "name": "stdout",
          "output_type": "stream",
          "text": [
            "loss 0.1560 - iou 0.6255 - val_loss 0.2779 - val_iou 0.0000\n",
            "Epoch [76/300]\n"
          ]
        },
        {
          "metadata": {
            "tags": null
          },
          "name": "stderr",
          "output_type": "stream",
          "text": [
            "100%|██████████| 30/30 [00:36<00:00,  1.23s/it, loss=0.161, iou=0.616]\n",
            "100%|██████████| 8/8 [00:03<00:00,  2.10it/s, loss=0.315, iou=0.000246]\n"
          ]
        },
        {
          "metadata": {
            "tags": null
          },
          "name": "stdout",
          "output_type": "stream",
          "text": [
            "loss 0.1610 - iou 0.6162 - val_loss 0.3153 - val_iou 0.0002\n",
            "Epoch [77/300]\n"
          ]
        },
        {
          "metadata": {
            "tags": null
          },
          "name": "stderr",
          "output_type": "stream",
          "text": [
            "100%|██████████| 30/30 [00:36<00:00,  1.23s/it, loss=0.159, iou=0.614]\n",
            "100%|██████████| 8/8 [00:03<00:00,  2.09it/s, loss=0.35, iou=1.28e-10]\n"
          ]
        },
        {
          "metadata": {
            "tags": null
          },
          "name": "stdout",
          "output_type": "stream",
          "text": [
            "loss 0.1587 - iou 0.6140 - val_loss 0.3496 - val_iou 0.0000\n",
            "Epoch [78/300]\n"
          ]
        },
        {
          "metadata": {
            "tags": null
          },
          "name": "stderr",
          "output_type": "stream",
          "text": [
            "100%|██████████| 30/30 [00:36<00:00,  1.23s/it, loss=0.157, iou=0.611]\n",
            "100%|██████████| 8/8 [00:03<00:00,  2.08it/s, loss=0.308, iou=0.00138]\n"
          ]
        },
        {
          "metadata": {
            "tags": null
          },
          "name": "stdout",
          "output_type": "stream",
          "text": [
            "loss 0.1566 - iou 0.6107 - val_loss 0.3081 - val_iou 0.0014\n",
            "Epoch [79/300]\n"
          ]
        },
        {
          "metadata": {
            "tags": null
          },
          "name": "stderr",
          "output_type": "stream",
          "text": [
            "100%|██████████| 30/30 [00:36<00:00,  1.23s/it, loss=0.157, iou=0.617]\n",
            "100%|██████████| 8/8 [00:03<00:00,  2.09it/s, loss=0.272, iou=0.0181]\n"
          ]
        },
        {
          "metadata": {
            "tags": null
          },
          "name": "stdout",
          "output_type": "stream",
          "text": [
            "loss 0.1571 - iou 0.6166 - val_loss 0.2725 - val_iou 0.0181\n",
            "Epoch [80/300]\n"
          ]
        },
        {
          "metadata": {
            "tags": null
          },
          "name": "stderr",
          "output_type": "stream",
          "text": [
            "100%|██████████| 30/30 [00:36<00:00,  1.22s/it, loss=0.155, iou=0.646]\n",
            "100%|██████████| 8/8 [00:03<00:00,  2.09it/s, loss=0.299, iou=1.28e-10]\n"
          ]
        },
        {
          "metadata": {
            "tags": null
          },
          "name": "stdout",
          "output_type": "stream",
          "text": [
            "loss 0.1547 - iou 0.6457 - val_loss 0.2987 - val_iou 0.0000\n",
            "Epoch [81/300]\n"
          ]
        },
        {
          "metadata": {
            "tags": null
          },
          "name": "stderr",
          "output_type": "stream",
          "text": [
            "100%|██████████| 30/30 [00:36<00:00,  1.22s/it, loss=0.149, iou=0.648]\n",
            "100%|██████████| 8/8 [00:03<00:00,  2.10it/s, loss=0.24, iou=0.142]\n"
          ]
        },
        {
          "metadata": {
            "tags": null
          },
          "name": "stdout",
          "output_type": "stream",
          "text": [
            "loss 0.1486 - iou 0.6484 - val_loss 0.2398 - val_iou 0.1421\n",
            "Epoch [82/300]\n"
          ]
        },
        {
          "metadata": {
            "tags": null
          },
          "name": "stderr",
          "output_type": "stream",
          "text": [
            "100%|██████████| 30/30 [00:36<00:00,  1.22s/it, loss=0.15, iou=0.646]\n",
            "100%|██████████| 8/8 [00:03<00:00,  2.10it/s, loss=0.282, iou=0.00301]\n"
          ]
        },
        {
          "metadata": {
            "tags": null
          },
          "name": "stdout",
          "output_type": "stream",
          "text": [
            "loss 0.1503 - iou 0.6463 - val_loss 0.2824 - val_iou 0.0030\n",
            "Epoch [83/300]\n"
          ]
        },
        {
          "metadata": {
            "tags": null
          },
          "name": "stderr",
          "output_type": "stream",
          "text": [
            "100%|██████████| 30/30 [00:36<00:00,  1.23s/it, loss=0.151, iou=0.665]\n",
            "100%|██████████| 8/8 [00:03<00:00,  2.08it/s, loss=0.339, iou=1.28e-10]\n"
          ]
        },
        {
          "metadata": {
            "tags": null
          },
          "name": "stdout",
          "output_type": "stream",
          "text": [
            "loss 0.1514 - iou 0.6645 - val_loss 0.3395 - val_iou 0.0000\n",
            "Epoch [84/300]\n"
          ]
        },
        {
          "metadata": {
            "tags": null
          },
          "name": "stderr",
          "output_type": "stream",
          "text": [
            "100%|██████████| 30/30 [00:36<00:00,  1.22s/it, loss=0.154, iou=0.663]\n",
            "100%|██████████| 8/8 [00:03<00:00,  2.09it/s, loss=0.315, iou=1.28e-10]\n"
          ]
        },
        {
          "metadata": {
            "tags": null
          },
          "name": "stdout",
          "output_type": "stream",
          "text": [
            "loss 0.1545 - iou 0.6627 - val_loss 0.3150 - val_iou 0.0000\n",
            "Epoch [85/300]\n"
          ]
        },
        {
          "metadata": {
            "tags": null
          },
          "name": "stderr",
          "output_type": "stream",
          "text": [
            "100%|██████████| 30/30 [00:36<00:00,  1.21s/it, loss=0.149, iou=0.676]\n",
            "100%|██████████| 8/8 [00:03<00:00,  2.00it/s, loss=0.329, iou=0.00612]\n"
          ]
        },
        {
          "metadata": {
            "tags": null
          },
          "name": "stdout",
          "output_type": "stream",
          "text": [
            "loss 0.1492 - iou 0.6758 - val_loss 0.3289 - val_iou 0.0061\n",
            "Epoch [86/300]\n"
          ]
        },
        {
          "metadata": {
            "tags": null
          },
          "name": "stderr",
          "output_type": "stream",
          "text": [
            "100%|██████████| 30/30 [00:36<00:00,  1.22s/it, loss=0.144, iou=0.69]\n",
            "100%|██████████| 8/8 [00:03<00:00,  2.02it/s, loss=0.186, iou=0.52]\n"
          ]
        },
        {
          "metadata": {
            "tags": null
          },
          "name": "stdout",
          "output_type": "stream",
          "text": [
            "loss 0.1438 - iou 0.6897 - val_loss 0.1857 - val_iou 0.5195\n",
            "=> saved best model\n",
            "Epoch [87/300]\n"
          ]
        },
        {
          "metadata": {
            "tags": null
          },
          "name": "stderr",
          "output_type": "stream",
          "text": [
            "100%|██████████| 30/30 [00:36<00:00,  1.22s/it, loss=0.148, iou=0.681]\n",
            "100%|██████████| 8/8 [00:04<00:00,  1.98it/s, loss=0.267, iou=0.00749]\n"
          ]
        },
        {
          "metadata": {
            "tags": null
          },
          "name": "stdout",
          "output_type": "stream",
          "text": [
            "loss 0.1482 - iou 0.6810 - val_loss 0.2669 - val_iou 0.0075\n",
            "Epoch [88/300]\n"
          ]
        },
        {
          "metadata": {
            "tags": null
          },
          "name": "stderr",
          "output_type": "stream",
          "text": [
            "100%|██████████| 30/30 [00:36<00:00,  1.21s/it, loss=0.147, iou=0.663]\n",
            "100%|██████████| 8/8 [00:04<00:00,  1.97it/s, loss=0.491, iou=0.109]\n"
          ]
        },
        {
          "metadata": {
            "tags": null
          },
          "name": "stdout",
          "output_type": "stream",
          "text": [
            "loss 0.1467 - iou 0.6625 - val_loss 0.4915 - val_iou 0.1089\n",
            "Epoch [89/300]\n"
          ]
        },
        {
          "metadata": {
            "tags": null
          },
          "name": "stderr",
          "output_type": "stream",
          "text": [
            "100%|██████████| 30/30 [00:36<00:00,  1.21s/it, loss=0.141, iou=0.711]\n",
            "100%|██████████| 8/8 [00:04<00:00,  1.97it/s, loss=0.31, iou=1.28e-10]\n"
          ]
        },
        {
          "metadata": {
            "tags": null
          },
          "name": "stdout",
          "output_type": "stream",
          "text": [
            "loss 0.1411 - iou 0.7109 - val_loss 0.3104 - val_iou 0.0000\n",
            "Epoch [90/300]\n"
          ]
        },
        {
          "metadata": {
            "tags": null
          },
          "name": "stderr",
          "output_type": "stream",
          "text": [
            "100%|██████████| 30/30 [00:36<00:00,  1.22s/it, loss=0.144, iou=0.687]\n",
            "100%|██████████| 8/8 [00:04<00:00,  1.97it/s, loss=0.368, iou=1.28e-10]\n"
          ]
        },
        {
          "metadata": {
            "tags": null
          },
          "name": "stdout",
          "output_type": "stream",
          "text": [
            "loss 0.1436 - iou 0.6871 - val_loss 0.3676 - val_iou 0.0000\n",
            "Epoch [91/300]\n"
          ]
        },
        {
          "metadata": {
            "tags": null
          },
          "name": "stderr",
          "output_type": "stream",
          "text": [
            "100%|██████████| 30/30 [00:36<00:00,  1.21s/it, loss=0.145, iou=0.678]\n",
            "100%|██████████| 8/8 [00:04<00:00,  1.94it/s, loss=0.439, iou=0.138]\n"
          ]
        },
        {
          "metadata": {
            "tags": null
          },
          "name": "stdout",
          "output_type": "stream",
          "text": [
            "loss 0.1446 - iou 0.6777 - val_loss 0.4394 - val_iou 0.1384\n",
            "Epoch [92/300]\n"
          ]
        },
        {
          "metadata": {
            "tags": null
          },
          "name": "stderr",
          "output_type": "stream",
          "text": [
            "100%|██████████| 30/30 [00:36<00:00,  1.21s/it, loss=0.142, iou=0.698]\n",
            "100%|██████████| 8/8 [00:04<00:00,  1.96it/s, loss=0.359, iou=1.28e-10]\n"
          ]
        },
        {
          "metadata": {
            "tags": null
          },
          "name": "stdout",
          "output_type": "stream",
          "text": [
            "loss 0.1419 - iou 0.6977 - val_loss 0.3590 - val_iou 0.0000\n",
            "Epoch [93/300]\n"
          ]
        },
        {
          "metadata": {
            "tags": null
          },
          "name": "stderr",
          "output_type": "stream",
          "text": [
            "100%|██████████| 30/30 [00:36<00:00,  1.22s/it, loss=0.146, iou=0.692]\n",
            "100%|██████████| 8/8 [00:04<00:00,  1.94it/s, loss=0.302, iou=0.159]\n"
          ]
        },
        {
          "metadata": {
            "tags": null
          },
          "name": "stdout",
          "output_type": "stream",
          "text": [
            "loss 0.1457 - iou 0.6919 - val_loss 0.3016 - val_iou 0.1591\n",
            "Epoch [94/300]\n"
          ]
        },
        {
          "metadata": {
            "tags": null
          },
          "name": "stderr",
          "output_type": "stream",
          "text": [
            "100%|██████████| 30/30 [00:36<00:00,  1.21s/it, loss=0.145, iou=0.681]\n",
            "100%|██████████| 8/8 [00:04<00:00,  1.94it/s, loss=0.336, iou=1.28e-10]\n"
          ]
        },
        {
          "metadata": {
            "tags": null
          },
          "name": "stdout",
          "output_type": "stream",
          "text": [
            "loss 0.1448 - iou 0.6815 - val_loss 0.3363 - val_iou 0.0000\n",
            "Epoch [95/300]\n"
          ]
        },
        {
          "metadata": {
            "tags": null
          },
          "name": "stderr",
          "output_type": "stream",
          "text": [
            "100%|██████████| 30/30 [00:36<00:00,  1.21s/it, loss=0.148, iou=0.68]\n",
            "100%|██████████| 8/8 [00:04<00:00,  1.98it/s, loss=0.225, iou=0.154]\n"
          ]
        },
        {
          "metadata": {
            "tags": null
          },
          "name": "stdout",
          "output_type": "stream",
          "text": [
            "loss 0.1480 - iou 0.6805 - val_loss 0.2252 - val_iou 0.1543\n",
            "Epoch [96/300]\n"
          ]
        },
        {
          "metadata": {
            "tags": null
          },
          "name": "stderr",
          "output_type": "stream",
          "text": [
            "100%|██████████| 30/30 [00:36<00:00,  1.21s/it, loss=0.147, iou=0.669]\n",
            "100%|██████████| 8/8 [00:04<00:00,  1.96it/s, loss=0.296, iou=1.28e-10]\n"
          ]
        },
        {
          "metadata": {
            "tags": null
          },
          "name": "stdout",
          "output_type": "stream",
          "text": [
            "loss 0.1473 - iou 0.6689 - val_loss 0.2958 - val_iou 0.0000\n",
            "Epoch [97/300]\n"
          ]
        },
        {
          "metadata": {
            "tags": null
          },
          "name": "stderr",
          "output_type": "stream",
          "text": [
            "100%|██████████| 30/30 [00:36<00:00,  1.21s/it, loss=0.142, iou=0.692]\n",
            "100%|██████████| 8/8 [00:03<00:00,  2.02it/s, loss=0.298, iou=0.0132]\n"
          ]
        },
        {
          "metadata": {
            "tags": null
          },
          "name": "stdout",
          "output_type": "stream",
          "text": [
            "loss 0.1423 - iou 0.6921 - val_loss 0.2983 - val_iou 0.0132\n",
            "Epoch [98/300]\n"
          ]
        },
        {
          "metadata": {
            "tags": null
          },
          "name": "stderr",
          "output_type": "stream",
          "text": [
            "100%|██████████| 30/30 [00:36<00:00,  1.21s/it, loss=0.144, iou=0.685]\n",
            "100%|██████████| 8/8 [00:03<00:00,  2.01it/s, loss=0.321, iou=0.00221]\n"
          ]
        },
        {
          "metadata": {
            "tags": null
          },
          "name": "stdout",
          "output_type": "stream",
          "text": [
            "loss 0.1438 - iou 0.6852 - val_loss 0.3213 - val_iou 0.0022\n",
            "Epoch [99/300]\n"
          ]
        },
        {
          "metadata": {
            "tags": null
          },
          "name": "stderr",
          "output_type": "stream",
          "text": [
            "100%|██████████| 30/30 [00:36<00:00,  1.21s/it, loss=0.138, iou=0.71]\n",
            "100%|██████████| 8/8 [00:03<00:00,  2.00it/s, loss=0.351, iou=1.28e-10]\n"
          ]
        },
        {
          "metadata": {
            "tags": null
          },
          "name": "stdout",
          "output_type": "stream",
          "text": [
            "loss 0.1379 - iou 0.7096 - val_loss 0.3511 - val_iou 0.0000\n",
            "Epoch [100/300]\n"
          ]
        },
        {
          "metadata": {
            "tags": null
          },
          "name": "stderr",
          "output_type": "stream",
          "text": [
            "100%|██████████| 30/30 [00:36<00:00,  1.22s/it, loss=0.14, iou=0.712]\n",
            "100%|██████████| 8/8 [00:04<00:00,  1.99it/s, loss=0.247, iou=0.139]\n"
          ]
        },
        {
          "metadata": {
            "tags": null
          },
          "name": "stdout",
          "output_type": "stream",
          "text": [
            "loss 0.1399 - iou 0.7120 - val_loss 0.2474 - val_iou 0.1391\n",
            "Epoch [101/300]\n"
          ]
        },
        {
          "metadata": {
            "tags": null
          },
          "name": "stderr",
          "output_type": "stream",
          "text": [
            "100%|██████████| 30/30 [00:36<00:00,  1.21s/it, loss=0.14, iou=0.709]\n",
            "100%|██████████| 8/8 [00:03<00:00,  2.03it/s, loss=0.271, iou=0.0532]\n"
          ]
        },
        {
          "metadata": {
            "tags": null
          },
          "name": "stdout",
          "output_type": "stream",
          "text": [
            "loss 0.1403 - iou 0.7090 - val_loss 0.2710 - val_iou 0.0532\n",
            "Epoch [102/300]\n"
          ]
        },
        {
          "metadata": {
            "tags": null
          },
          "name": "stderr",
          "output_type": "stream",
          "text": [
            "100%|██████████| 30/30 [00:36<00:00,  1.21s/it, loss=0.142, iou=0.705]\n",
            "100%|██████████| 8/8 [00:03<00:00,  2.00it/s, loss=0.267, iou=0.0405]\n"
          ]
        },
        {
          "metadata": {
            "tags": null
          },
          "name": "stdout",
          "output_type": "stream",
          "text": [
            "loss 0.1424 - iou 0.7048 - val_loss 0.2669 - val_iou 0.0405\n",
            "Epoch [103/300]\n"
          ]
        },
        {
          "metadata": {
            "tags": null
          },
          "name": "stderr",
          "output_type": "stream",
          "text": [
            "100%|██████████| 30/30 [00:36<00:00,  1.21s/it, loss=0.134, iou=0.729]\n",
            "100%|██████████| 8/8 [00:03<00:00,  2.00it/s, loss=0.301, iou=0.00918]\n"
          ]
        },
        {
          "metadata": {
            "tags": null
          },
          "name": "stdout",
          "output_type": "stream",
          "text": [
            "loss 0.1344 - iou 0.7290 - val_loss 0.3013 - val_iou 0.0092\n",
            "Epoch [104/300]\n"
          ]
        },
        {
          "metadata": {
            "tags": null
          },
          "name": "stderr",
          "output_type": "stream",
          "text": [
            "100%|██████████| 30/30 [00:36<00:00,  1.21s/it, loss=0.14, iou=0.704]\n",
            "100%|██████████| 8/8 [00:03<00:00,  2.01it/s, loss=0.248, iou=0.468]\n"
          ]
        },
        {
          "metadata": {
            "tags": null
          },
          "name": "stdout",
          "output_type": "stream",
          "text": [
            "loss 0.1396 - iou 0.7035 - val_loss 0.2476 - val_iou 0.4679\n",
            "Epoch [105/300]\n"
          ]
        },
        {
          "metadata": {
            "tags": null
          },
          "name": "stderr",
          "output_type": "stream",
          "text": [
            "100%|██████████| 30/30 [00:36<00:00,  1.22s/it, loss=0.137, iou=0.72]\n",
            "100%|██████████| 8/8 [00:03<00:00,  2.01it/s, loss=0.488, iou=0.0526]\n"
          ]
        },
        {
          "metadata": {
            "tags": null
          },
          "name": "stdout",
          "output_type": "stream",
          "text": [
            "loss 0.1368 - iou 0.7198 - val_loss 0.4882 - val_iou 0.0526\n",
            "Epoch [106/300]\n"
          ]
        },
        {
          "metadata": {
            "tags": null
          },
          "name": "stderr",
          "output_type": "stream",
          "text": [
            "100%|██████████| 30/30 [00:36<00:00,  1.22s/it, loss=0.136, iou=0.732]\n",
            "100%|██████████| 8/8 [00:03<00:00,  2.01it/s, loss=0.327, iou=1.28e-10]\n"
          ]
        },
        {
          "metadata": {
            "tags": null
          },
          "name": "stdout",
          "output_type": "stream",
          "text": [
            "loss 0.1364 - iou 0.7323 - val_loss 0.3266 - val_iou 0.0000\n",
            "Epoch [107/300]\n"
          ]
        },
        {
          "metadata": {
            "tags": null
          },
          "name": "stderr",
          "output_type": "stream",
          "text": [
            "100%|██████████| 30/30 [00:36<00:00,  1.22s/it, loss=0.135, iou=0.729]\n",
            "100%|██████████| 8/8 [00:03<00:00,  2.05it/s, loss=0.255, iou=0.321]\n"
          ]
        },
        {
          "metadata": {
            "tags": null
          },
          "name": "stdout",
          "output_type": "stream",
          "text": [
            "loss 0.1346 - iou 0.7288 - val_loss 0.2552 - val_iou 0.3208\n",
            "Epoch [108/300]\n"
          ]
        },
        {
          "metadata": {
            "tags": null
          },
          "name": "stderr",
          "output_type": "stream",
          "text": [
            "100%|██████████| 30/30 [00:36<00:00,  1.22s/it, loss=0.139, iou=0.703]\n",
            "100%|██████████| 8/8 [00:03<00:00,  2.02it/s, loss=0.364, iou=0.0606]\n"
          ]
        },
        {
          "metadata": {
            "tags": null
          },
          "name": "stdout",
          "output_type": "stream",
          "text": [
            "loss 0.1395 - iou 0.7030 - val_loss 0.3635 - val_iou 0.0606\n",
            "Epoch [109/300]\n"
          ]
        },
        {
          "metadata": {
            "tags": null
          },
          "name": "stderr",
          "output_type": "stream",
          "text": [
            "100%|██████████| 30/30 [00:36<00:00,  1.22s/it, loss=0.133, iou=0.748]\n",
            "100%|██████████| 8/8 [00:03<00:00,  2.04it/s, loss=0.289, iou=0.292]\n"
          ]
        },
        {
          "metadata": {
            "tags": null
          },
          "name": "stdout",
          "output_type": "stream",
          "text": [
            "loss 0.1330 - iou 0.7477 - val_loss 0.2889 - val_iou 0.2923\n",
            "Epoch [110/300]\n"
          ]
        },
        {
          "metadata": {
            "tags": null
          },
          "name": "stderr",
          "output_type": "stream",
          "text": [
            "100%|██████████| 30/30 [00:36<00:00,  1.21s/it, loss=0.133, iou=0.752]\n",
            "100%|██████████| 8/8 [00:03<00:00,  2.07it/s, loss=0.265, iou=1.61e-5]\n"
          ]
        },
        {
          "metadata": {
            "tags": null
          },
          "name": "stdout",
          "output_type": "stream",
          "text": [
            "loss 0.1328 - iou 0.7522 - val_loss 0.2653 - val_iou 0.0000\n",
            "Epoch [111/300]\n"
          ]
        },
        {
          "metadata": {
            "tags": null
          },
          "name": "stderr",
          "output_type": "stream",
          "text": [
            "100%|██████████| 30/30 [00:36<00:00,  1.22s/it, loss=0.138, iou=0.728]\n",
            "100%|██████████| 8/8 [00:03<00:00,  2.04it/s, loss=0.373, iou=1.28e-10]\n"
          ]
        },
        {
          "metadata": {
            "tags": null
          },
          "name": "stdout",
          "output_type": "stream",
          "text": [
            "loss 0.1383 - iou 0.7276 - val_loss 0.3729 - val_iou 0.0000\n",
            "Epoch [112/300]\n"
          ]
        },
        {
          "metadata": {
            "tags": null
          },
          "name": "stderr",
          "output_type": "stream",
          "text": [
            "100%|██████████| 30/30 [00:36<00:00,  1.21s/it, loss=0.138, iou=0.724]\n",
            "100%|██████████| 8/8 [00:03<00:00,  2.10it/s, loss=0.384, iou=1.28e-10]\n"
          ]
        },
        {
          "metadata": {
            "tags": null
          },
          "name": "stdout",
          "output_type": "stream",
          "text": [
            "loss 0.1381 - iou 0.7243 - val_loss 0.3845 - val_iou 0.0000\n",
            "Epoch [113/300]\n"
          ]
        },
        {
          "metadata": {
            "tags": null
          },
          "name": "stderr",
          "output_type": "stream",
          "text": [
            "100%|██████████| 30/30 [00:36<00:00,  1.21s/it, loss=0.135, iou=0.736]\n",
            "100%|██████████| 8/8 [00:03<00:00,  2.08it/s, loss=0.221, iou=0.234]\n"
          ]
        },
        {
          "metadata": {
            "tags": null
          },
          "name": "stdout",
          "output_type": "stream",
          "text": [
            "loss 0.1351 - iou 0.7361 - val_loss 0.2214 - val_iou 0.2338\n",
            "Epoch [114/300]\n"
          ]
        },
        {
          "metadata": {
            "tags": null
          },
          "name": "stderr",
          "output_type": "stream",
          "text": [
            "100%|██████████| 30/30 [00:36<00:00,  1.21s/it, loss=0.131, iou=0.759]\n",
            "100%|██████████| 8/8 [00:03<00:00,  2.07it/s, loss=0.295, iou=0.161]\n"
          ]
        },
        {
          "metadata": {
            "tags": null
          },
          "name": "stdout",
          "output_type": "stream",
          "text": [
            "loss 0.1311 - iou 0.7590 - val_loss 0.2953 - val_iou 0.1608\n",
            "Epoch [115/300]\n"
          ]
        },
        {
          "metadata": {
            "tags": null
          },
          "name": "stderr",
          "output_type": "stream",
          "text": [
            "100%|██████████| 30/30 [00:36<00:00,  1.21s/it, loss=0.132, iou=0.751]\n",
            "100%|██████████| 8/8 [00:03<00:00,  2.07it/s, loss=0.29, iou=1.28e-10]\n"
          ]
        },
        {
          "metadata": {
            "tags": null
          },
          "name": "stdout",
          "output_type": "stream",
          "text": [
            "loss 0.1325 - iou 0.7513 - val_loss 0.2899 - val_iou 0.0000\n",
            "Epoch [116/300]\n"
          ]
        },
        {
          "metadata": {
            "tags": null
          },
          "name": "stderr",
          "output_type": "stream",
          "text": [
            "100%|██████████| 30/30 [00:36<00:00,  1.21s/it, loss=0.133, iou=0.746]\n",
            "100%|██████████| 8/8 [00:03<00:00,  2.04it/s, loss=0.363, iou=0.0104]\n"
          ]
        },
        {
          "metadata": {
            "tags": null
          },
          "name": "stdout",
          "output_type": "stream",
          "text": [
            "loss 0.1329 - iou 0.7459 - val_loss 0.3633 - val_iou 0.0104\n",
            "Epoch [117/300]\n"
          ]
        },
        {
          "metadata": {
            "tags": null
          },
          "name": "stderr",
          "output_type": "stream",
          "text": [
            "100%|██████████| 30/30 [00:36<00:00,  1.21s/it, loss=0.135, iou=0.737]\n",
            "100%|██████████| 8/8 [00:03<00:00,  2.07it/s, loss=0.297, iou=0.00431]\n"
          ]
        },
        {
          "metadata": {
            "tags": null
          },
          "name": "stdout",
          "output_type": "stream",
          "text": [
            "loss 0.1346 - iou 0.7368 - val_loss 0.2975 - val_iou 0.0043\n",
            "Epoch [118/300]\n"
          ]
        },
        {
          "metadata": {
            "tags": null
          },
          "name": "stderr",
          "output_type": "stream",
          "text": [
            "100%|██████████| 30/30 [00:36<00:00,  1.21s/it, loss=0.132, iou=0.749]\n",
            "100%|██████████| 8/8 [00:03<00:00,  2.07it/s, loss=0.286, iou=0.298]\n"
          ]
        },
        {
          "metadata": {
            "tags": null
          },
          "name": "stdout",
          "output_type": "stream",
          "text": [
            "loss 0.1320 - iou 0.7485 - val_loss 0.2864 - val_iou 0.2975\n",
            "Epoch [119/300]\n"
          ]
        },
        {
          "metadata": {
            "tags": null
          },
          "name": "stderr",
          "output_type": "stream",
          "text": [
            "100%|██████████| 30/30 [00:36<00:00,  1.20s/it, loss=0.134, iou=0.742]\n",
            "100%|██████████| 8/8 [00:03<00:00,  2.06it/s, loss=0.369, iou=0.051]\n"
          ]
        },
        {
          "metadata": {
            "tags": null
          },
          "name": "stdout",
          "output_type": "stream",
          "text": [
            "loss 0.1340 - iou 0.7418 - val_loss 0.3692 - val_iou 0.0510\n",
            "Epoch [120/300]\n"
          ]
        },
        {
          "metadata": {
            "tags": null
          },
          "name": "stderr",
          "output_type": "stream",
          "text": [
            "100%|██████████| 30/30 [00:36<00:00,  1.21s/it, loss=0.132, iou=0.742]\n",
            "100%|██████████| 8/8 [00:03<00:00,  2.10it/s, loss=0.345, iou=1.28e-10]\n"
          ]
        },
        {
          "metadata": {
            "tags": null
          },
          "name": "stdout",
          "output_type": "stream",
          "text": [
            "loss 0.1323 - iou 0.7423 - val_loss 0.3448 - val_iou 0.0000\n",
            "Epoch [121/300]\n"
          ]
        },
        {
          "metadata": {
            "tags": null
          },
          "name": "stderr",
          "output_type": "stream",
          "text": [
            "100%|██████████| 30/30 [00:36<00:00,  1.21s/it, loss=0.133, iou=0.747]\n",
            "100%|██████████| 8/8 [00:03<00:00,  2.07it/s, loss=0.285, iou=1.28e-10]\n"
          ]
        },
        {
          "metadata": {
            "tags": null
          },
          "name": "stdout",
          "output_type": "stream",
          "text": [
            "loss 0.1326 - iou 0.7468 - val_loss 0.2854 - val_iou 0.0000\n",
            "Epoch [122/300]\n"
          ]
        },
        {
          "metadata": {
            "tags": null
          },
          "name": "stderr",
          "output_type": "stream",
          "text": [
            "100%|██████████| 30/30 [00:36<00:00,  1.21s/it, loss=0.128, iou=0.767]\n",
            "100%|██████████| 8/8 [00:03<00:00,  2.07it/s, loss=0.271, iou=0.0764]\n"
          ]
        },
        {
          "metadata": {
            "tags": null
          },
          "name": "stdout",
          "output_type": "stream",
          "text": [
            "loss 0.1282 - iou 0.7670 - val_loss 0.2711 - val_iou 0.0764\n",
            "Epoch [123/300]\n"
          ]
        },
        {
          "metadata": {
            "tags": null
          },
          "name": "stderr",
          "output_type": "stream",
          "text": [
            "100%|██████████| 30/30 [00:36<00:00,  1.21s/it, loss=0.13, iou=0.751]\n",
            "100%|██████████| 8/8 [00:03<00:00,  2.08it/s, loss=0.21, iou=0.329]\n"
          ]
        },
        {
          "metadata": {
            "tags": null
          },
          "name": "stdout",
          "output_type": "stream",
          "text": [
            "loss 0.1296 - iou 0.7512 - val_loss 0.2096 - val_iou 0.3285\n",
            "Epoch [124/300]\n"
          ]
        },
        {
          "metadata": {
            "tags": null
          },
          "name": "stderr",
          "output_type": "stream",
          "text": [
            "100%|██████████| 30/30 [00:36<00:00,  1.21s/it, loss=0.133, iou=0.738]\n",
            "100%|██████████| 8/8 [00:03<00:00,  2.05it/s, loss=0.217, iou=0.416]\n"
          ]
        },
        {
          "metadata": {
            "tags": null
          },
          "name": "stdout",
          "output_type": "stream",
          "text": [
            "loss 0.1332 - iou 0.7376 - val_loss 0.2165 - val_iou 0.4165\n",
            "Epoch [125/300]\n"
          ]
        },
        {
          "metadata": {
            "tags": null
          },
          "name": "stderr",
          "output_type": "stream",
          "text": [
            "100%|██████████| 30/30 [00:36<00:00,  1.21s/it, loss=0.132, iou=0.742]\n",
            "100%|██████████| 8/8 [00:03<00:00,  2.08it/s, loss=0.388, iou=1.28e-10]\n"
          ]
        },
        {
          "metadata": {
            "tags": null
          },
          "name": "stdout",
          "output_type": "stream",
          "text": [
            "loss 0.1325 - iou 0.7419 - val_loss 0.3882 - val_iou 0.0000\n",
            "Epoch [126/300]\n"
          ]
        },
        {
          "metadata": {
            "tags": null
          },
          "name": "stderr",
          "output_type": "stream",
          "text": [
            "100%|██████████| 30/30 [00:36<00:00,  1.21s/it, loss=0.127, iou=0.771]\n",
            "100%|██████████| 8/8 [00:03<00:00,  2.00it/s, loss=0.466, iou=1.28e-10]\n"
          ]
        },
        {
          "metadata": {
            "tags": null
          },
          "name": "stdout",
          "output_type": "stream",
          "text": [
            "loss 0.1272 - iou 0.7714 - val_loss 0.4664 - val_iou 0.0000\n",
            "Epoch [127/300]\n"
          ]
        },
        {
          "metadata": {
            "tags": null
          },
          "name": "stderr",
          "output_type": "stream",
          "text": [
            "100%|██████████| 30/30 [00:36<00:00,  1.22s/it, loss=0.131, iou=0.761]\n",
            "100%|██████████| 8/8 [00:03<00:00,  2.05it/s, loss=0.331, iou=0.258]\n"
          ]
        },
        {
          "metadata": {
            "tags": null
          },
          "name": "stdout",
          "output_type": "stream",
          "text": [
            "loss 0.1314 - iou 0.7606 - val_loss 0.3313 - val_iou 0.2584\n",
            "Epoch [128/300]\n"
          ]
        },
        {
          "metadata": {
            "tags": null
          },
          "name": "stderr",
          "output_type": "stream",
          "text": [
            "100%|██████████| 30/30 [00:36<00:00,  1.21s/it, loss=0.129, iou=0.759]\n",
            "100%|██████████| 8/8 [00:03<00:00,  2.04it/s, loss=0.355, iou=0.058]\n"
          ]
        },
        {
          "metadata": {
            "tags": null
          },
          "name": "stdout",
          "output_type": "stream",
          "text": [
            "loss 0.1289 - iou 0.7586 - val_loss 0.3550 - val_iou 0.0580\n",
            "Epoch [129/300]\n"
          ]
        },
        {
          "metadata": {
            "tags": null
          },
          "name": "stderr",
          "output_type": "stream",
          "text": [
            "100%|██████████| 30/30 [00:36<00:00,  1.21s/it, loss=0.127, iou=0.762]\n",
            "100%|██████████| 8/8 [00:03<00:00,  2.05it/s, loss=0.378, iou=1.28e-10]\n"
          ]
        },
        {
          "metadata": {
            "tags": null
          },
          "name": "stdout",
          "output_type": "stream",
          "text": [
            "loss 0.1273 - iou 0.7625 - val_loss 0.3783 - val_iou 0.0000\n",
            "Epoch [130/300]\n"
          ]
        },
        {
          "metadata": {
            "tags": null
          },
          "name": "stderr",
          "output_type": "stream",
          "text": [
            "100%|██████████| 30/30 [00:36<00:00,  1.21s/it, loss=0.126, iou=0.773]\n",
            "100%|██████████| 8/8 [00:03<00:00,  2.03it/s, loss=0.192, iou=0.53]\n"
          ]
        },
        {
          "metadata": {
            "tags": null
          },
          "name": "stdout",
          "output_type": "stream",
          "text": [
            "loss 0.1257 - iou 0.7729 - val_loss 0.1917 - val_iou 0.5301\n",
            "=> saved best model\n",
            "Epoch [131/300]\n"
          ]
        },
        {
          "metadata": {
            "tags": null
          },
          "name": "stderr",
          "output_type": "stream",
          "text": [
            "100%|██████████| 30/30 [00:36<00:00,  1.21s/it, loss=0.128, iou=0.757]\n",
            "100%|██████████| 8/8 [00:03<00:00,  2.04it/s, loss=0.366, iou=0.000303]\n"
          ]
        },
        {
          "metadata": {
            "tags": null
          },
          "name": "stdout",
          "output_type": "stream",
          "text": [
            "loss 0.1277 - iou 0.7569 - val_loss 0.3660 - val_iou 0.0003\n",
            "Epoch [132/300]\n"
          ]
        },
        {
          "metadata": {
            "tags": null
          },
          "name": "stderr",
          "output_type": "stream",
          "text": [
            "100%|██████████| 30/30 [00:36<00:00,  1.21s/it, loss=0.128, iou=0.766]\n",
            "100%|██████████| 8/8 [00:03<00:00,  2.05it/s, loss=0.303, iou=0.0128]\n"
          ]
        },
        {
          "metadata": {
            "tags": null
          },
          "name": "stdout",
          "output_type": "stream",
          "text": [
            "loss 0.1278 - iou 0.7662 - val_loss 0.3032 - val_iou 0.0128\n",
            "Epoch [133/300]\n"
          ]
        },
        {
          "metadata": {
            "tags": null
          },
          "name": "stderr",
          "output_type": "stream",
          "text": [
            "100%|██████████| 30/30 [00:36<00:00,  1.21s/it, loss=0.132, iou=0.749]\n",
            "100%|██████████| 8/8 [00:03<00:00,  2.07it/s, loss=0.181, iou=0.44]\n"
          ]
        },
        {
          "metadata": {
            "tags": null
          },
          "name": "stdout",
          "output_type": "stream",
          "text": [
            "loss 0.1315 - iou 0.7495 - val_loss 0.1815 - val_iou 0.4400\n",
            "Epoch [134/300]\n"
          ]
        },
        {
          "metadata": {
            "tags": null
          },
          "name": "stderr",
          "output_type": "stream",
          "text": [
            "100%|██████████| 30/30 [00:36<00:00,  1.21s/it, loss=0.129, iou=0.752]\n",
            "100%|██████████| 8/8 [00:03<00:00,  2.07it/s, loss=0.239, iou=0.048]\n"
          ]
        },
        {
          "metadata": {
            "tags": null
          },
          "name": "stdout",
          "output_type": "stream",
          "text": [
            "loss 0.1294 - iou 0.7519 - val_loss 0.2385 - val_iou 0.0480\n",
            "Epoch [135/300]\n"
          ]
        },
        {
          "metadata": {
            "tags": null
          },
          "name": "stderr",
          "output_type": "stream",
          "text": [
            "100%|██████████| 30/30 [00:36<00:00,  1.21s/it, loss=0.127, iou=0.778]\n",
            "100%|██████████| 8/8 [00:03<00:00,  2.06it/s, loss=0.394, iou=1.28e-10]\n"
          ]
        },
        {
          "metadata": {
            "tags": null
          },
          "name": "stdout",
          "output_type": "stream",
          "text": [
            "loss 0.1268 - iou 0.7783 - val_loss 0.3942 - val_iou 0.0000\n",
            "Epoch [136/300]\n"
          ]
        },
        {
          "metadata": {
            "tags": null
          },
          "name": "stderr",
          "output_type": "stream",
          "text": [
            "100%|██████████| 30/30 [00:36<00:00,  1.21s/it, loss=0.135, iou=0.729]\n",
            "100%|██████████| 8/8 [00:03<00:00,  2.08it/s, loss=0.386, iou=0.148]\n"
          ]
        },
        {
          "metadata": {
            "tags": null
          },
          "name": "stdout",
          "output_type": "stream",
          "text": [
            "loss 0.1351 - iou 0.7288 - val_loss 0.3855 - val_iou 0.1484\n",
            "Epoch [137/300]\n"
          ]
        },
        {
          "metadata": {
            "tags": null
          },
          "name": "stderr",
          "output_type": "stream",
          "text": [
            "100%|██████████| 30/30 [00:36<00:00,  1.21s/it, loss=0.131, iou=0.756]\n",
            "100%|██████████| 8/8 [00:03<00:00,  2.06it/s, loss=0.41, iou=1.28e-10]\n"
          ]
        },
        {
          "metadata": {
            "tags": null
          },
          "name": "stdout",
          "output_type": "stream",
          "text": [
            "loss 0.1314 - iou 0.7564 - val_loss 0.4102 - val_iou 0.0000\n",
            "Epoch [138/300]\n"
          ]
        },
        {
          "metadata": {
            "tags": null
          },
          "name": "stderr",
          "output_type": "stream",
          "text": [
            "100%|██████████| 30/30 [00:36<00:00,  1.21s/it, loss=0.126, iou=0.776]\n",
            "100%|██████████| 8/8 [00:03<00:00,  2.04it/s, loss=0.228, iou=0.204]\n"
          ]
        },
        {
          "metadata": {
            "tags": null
          },
          "name": "stdout",
          "output_type": "stream",
          "text": [
            "loss 0.1259 - iou 0.7760 - val_loss 0.2275 - val_iou 0.2043\n",
            "Epoch [139/300]\n"
          ]
        },
        {
          "metadata": {
            "tags": null
          },
          "name": "stderr",
          "output_type": "stream",
          "text": [
            "100%|██████████| 30/30 [00:36<00:00,  1.21s/it, loss=0.129, iou=0.756]\n",
            "100%|██████████| 8/8 [00:03<00:00,  2.04it/s, loss=0.226, iou=0.38]\n"
          ]
        },
        {
          "metadata": {
            "tags": null
          },
          "name": "stdout",
          "output_type": "stream",
          "text": [
            "loss 0.1293 - iou 0.7557 - val_loss 0.2263 - val_iou 0.3801\n",
            "Epoch [140/300]\n"
          ]
        },
        {
          "metadata": {
            "tags": null
          },
          "name": "stderr",
          "output_type": "stream",
          "text": [
            "100%|██████████| 30/30 [00:36<00:00,  1.21s/it, loss=0.127, iou=0.763]\n",
            "100%|██████████| 8/8 [00:03<00:00,  2.03it/s, loss=0.151, iou=0.616]\n"
          ]
        },
        {
          "metadata": {
            "tags": null
          },
          "name": "stdout",
          "output_type": "stream",
          "text": [
            "loss 0.1273 - iou 0.7635 - val_loss 0.1506 - val_iou 0.6162\n",
            "=> saved best model\n",
            "Epoch [141/300]\n"
          ]
        },
        {
          "metadata": {
            "tags": null
          },
          "name": "stderr",
          "output_type": "stream",
          "text": [
            "100%|██████████| 30/30 [00:36<00:00,  1.21s/it, loss=0.121, iou=0.789]\n",
            "100%|██████████| 8/8 [00:03<00:00,  2.04it/s, loss=0.255, iou=0.264]\n"
          ]
        },
        {
          "metadata": {
            "tags": null
          },
          "name": "stdout",
          "output_type": "stream",
          "text": [
            "loss 0.1209 - iou 0.7890 - val_loss 0.2554 - val_iou 0.2645\n",
            "Epoch [142/300]\n"
          ]
        },
        {
          "metadata": {
            "tags": null
          },
          "name": "stderr",
          "output_type": "stream",
          "text": [
            "100%|██████████| 30/30 [00:36<00:00,  1.21s/it, loss=0.125, iou=0.778]\n",
            "100%|██████████| 8/8 [00:03<00:00,  2.08it/s, loss=0.386, iou=0.00485]\n"
          ]
        },
        {
          "metadata": {
            "tags": null
          },
          "name": "stdout",
          "output_type": "stream",
          "text": [
            "loss 0.1254 - iou 0.7776 - val_loss 0.3865 - val_iou 0.0049\n",
            "Epoch [143/300]\n"
          ]
        },
        {
          "metadata": {
            "tags": null
          },
          "name": "stderr",
          "output_type": "stream",
          "text": [
            "100%|██████████| 30/30 [00:36<00:00,  1.21s/it, loss=0.125, iou=0.779]\n",
            "100%|██████████| 8/8 [00:03<00:00,  2.02it/s, loss=0.392, iou=1.28e-10]\n"
          ]
        },
        {
          "metadata": {
            "tags": null
          },
          "name": "stdout",
          "output_type": "stream",
          "text": [
            "loss 0.1246 - iou 0.7787 - val_loss 0.3915 - val_iou 0.0000\n",
            "Epoch [144/300]\n"
          ]
        },
        {
          "metadata": {
            "tags": null
          },
          "name": "stderr",
          "output_type": "stream",
          "text": [
            "100%|██████████| 30/30 [00:36<00:00,  1.21s/it, loss=0.125, iou=0.781]\n",
            "100%|██████████| 8/8 [00:03<00:00,  2.07it/s, loss=0.376, iou=1.28e-10]\n"
          ]
        },
        {
          "metadata": {
            "tags": null
          },
          "name": "stdout",
          "output_type": "stream",
          "text": [
            "loss 0.1247 - iou 0.7810 - val_loss 0.3764 - val_iou 0.0000\n",
            "Epoch [145/300]\n"
          ]
        },
        {
          "metadata": {
            "tags": null
          },
          "name": "stderr",
          "output_type": "stream",
          "text": [
            "100%|██████████| 30/30 [00:36<00:00,  1.21s/it, loss=0.122, iou=0.791]\n",
            "100%|██████████| 8/8 [00:03<00:00,  2.05it/s, loss=0.31, iou=0.00191]\n"
          ]
        },
        {
          "metadata": {
            "tags": null
          },
          "name": "stdout",
          "output_type": "stream",
          "text": [
            "loss 0.1219 - iou 0.7914 - val_loss 0.3104 - val_iou 0.0019\n",
            "Epoch [146/300]\n"
          ]
        },
        {
          "metadata": {
            "tags": null
          },
          "name": "stderr",
          "output_type": "stream",
          "text": [
            "100%|██████████| 30/30 [00:36<00:00,  1.21s/it, loss=0.127, iou=0.776]\n",
            "100%|██████████| 8/8 [00:03<00:00,  2.12it/s, loss=0.368, iou=1.28e-10]\n"
          ]
        },
        {
          "metadata": {
            "tags": null
          },
          "name": "stdout",
          "output_type": "stream",
          "text": [
            "loss 0.1265 - iou 0.7757 - val_loss 0.3681 - val_iou 0.0000\n",
            "Epoch [147/300]\n"
          ]
        },
        {
          "metadata": {
            "tags": null
          },
          "name": "stderr",
          "output_type": "stream",
          "text": [
            "100%|██████████| 30/30 [00:36<00:00,  1.21s/it, loss=0.125, iou=0.776]\n",
            "100%|██████████| 8/8 [00:03<00:00,  2.03it/s, loss=0.227, iou=0.332]\n"
          ]
        },
        {
          "metadata": {
            "tags": null
          },
          "name": "stdout",
          "output_type": "stream",
          "text": [
            "loss 0.1246 - iou 0.7762 - val_loss 0.2268 - val_iou 0.3318\n",
            "Epoch [148/300]\n"
          ]
        },
        {
          "metadata": {
            "tags": null
          },
          "name": "stderr",
          "output_type": "stream",
          "text": [
            "100%|██████████| 30/30 [00:36<00:00,  1.20s/it, loss=0.123, iou=0.789]\n",
            "100%|██████████| 8/8 [00:03<00:00,  2.02it/s, loss=0.22, iou=0.456]\n"
          ]
        },
        {
          "metadata": {
            "tags": null
          },
          "name": "stdout",
          "output_type": "stream",
          "text": [
            "loss 0.1227 - iou 0.7886 - val_loss 0.2199 - val_iou 0.4563\n",
            "Epoch [149/300]\n"
          ]
        },
        {
          "metadata": {
            "tags": null
          },
          "name": "stderr",
          "output_type": "stream",
          "text": [
            "100%|██████████| 30/30 [00:36<00:00,  1.21s/it, loss=0.122, iou=0.78]\n",
            "100%|██████████| 8/8 [00:03<00:00,  2.05it/s, loss=0.443, iou=1.28e-10]\n"
          ]
        },
        {
          "metadata": {
            "tags": null
          },
          "name": "stdout",
          "output_type": "stream",
          "text": [
            "loss 0.1217 - iou 0.7797 - val_loss 0.4433 - val_iou 0.0000\n",
            "Epoch [150/300]\n"
          ]
        },
        {
          "metadata": {
            "tags": null
          },
          "name": "stderr",
          "output_type": "stream",
          "text": [
            "100%|██████████| 30/30 [00:36<00:00,  1.20s/it, loss=0.123, iou=0.778]\n",
            "100%|██████████| 8/8 [00:03<00:00,  2.03it/s, loss=0.234, iou=0.142]\n"
          ]
        },
        {
          "metadata": {
            "tags": null
          },
          "name": "stdout",
          "output_type": "stream",
          "text": [
            "loss 0.1234 - iou 0.7778 - val_loss 0.2339 - val_iou 0.1425\n",
            "Epoch [151/300]\n"
          ]
        },
        {
          "metadata": {
            "tags": null
          },
          "name": "stderr",
          "output_type": "stream",
          "text": [
            "100%|██████████| 30/30 [00:36<00:00,  1.21s/it, loss=0.124, iou=0.78]\n",
            "100%|██████████| 8/8 [00:03<00:00,  2.03it/s, loss=0.295, iou=1.28e-10]\n"
          ]
        },
        {
          "metadata": {
            "tags": null
          },
          "name": "stdout",
          "output_type": "stream",
          "text": [
            "loss 0.1237 - iou 0.7797 - val_loss 0.2952 - val_iou 0.0000\n",
            "Epoch [152/300]\n"
          ]
        },
        {
          "metadata": {
            "tags": null
          },
          "name": "stderr",
          "output_type": "stream",
          "text": [
            "100%|██████████| 30/30 [00:36<00:00,  1.20s/it, loss=0.124, iou=0.782]\n",
            "100%|██████████| 8/8 [00:03<00:00,  2.04it/s, loss=0.302, iou=1.28e-10]\n"
          ]
        },
        {
          "metadata": {
            "tags": null
          },
          "name": "stdout",
          "output_type": "stream",
          "text": [
            "loss 0.1238 - iou 0.7816 - val_loss 0.3023 - val_iou 0.0000\n",
            "Epoch [153/300]\n"
          ]
        },
        {
          "metadata": {
            "tags": null
          },
          "name": "stderr",
          "output_type": "stream",
          "text": [
            "100%|██████████| 30/30 [00:36<00:00,  1.20s/it, loss=0.122, iou=0.787]\n",
            "100%|██████████| 8/8 [00:03<00:00,  2.02it/s, loss=0.453, iou=1.28e-10]\n"
          ]
        },
        {
          "metadata": {
            "tags": null
          },
          "name": "stdout",
          "output_type": "stream",
          "text": [
            "loss 0.1223 - iou 0.7866 - val_loss 0.4528 - val_iou 0.0000\n",
            "Epoch [154/300]\n"
          ]
        },
        {
          "metadata": {
            "tags": null
          },
          "name": "stderr",
          "output_type": "stream",
          "text": [
            "100%|██████████| 30/30 [00:36<00:00,  1.20s/it, loss=0.124, iou=0.782]\n",
            "100%|██████████| 8/8 [00:04<00:00,  1.98it/s, loss=0.229, iou=0.374]\n"
          ]
        },
        {
          "metadata": {
            "tags": null
          },
          "name": "stdout",
          "output_type": "stream",
          "text": [
            "loss 0.1239 - iou 0.7824 - val_loss 0.2287 - val_iou 0.3739\n",
            "Epoch [155/300]\n"
          ]
        },
        {
          "metadata": {
            "tags": null
          },
          "name": "stderr",
          "output_type": "stream",
          "text": [
            "100%|██████████| 30/30 [00:36<00:00,  1.21s/it, loss=0.123, iou=0.79]\n",
            "100%|██████████| 8/8 [00:03<00:00,  2.03it/s, loss=0.202, iou=0.465]\n"
          ]
        },
        {
          "metadata": {
            "tags": null
          },
          "name": "stdout",
          "output_type": "stream",
          "text": [
            "loss 0.1226 - iou 0.7898 - val_loss 0.2019 - val_iou 0.4646\n",
            "Epoch [156/300]\n"
          ]
        },
        {
          "metadata": {
            "tags": null
          },
          "name": "stderr",
          "output_type": "stream",
          "text": [
            "100%|██████████| 30/30 [00:36<00:00,  1.20s/it, loss=0.125, iou=0.778]\n",
            "100%|██████████| 8/8 [00:04<00:00,  1.98it/s, loss=0.216, iou=0.308]\n"
          ]
        },
        {
          "metadata": {
            "tags": null
          },
          "name": "stdout",
          "output_type": "stream",
          "text": [
            "loss 0.1252 - iou 0.7783 - val_loss 0.2160 - val_iou 0.3080\n",
            "Epoch [157/300]\n"
          ]
        },
        {
          "metadata": {
            "tags": null
          },
          "name": "stderr",
          "output_type": "stream",
          "text": [
            "100%|██████████| 30/30 [00:36<00:00,  1.20s/it, loss=0.125, iou=0.778]\n",
            "100%|██████████| 8/8 [00:04<00:00,  2.00it/s, loss=0.294, iou=0.0191]\n"
          ]
        },
        {
          "metadata": {
            "tags": null
          },
          "name": "stdout",
          "output_type": "stream",
          "text": [
            "loss 0.1255 - iou 0.7780 - val_loss 0.2938 - val_iou 0.0191\n",
            "Epoch [158/300]\n"
          ]
        },
        {
          "metadata": {
            "tags": null
          },
          "name": "stderr",
          "output_type": "stream",
          "text": [
            "100%|██████████| 30/30 [00:36<00:00,  1.20s/it, loss=0.126, iou=0.774]\n",
            "100%|██████████| 8/8 [00:03<00:00,  2.01it/s, loss=0.188, iou=0.37]\n"
          ]
        },
        {
          "metadata": {
            "tags": null
          },
          "name": "stdout",
          "output_type": "stream",
          "text": [
            "loss 0.1262 - iou 0.7745 - val_loss 0.1881 - val_iou 0.3702\n",
            "Epoch [159/300]\n"
          ]
        },
        {
          "metadata": {
            "tags": null
          },
          "name": "stderr",
          "output_type": "stream",
          "text": [
            "100%|██████████| 30/30 [00:36<00:00,  1.21s/it, loss=0.119, iou=0.802]\n",
            "100%|██████████| 8/8 [00:04<00:00,  1.99it/s, loss=0.265, iou=0.0667]\n"
          ]
        },
        {
          "metadata": {
            "tags": null
          },
          "name": "stdout",
          "output_type": "stream",
          "text": [
            "loss 0.1186 - iou 0.8017 - val_loss 0.2652 - val_iou 0.0667\n",
            "Epoch [160/300]\n"
          ]
        },
        {
          "metadata": {
            "tags": null
          },
          "name": "stderr",
          "output_type": "stream",
          "text": [
            "100%|██████████| 30/30 [00:36<00:00,  1.21s/it, loss=0.121, iou=0.795]\n",
            "100%|██████████| 8/8 [00:03<00:00,  2.03it/s, loss=0.246, iou=0.37]\n"
          ]
        },
        {
          "metadata": {
            "tags": null
          },
          "name": "stdout",
          "output_type": "stream",
          "text": [
            "loss 0.1213 - iou 0.7951 - val_loss 0.2459 - val_iou 0.3699\n",
            "Epoch [161/300]\n"
          ]
        },
        {
          "metadata": {
            "tags": null
          },
          "name": "stderr",
          "output_type": "stream",
          "text": [
            "100%|██████████| 30/30 [00:36<00:00,  1.20s/it, loss=0.115, iou=0.812]\n",
            "100%|██████████| 8/8 [00:03<00:00,  2.02it/s, loss=0.267, iou=0.272]\n"
          ]
        },
        {
          "metadata": {
            "tags": null
          },
          "name": "stdout",
          "output_type": "stream",
          "text": [
            "loss 0.1154 - iou 0.8123 - val_loss 0.2671 - val_iou 0.2724\n",
            "Epoch [162/300]\n"
          ]
        },
        {
          "metadata": {
            "tags": null
          },
          "name": "stderr",
          "output_type": "stream",
          "text": [
            "100%|██████████| 30/30 [00:35<00:00,  1.20s/it, loss=0.119, iou=0.8]\n",
            "100%|██████████| 8/8 [00:04<00:00,  1.99it/s, loss=0.264, iou=0.147]\n"
          ]
        },
        {
          "metadata": {
            "tags": null
          },
          "name": "stdout",
          "output_type": "stream",
          "text": [
            "loss 0.1186 - iou 0.7996 - val_loss 0.2637 - val_iou 0.1470\n",
            "Epoch [163/300]\n"
          ]
        },
        {
          "metadata": {
            "tags": null
          },
          "name": "stderr",
          "output_type": "stream",
          "text": [
            "100%|██████████| 30/30 [00:36<00:00,  1.20s/it, loss=0.12, iou=0.796]\n",
            "100%|██████████| 8/8 [00:03<00:00,  2.01it/s, loss=0.315, iou=0.0199]\n"
          ]
        },
        {
          "metadata": {
            "tags": null
          },
          "name": "stdout",
          "output_type": "stream",
          "text": [
            "loss 0.1200 - iou 0.7962 - val_loss 0.3146 - val_iou 0.0199\n",
            "Epoch [164/300]\n"
          ]
        },
        {
          "metadata": {
            "tags": null
          },
          "name": "stderr",
          "output_type": "stream",
          "text": [
            "100%|██████████| 30/30 [00:36<00:00,  1.20s/it, loss=0.116, iou=0.811]\n",
            "100%|██████████| 8/8 [00:03<00:00,  2.00it/s, loss=0.206, iou=0.314]\n"
          ]
        },
        {
          "metadata": {
            "tags": null
          },
          "name": "stdout",
          "output_type": "stream",
          "text": [
            "loss 0.1163 - iou 0.8105 - val_loss 0.2059 - val_iou 0.3136\n",
            "Epoch [165/300]\n"
          ]
        },
        {
          "metadata": {
            "tags": null
          },
          "name": "stderr",
          "output_type": "stream",
          "text": [
            "100%|██████████| 30/30 [00:35<00:00,  1.20s/it, loss=0.121, iou=0.793]\n",
            "100%|██████████| 8/8 [00:04<00:00,  1.99it/s, loss=0.402, iou=0.0842]\n"
          ]
        },
        {
          "metadata": {
            "tags": null
          },
          "name": "stdout",
          "output_type": "stream",
          "text": [
            "loss 0.1212 - iou 0.7928 - val_loss 0.4016 - val_iou 0.0842\n",
            "Epoch [166/300]\n"
          ]
        },
        {
          "metadata": {
            "tags": null
          },
          "name": "stderr",
          "output_type": "stream",
          "text": [
            "100%|██████████| 30/30 [00:36<00:00,  1.20s/it, loss=0.122, iou=0.79]\n",
            "100%|██████████| 8/8 [00:04<00:00,  1.97it/s, loss=0.33, iou=0.0171]\n"
          ]
        },
        {
          "metadata": {
            "tags": null
          },
          "name": "stdout",
          "output_type": "stream",
          "text": [
            "loss 0.1218 - iou 0.7897 - val_loss 0.3297 - val_iou 0.0171\n",
            "Epoch [167/300]\n"
          ]
        },
        {
          "metadata": {
            "tags": null
          },
          "name": "stderr",
          "output_type": "stream",
          "text": [
            "100%|██████████| 30/30 [00:35<00:00,  1.19s/it, loss=0.116, iou=0.816]\n",
            "100%|██████████| 8/8 [00:04<00:00,  1.96it/s, loss=0.203, iou=0.379]\n"
          ]
        },
        {
          "metadata": {
            "tags": null
          },
          "name": "stdout",
          "output_type": "stream",
          "text": [
            "loss 0.1162 - iou 0.8159 - val_loss 0.2028 - val_iou 0.3788\n",
            "Epoch [168/300]\n"
          ]
        },
        {
          "metadata": {
            "tags": null
          },
          "name": "stderr",
          "output_type": "stream",
          "text": [
            "100%|██████████| 30/30 [00:35<00:00,  1.20s/it, loss=0.118, iou=0.803]\n",
            "100%|██████████| 8/8 [00:04<00:00,  1.97it/s, loss=0.276, iou=0.186]\n"
          ]
        },
        {
          "metadata": {
            "tags": null
          },
          "name": "stdout",
          "output_type": "stream",
          "text": [
            "loss 0.1183 - iou 0.8030 - val_loss 0.2761 - val_iou 0.1859\n",
            "Epoch [169/300]\n"
          ]
        },
        {
          "metadata": {
            "tags": null
          },
          "name": "stderr",
          "output_type": "stream",
          "text": [
            "100%|██████████| 30/30 [00:35<00:00,  1.20s/it, loss=0.122, iou=0.793]\n",
            "100%|██████████| 8/8 [00:04<00:00,  1.95it/s, loss=0.286, iou=0.194]\n"
          ]
        },
        {
          "metadata": {
            "tags": null
          },
          "name": "stdout",
          "output_type": "stream",
          "text": [
            "loss 0.1216 - iou 0.7932 - val_loss 0.2857 - val_iou 0.1943\n",
            "Epoch [170/300]\n"
          ]
        },
        {
          "metadata": {
            "tags": null
          },
          "name": "stderr",
          "output_type": "stream",
          "text": [
            "100%|██████████| 30/30 [00:35<00:00,  1.20s/it, loss=0.12, iou=0.788]\n",
            "100%|██████████| 8/8 [00:04<00:00,  1.98it/s, loss=0.324, iou=1.28e-10]\n"
          ]
        },
        {
          "metadata": {
            "tags": null
          },
          "name": "stdout",
          "output_type": "stream",
          "text": [
            "loss 0.1200 - iou 0.7884 - val_loss 0.3238 - val_iou 0.0000\n",
            "Epoch [171/300]\n"
          ]
        },
        {
          "metadata": {
            "tags": null
          },
          "name": "stderr",
          "output_type": "stream",
          "text": [
            "100%|██████████| 30/30 [00:35<00:00,  1.20s/it, loss=0.115, iou=0.814]\n",
            "100%|██████████| 8/8 [00:04<00:00,  1.95it/s, loss=0.182, iou=0.509]\n"
          ]
        },
        {
          "metadata": {
            "tags": null
          },
          "name": "stdout",
          "output_type": "stream",
          "text": [
            "loss 0.1155 - iou 0.8139 - val_loss 0.1821 - val_iou 0.5090\n",
            "Epoch [172/300]\n"
          ]
        },
        {
          "metadata": {
            "tags": null
          },
          "name": "stderr",
          "output_type": "stream",
          "text": [
            "100%|██████████| 30/30 [00:35<00:00,  1.20s/it, loss=0.118, iou=0.797]\n",
            "100%|██████████| 8/8 [00:04<00:00,  1.95it/s, loss=0.407, iou=0.0903]\n"
          ]
        },
        {
          "metadata": {
            "tags": null
          },
          "name": "stdout",
          "output_type": "stream",
          "text": [
            "loss 0.1176 - iou 0.7972 - val_loss 0.4071 - val_iou 0.0903\n",
            "Epoch [173/300]\n"
          ]
        },
        {
          "metadata": {
            "tags": null
          },
          "name": "stderr",
          "output_type": "stream",
          "text": [
            "100%|██████████| 30/30 [00:36<00:00,  1.21s/it, loss=0.119, iou=0.812]\n",
            "100%|██████████| 8/8 [00:04<00:00,  1.95it/s, loss=0.313, iou=0.0203]\n"
          ]
        },
        {
          "metadata": {
            "tags": null
          },
          "name": "stdout",
          "output_type": "stream",
          "text": [
            "loss 0.1190 - iou 0.8125 - val_loss 0.3126 - val_iou 0.0203\n",
            "Epoch [174/300]\n"
          ]
        },
        {
          "metadata": {
            "tags": null
          },
          "name": "stderr",
          "output_type": "stream",
          "text": [
            "100%|██████████| 30/30 [00:36<00:00,  1.20s/it, loss=0.118, iou=0.807]\n",
            "100%|██████████| 8/8 [00:04<00:00,  1.98it/s, loss=0.391, iou=1.28e-10]\n"
          ]
        },
        {
          "metadata": {
            "tags": null
          },
          "name": "stdout",
          "output_type": "stream",
          "text": [
            "loss 0.1180 - iou 0.8068 - val_loss 0.3906 - val_iou 0.0000\n",
            "Epoch [175/300]\n"
          ]
        },
        {
          "metadata": {
            "tags": null
          },
          "name": "stderr",
          "output_type": "stream",
          "text": [
            "100%|██████████| 30/30 [00:35<00:00,  1.20s/it, loss=0.115, iou=0.811]\n",
            "100%|██████████| 8/8 [00:04<00:00,  1.93it/s, loss=0.231, iou=0.476]\n"
          ]
        },
        {
          "metadata": {
            "tags": null
          },
          "name": "stdout",
          "output_type": "stream",
          "text": [
            "loss 0.1155 - iou 0.8106 - val_loss 0.2310 - val_iou 0.4762\n",
            "Epoch [176/300]\n"
          ]
        },
        {
          "metadata": {
            "tags": null
          },
          "name": "stderr",
          "output_type": "stream",
          "text": [
            "100%|██████████| 30/30 [00:35<00:00,  1.20s/it, loss=0.122, iou=0.791]\n",
            "100%|██████████| 8/8 [00:04<00:00,  1.96it/s, loss=0.35, iou=0.00423]\n"
          ]
        },
        {
          "metadata": {
            "tags": null
          },
          "name": "stdout",
          "output_type": "stream",
          "text": [
            "loss 0.1223 - iou 0.7906 - val_loss 0.3500 - val_iou 0.0042\n",
            "Epoch [177/300]\n"
          ]
        },
        {
          "metadata": {
            "tags": null
          },
          "name": "stderr",
          "output_type": "stream",
          "text": [
            "100%|██████████| 30/30 [00:35<00:00,  1.20s/it, loss=0.122, iou=0.788]\n",
            "100%|██████████| 8/8 [00:04<00:00,  1.97it/s, loss=0.33, iou=1.28e-10]\n"
          ]
        },
        {
          "metadata": {
            "tags": null
          },
          "name": "stdout",
          "output_type": "stream",
          "text": [
            "loss 0.1218 - iou 0.7882 - val_loss 0.3303 - val_iou 0.0000\n",
            "Epoch [178/300]\n"
          ]
        },
        {
          "metadata": {
            "tags": null
          },
          "name": "stderr",
          "output_type": "stream",
          "text": [
            "100%|██████████| 30/30 [00:35<00:00,  1.19s/it, loss=0.119, iou=0.796]\n",
            "100%|██████████| 8/8 [00:04<00:00,  1.96it/s, loss=0.232, iou=0.182]\n"
          ]
        },
        {
          "metadata": {
            "tags": null
          },
          "name": "stdout",
          "output_type": "stream",
          "text": [
            "loss 0.1186 - iou 0.7961 - val_loss 0.2316 - val_iou 0.1820\n",
            "Epoch [179/300]\n"
          ]
        },
        {
          "metadata": {
            "tags": null
          },
          "name": "stderr",
          "output_type": "stream",
          "text": [
            "100%|██████████| 30/30 [00:35<00:00,  1.20s/it, loss=0.118, iou=0.802]\n",
            "100%|██████████| 8/8 [00:04<00:00,  1.97it/s, loss=0.165, iou=0.609]\n"
          ]
        },
        {
          "metadata": {
            "tags": null
          },
          "name": "stdout",
          "output_type": "stream",
          "text": [
            "loss 0.1183 - iou 0.8023 - val_loss 0.1654 - val_iou 0.6091\n",
            "Epoch [180/300]\n"
          ]
        },
        {
          "metadata": {
            "tags": null
          },
          "name": "stderr",
          "output_type": "stream",
          "text": [
            "100%|██████████| 30/30 [00:35<00:00,  1.19s/it, loss=0.114, iou=0.816]\n",
            "100%|██████████| 8/8 [00:04<00:00,  1.94it/s, loss=0.282, iou=0.303]\n"
          ]
        },
        {
          "metadata": {
            "tags": null
          },
          "name": "stdout",
          "output_type": "stream",
          "text": [
            "loss 0.1144 - iou 0.8156 - val_loss 0.2816 - val_iou 0.3034\n",
            "Epoch [181/300]\n"
          ]
        },
        {
          "metadata": {
            "tags": null
          },
          "name": "stderr",
          "output_type": "stream",
          "text": [
            "100%|██████████| 30/30 [00:35<00:00,  1.19s/it, loss=0.117, iou=0.806]\n",
            "100%|██████████| 8/8 [00:04<00:00,  1.95it/s, loss=0.346, iou=0.00717]\n"
          ]
        },
        {
          "metadata": {
            "tags": null
          },
          "name": "stdout",
          "output_type": "stream",
          "text": [
            "loss 0.1168 - iou 0.8055 - val_loss 0.3458 - val_iou 0.0072\n",
            "Epoch [182/300]\n"
          ]
        },
        {
          "metadata": {
            "tags": null
          },
          "name": "stderr",
          "output_type": "stream",
          "text": [
            "100%|██████████| 30/30 [00:35<00:00,  1.19s/it, loss=0.114, iou=0.821]\n",
            "100%|██████████| 8/8 [00:04<00:00,  1.96it/s, loss=0.171, iou=0.579]\n"
          ]
        },
        {
          "metadata": {
            "tags": null
          },
          "name": "stdout",
          "output_type": "stream",
          "text": [
            "loss 0.1139 - iou 0.8214 - val_loss 0.1707 - val_iou 0.5788\n",
            "Epoch [183/300]\n"
          ]
        },
        {
          "metadata": {
            "tags": null
          },
          "name": "stderr",
          "output_type": "stream",
          "text": [
            "100%|██████████| 30/30 [00:35<00:00,  1.20s/it, loss=0.116, iou=0.816]\n",
            "100%|██████████| 8/8 [00:04<00:00,  1.95it/s, loss=0.293, iou=0.402]\n"
          ]
        },
        {
          "metadata": {
            "tags": null
          },
          "name": "stdout",
          "output_type": "stream",
          "text": [
            "loss 0.1160 - iou 0.8161 - val_loss 0.2928 - val_iou 0.4019\n",
            "Epoch [184/300]\n"
          ]
        },
        {
          "metadata": {
            "tags": null
          },
          "name": "stderr",
          "output_type": "stream",
          "text": [
            "100%|██████████| 30/30 [00:35<00:00,  1.20s/it, loss=0.112, iou=0.814]\n",
            "100%|██████████| 8/8 [00:04<00:00,  1.98it/s, loss=0.367, iou=0.000266]\n"
          ]
        },
        {
          "metadata": {
            "tags": null
          },
          "name": "stdout",
          "output_type": "stream",
          "text": [
            "loss 0.1119 - iou 0.8144 - val_loss 0.3665 - val_iou 0.0003\n",
            "Epoch [185/300]\n"
          ]
        },
        {
          "metadata": {
            "tags": null
          },
          "name": "stderr",
          "output_type": "stream",
          "text": [
            "100%|██████████| 30/30 [00:35<00:00,  1.20s/it, loss=0.111, iou=0.83]\n",
            "100%|██████████| 8/8 [00:03<00:00,  2.00it/s, loss=0.388, iou=0.00196]\n"
          ]
        },
        {
          "metadata": {
            "tags": null
          },
          "name": "stdout",
          "output_type": "stream",
          "text": [
            "loss 0.1106 - iou 0.8297 - val_loss 0.3879 - val_iou 0.0020\n",
            "Epoch [186/300]\n"
          ]
        },
        {
          "metadata": {
            "tags": null
          },
          "name": "stderr",
          "output_type": "stream",
          "text": [
            "100%|██████████| 30/30 [00:36<00:00,  1.20s/it, loss=0.118, iou=0.799]\n",
            "100%|██████████| 8/8 [00:04<00:00,  1.98it/s, loss=0.282, iou=0.233]\n"
          ]
        },
        {
          "metadata": {
            "tags": null
          },
          "name": "stdout",
          "output_type": "stream",
          "text": [
            "loss 0.1182 - iou 0.7987 - val_loss 0.2824 - val_iou 0.2329\n",
            "Epoch [187/300]\n"
          ]
        },
        {
          "metadata": {
            "tags": null
          },
          "name": "stderr",
          "output_type": "stream",
          "text": [
            "100%|██████████| 30/30 [00:36<00:00,  1.20s/it, loss=0.116, iou=0.821]\n",
            "100%|██████████| 8/8 [00:04<00:00,  1.95it/s, loss=0.213, iou=0.412]\n"
          ]
        },
        {
          "metadata": {
            "tags": null
          },
          "name": "stdout",
          "output_type": "stream",
          "text": [
            "loss 0.1160 - iou 0.8213 - val_loss 0.2131 - val_iou 0.4121\n",
            "Epoch [188/300]\n"
          ]
        },
        {
          "metadata": {
            "tags": null
          },
          "name": "stderr",
          "output_type": "stream",
          "text": [
            "100%|██████████| 30/30 [00:35<00:00,  1.20s/it, loss=0.117, iou=0.803]\n",
            "100%|██████████| 8/8 [00:03<00:00,  2.00it/s, loss=0.433, iou=1.28e-10]\n"
          ]
        },
        {
          "metadata": {
            "tags": null
          },
          "name": "stdout",
          "output_type": "stream",
          "text": [
            "loss 0.1169 - iou 0.8034 - val_loss 0.4330 - val_iou 0.0000\n",
            "Epoch [189/300]\n"
          ]
        },
        {
          "metadata": {
            "tags": null
          },
          "name": "stderr",
          "output_type": "stream",
          "text": [
            "100%|██████████| 30/30 [00:35<00:00,  1.20s/it, loss=0.114, iou=0.815]\n",
            "100%|██████████| 8/8 [00:03<00:00,  2.03it/s, loss=0.166, iou=0.604]\n"
          ]
        },
        {
          "metadata": {
            "tags": null
          },
          "name": "stdout",
          "output_type": "stream",
          "text": [
            "loss 0.1140 - iou 0.8154 - val_loss 0.1660 - val_iou 0.6045\n",
            "Epoch [190/300]\n"
          ]
        },
        {
          "metadata": {
            "tags": null
          },
          "name": "stderr",
          "output_type": "stream",
          "text": [
            "100%|██████████| 30/30 [00:35<00:00,  1.20s/it, loss=0.113, iou=0.827]\n",
            "100%|██████████| 8/8 [00:03<00:00,  2.04it/s, loss=0.342, iou=0.136]\n"
          ]
        },
        {
          "metadata": {
            "tags": null
          },
          "name": "stdout",
          "output_type": "stream",
          "text": [
            "loss 0.1134 - iou 0.8269 - val_loss 0.3422 - val_iou 0.1365\n",
            "Epoch [191/300]\n"
          ]
        },
        {
          "metadata": {
            "tags": null
          },
          "name": "stderr",
          "output_type": "stream",
          "text": [
            "100%|██████████| 30/30 [00:35<00:00,  1.20s/it, loss=0.11, iou=0.833]\n",
            "100%|██████████| 8/8 [00:03<00:00,  2.06it/s, loss=0.31, iou=0.0332]\n"
          ]
        },
        {
          "metadata": {
            "tags": null
          },
          "name": "stdout",
          "output_type": "stream",
          "text": [
            "loss 0.1102 - iou 0.8329 - val_loss 0.3096 - val_iou 0.0332\n",
            "Epoch [192/300]\n"
          ]
        },
        {
          "metadata": {
            "tags": null
          },
          "name": "stderr",
          "output_type": "stream",
          "text": [
            "100%|██████████| 30/30 [00:35<00:00,  1.20s/it, loss=0.115, iou=0.809]\n",
            "100%|██████████| 8/8 [00:03<00:00,  2.09it/s, loss=0.192, iou=0.392]\n"
          ]
        },
        {
          "metadata": {
            "tags": null
          },
          "name": "stdout",
          "output_type": "stream",
          "text": [
            "loss 0.1146 - iou 0.8085 - val_loss 0.1921 - val_iou 0.3916\n",
            "Epoch [193/300]\n"
          ]
        },
        {
          "metadata": {
            "tags": null
          },
          "name": "stderr",
          "output_type": "stream",
          "text": [
            "100%|██████████| 30/30 [00:36<00:00,  1.20s/it, loss=0.112, iou=0.834]\n",
            "100%|██████████| 8/8 [00:03<00:00,  2.08it/s, loss=0.232, iou=0.224]\n"
          ]
        },
        {
          "metadata": {
            "tags": null
          },
          "name": "stdout",
          "output_type": "stream",
          "text": [
            "loss 0.1120 - iou 0.8336 - val_loss 0.2325 - val_iou 0.2239\n",
            "Epoch [194/300]\n"
          ]
        },
        {
          "metadata": {
            "tags": null
          },
          "name": "stderr",
          "output_type": "stream",
          "text": [
            "100%|██████████| 30/30 [00:36<00:00,  1.20s/it, loss=0.117, iou=0.816]\n",
            "100%|██████████| 8/8 [00:03<00:00,  2.10it/s, loss=0.369, iou=1.28e-10]\n"
          ]
        },
        {
          "metadata": {
            "tags": null
          },
          "name": "stdout",
          "output_type": "stream",
          "text": [
            "loss 0.1168 - iou 0.8156 - val_loss 0.3686 - val_iou 0.0000\n",
            "Epoch [195/300]\n"
          ]
        },
        {
          "metadata": {
            "tags": null
          },
          "name": "stderr",
          "output_type": "stream",
          "text": [
            "100%|██████████| 30/30 [00:35<00:00,  1.20s/it, loss=0.118, iou=0.806]\n",
            "100%|██████████| 8/8 [00:03<00:00,  2.11it/s, loss=0.218, iou=0.312]\n"
          ]
        },
        {
          "metadata": {
            "tags": null
          },
          "name": "stdout",
          "output_type": "stream",
          "text": [
            "loss 0.1185 - iou 0.8060 - val_loss 0.2182 - val_iou 0.3119\n",
            "Epoch [196/300]\n"
          ]
        },
        {
          "metadata": {
            "tags": null
          },
          "name": "stderr",
          "output_type": "stream",
          "text": [
            "100%|██████████| 30/30 [00:35<00:00,  1.20s/it, loss=0.117, iou=0.814]\n",
            "100%|██████████| 8/8 [00:03<00:00,  2.10it/s, loss=0.345, iou=0.00508]\n"
          ]
        },
        {
          "metadata": {
            "tags": null
          },
          "name": "stdout",
          "output_type": "stream",
          "text": [
            "loss 0.1170 - iou 0.8139 - val_loss 0.3449 - val_iou 0.0051\n",
            "Epoch [197/300]\n"
          ]
        },
        {
          "metadata": {
            "tags": null
          },
          "name": "stderr",
          "output_type": "stream",
          "text": [
            "100%|██████████| 30/30 [00:35<00:00,  1.20s/it, loss=0.112, iou=0.829]\n",
            "100%|██████████| 8/8 [00:03<00:00,  2.08it/s, loss=0.274, iou=0.346]\n"
          ]
        },
        {
          "metadata": {
            "tags": null
          },
          "name": "stdout",
          "output_type": "stream",
          "text": [
            "loss 0.1120 - iou 0.8290 - val_loss 0.2741 - val_iou 0.3460\n",
            "Epoch [198/300]\n"
          ]
        },
        {
          "metadata": {
            "tags": null
          },
          "name": "stderr",
          "output_type": "stream",
          "text": [
            "100%|██████████| 30/30 [00:35<00:00,  1.20s/it, loss=0.113, iou=0.827]\n",
            "100%|██████████| 8/8 [00:03<00:00,  2.09it/s, loss=0.406, iou=0.0266]\n"
          ]
        },
        {
          "metadata": {
            "tags": null
          },
          "name": "stdout",
          "output_type": "stream",
          "text": [
            "loss 0.1130 - iou 0.8266 - val_loss 0.4060 - val_iou 0.0266\n",
            "Epoch [199/300]\n"
          ]
        },
        {
          "metadata": {
            "tags": null
          },
          "name": "stderr",
          "output_type": "stream",
          "text": [
            "100%|██████████| 30/30 [00:36<00:00,  1.22s/it, loss=0.115, iou=0.813]\n",
            "100%|██████████| 8/8 [00:03<00:00,  2.11it/s, loss=0.265, iou=0.242]\n"
          ]
        },
        {
          "metadata": {
            "tags": null
          },
          "name": "stdout",
          "output_type": "stream",
          "text": [
            "loss 0.1147 - iou 0.8128 - val_loss 0.2652 - val_iou 0.2420\n",
            "Epoch [200/300]\n"
          ]
        },
        {
          "metadata": {
            "tags": null
          },
          "name": "stderr",
          "output_type": "stream",
          "text": [
            "100%|██████████| 30/30 [00:36<00:00,  1.20s/it, loss=0.115, iou=0.809]\n",
            "100%|██████████| 8/8 [00:03<00:00,  2.10it/s, loss=0.344, iou=0.0245]\n"
          ]
        },
        {
          "metadata": {
            "tags": null
          },
          "name": "stdout",
          "output_type": "stream",
          "text": [
            "loss 0.1147 - iou 0.8090 - val_loss 0.3436 - val_iou 0.0245\n",
            "Epoch [201/300]\n"
          ]
        },
        {
          "metadata": {
            "tags": null
          },
          "name": "stderr",
          "output_type": "stream",
          "text": [
            "100%|██████████| 30/30 [00:35<00:00,  1.20s/it, loss=0.117, iou=0.81]\n",
            "100%|██████████| 8/8 [00:03<00:00,  2.09it/s, loss=0.36, iou=1.28e-10]\n"
          ]
        },
        {
          "metadata": {
            "tags": null
          },
          "name": "stdout",
          "output_type": "stream",
          "text": [
            "loss 0.1170 - iou 0.8098 - val_loss 0.3603 - val_iou 0.0000\n",
            "Epoch [202/300]\n"
          ]
        },
        {
          "metadata": {
            "tags": null
          },
          "name": "stderr",
          "output_type": "stream",
          "text": [
            "100%|██████████| 30/30 [00:35<00:00,  1.20s/it, loss=0.116, iou=0.811]\n",
            "100%|██████████| 8/8 [00:03<00:00,  2.11it/s, loss=0.376, iou=0.00322]\n"
          ]
        },
        {
          "metadata": {
            "tags": null
          },
          "name": "stdout",
          "output_type": "stream",
          "text": [
            "loss 0.1165 - iou 0.8111 - val_loss 0.3757 - val_iou 0.0032\n",
            "Epoch [203/300]\n"
          ]
        },
        {
          "metadata": {
            "tags": null
          },
          "name": "stderr",
          "output_type": "stream",
          "text": [
            "100%|██████████| 30/30 [00:35<00:00,  1.19s/it, loss=0.117, iou=0.805]\n",
            "100%|██████████| 8/8 [00:03<00:00,  2.09it/s, loss=0.24, iou=0.137]\n"
          ]
        },
        {
          "metadata": {
            "tags": null
          },
          "name": "stdout",
          "output_type": "stream",
          "text": [
            "loss 0.1175 - iou 0.8051 - val_loss 0.2404 - val_iou 0.1366\n",
            "Epoch [204/300]\n"
          ]
        },
        {
          "metadata": {
            "tags": null
          },
          "name": "stderr",
          "output_type": "stream",
          "text": [
            "100%|██████████| 30/30 [00:35<00:00,  1.20s/it, loss=0.113, iou=0.822]\n",
            "100%|██████████| 8/8 [00:03<00:00,  2.12it/s, loss=0.297, iou=1.28e-10]\n"
          ]
        },
        {
          "metadata": {
            "tags": null
          },
          "name": "stdout",
          "output_type": "stream",
          "text": [
            "loss 0.1129 - iou 0.8222 - val_loss 0.2971 - val_iou 0.0000\n",
            "Epoch [205/300]\n"
          ]
        },
        {
          "metadata": {
            "tags": null
          },
          "name": "stderr",
          "output_type": "stream",
          "text": [
            "100%|██████████| 30/30 [00:35<00:00,  1.20s/it, loss=0.111, iou=0.834]\n",
            "100%|██████████| 8/8 [00:03<00:00,  2.09it/s, loss=0.34, iou=1.28e-10]\n"
          ]
        },
        {
          "metadata": {
            "tags": null
          },
          "name": "stdout",
          "output_type": "stream",
          "text": [
            "loss 0.1112 - iou 0.8341 - val_loss 0.3400 - val_iou 0.0000\n",
            "Epoch [206/300]\n"
          ]
        },
        {
          "metadata": {
            "tags": null
          },
          "name": "stderr",
          "output_type": "stream",
          "text": [
            "100%|██████████| 30/30 [00:35<00:00,  1.19s/it, loss=0.11, iou=0.841]\n",
            "100%|██████████| 8/8 [00:03<00:00,  2.04it/s, loss=0.245, iou=0.225]\n"
          ]
        },
        {
          "metadata": {
            "tags": null
          },
          "name": "stdout",
          "output_type": "stream",
          "text": [
            "loss 0.1096 - iou 0.8414 - val_loss 0.2451 - val_iou 0.2253\n",
            "Epoch [207/300]\n"
          ]
        },
        {
          "metadata": {
            "tags": null
          },
          "name": "stderr",
          "output_type": "stream",
          "text": [
            "100%|██████████| 30/30 [00:36<00:00,  1.20s/it, loss=0.115, iou=0.812]\n",
            "100%|██████████| 8/8 [00:03<00:00,  2.06it/s, loss=0.253, iou=0.355]\n"
          ]
        },
        {
          "metadata": {
            "tags": null
          },
          "name": "stdout",
          "output_type": "stream",
          "text": [
            "loss 0.1147 - iou 0.8124 - val_loss 0.2525 - val_iou 0.3546\n",
            "Epoch [208/300]\n"
          ]
        },
        {
          "metadata": {
            "tags": null
          },
          "name": "stderr",
          "output_type": "stream",
          "text": [
            "100%|██████████| 30/30 [00:35<00:00,  1.20s/it, loss=0.114, iou=0.835]\n",
            "100%|██████████| 8/8 [00:03<00:00,  2.05it/s, loss=0.33, iou=0.0888]\n"
          ]
        },
        {
          "metadata": {
            "tags": null
          },
          "name": "stdout",
          "output_type": "stream",
          "text": [
            "loss 0.1141 - iou 0.8350 - val_loss 0.3304 - val_iou 0.0888\n",
            "Epoch [209/300]\n"
          ]
        },
        {
          "metadata": {
            "tags": null
          },
          "name": "stderr",
          "output_type": "stream",
          "text": [
            "100%|██████████| 30/30 [00:35<00:00,  1.19s/it, loss=0.115, iou=0.813]\n",
            "100%|██████████| 8/8 [00:03<00:00,  2.04it/s, loss=0.376, iou=8.06e-5]\n"
          ]
        },
        {
          "metadata": {
            "tags": null
          },
          "name": "stdout",
          "output_type": "stream",
          "text": [
            "loss 0.1147 - iou 0.8126 - val_loss 0.3764 - val_iou 0.0001\n",
            "Epoch [210/300]\n"
          ]
        },
        {
          "metadata": {
            "tags": null
          },
          "name": "stderr",
          "output_type": "stream",
          "text": [
            "100%|██████████| 30/30 [00:35<00:00,  1.19s/it, loss=0.114, iou=0.829]\n",
            "100%|██████████| 8/8 [00:03<00:00,  2.02it/s, loss=0.353, iou=0.00221]\n"
          ]
        },
        {
          "metadata": {
            "tags": null
          },
          "name": "stdout",
          "output_type": "stream",
          "text": [
            "loss 0.1141 - iou 0.8293 - val_loss 0.3530 - val_iou 0.0022\n",
            "Epoch [211/300]\n"
          ]
        },
        {
          "metadata": {
            "tags": null
          },
          "name": "stderr",
          "output_type": "stream",
          "text": [
            "100%|██████████| 30/30 [00:35<00:00,  1.19s/it, loss=0.112, iou=0.823]\n",
            "100%|██████████| 8/8 [00:04<00:00,  1.98it/s, loss=0.221, iou=0.214]\n"
          ]
        },
        {
          "metadata": {
            "tags": null
          },
          "name": "stdout",
          "output_type": "stream",
          "text": [
            "loss 0.1125 - iou 0.8235 - val_loss 0.2212 - val_iou 0.2137\n",
            "Epoch [212/300]\n"
          ]
        },
        {
          "metadata": {
            "tags": null
          },
          "name": "stderr",
          "output_type": "stream",
          "text": [
            "100%|██████████| 30/30 [00:35<00:00,  1.19s/it, loss=0.116, iou=0.796]\n",
            "100%|██████████| 8/8 [00:04<00:00,  1.98it/s, loss=0.305, iou=0.0533]\n"
          ]
        },
        {
          "metadata": {
            "tags": null
          },
          "name": "stdout",
          "output_type": "stream",
          "text": [
            "loss 0.1165 - iou 0.7958 - val_loss 0.3049 - val_iou 0.0533\n",
            "Epoch [213/300]\n"
          ]
        },
        {
          "metadata": {
            "tags": null
          },
          "name": "stderr",
          "output_type": "stream",
          "text": [
            "100%|██████████| 30/30 [00:35<00:00,  1.19s/it, loss=0.112, iou=0.82]\n",
            "100%|██████████| 8/8 [00:04<00:00,  1.95it/s, loss=0.279, iou=0.143]\n"
          ]
        },
        {
          "metadata": {
            "tags": null
          },
          "name": "stdout",
          "output_type": "stream",
          "text": [
            "loss 0.1120 - iou 0.8205 - val_loss 0.2786 - val_iou 0.1432\n",
            "Epoch [214/300]\n"
          ]
        },
        {
          "metadata": {
            "tags": null
          },
          "name": "stderr",
          "output_type": "stream",
          "text": [
            "100%|██████████| 30/30 [00:35<00:00,  1.19s/it, loss=0.112, iou=0.835]\n",
            "100%|██████████| 8/8 [00:04<00:00,  1.93it/s, loss=0.313, iou=0.0801]\n"
          ]
        },
        {
          "metadata": {
            "tags": null
          },
          "name": "stdout",
          "output_type": "stream",
          "text": [
            "loss 0.1121 - iou 0.8347 - val_loss 0.3130 - val_iou 0.0801\n",
            "Epoch [215/300]\n"
          ]
        },
        {
          "metadata": {
            "tags": null
          },
          "name": "stderr",
          "output_type": "stream",
          "text": [
            "100%|██████████| 30/30 [00:35<00:00,  1.19s/it, loss=0.113, iou=0.83]\n",
            "100%|██████████| 8/8 [00:04<00:00,  1.96it/s, loss=0.261, iou=0.159]\n"
          ]
        },
        {
          "metadata": {
            "tags": null
          },
          "name": "stdout",
          "output_type": "stream",
          "text": [
            "loss 0.1134 - iou 0.8295 - val_loss 0.2613 - val_iou 0.1592\n",
            "Epoch [216/300]\n"
          ]
        },
        {
          "metadata": {
            "tags": null
          },
          "name": "stderr",
          "output_type": "stream",
          "text": [
            "100%|██████████| 30/30 [00:35<00:00,  1.19s/it, loss=0.112, iou=0.821]\n",
            "100%|██████████| 8/8 [00:04<00:00,  1.97it/s, loss=0.448, iou=0.257]\n"
          ]
        },
        {
          "metadata": {
            "tags": null
          },
          "name": "stdout",
          "output_type": "stream",
          "text": [
            "loss 0.1117 - iou 0.8212 - val_loss 0.4478 - val_iou 0.2573\n",
            "Epoch [217/300]\n"
          ]
        },
        {
          "metadata": {
            "tags": null
          },
          "name": "stderr",
          "output_type": "stream",
          "text": [
            "100%|██████████| 30/30 [00:35<00:00,  1.19s/it, loss=0.111, iou=0.822]\n",
            "100%|██████████| 8/8 [00:04<00:00,  1.96it/s, loss=0.233, iou=0.211]\n"
          ]
        },
        {
          "metadata": {
            "tags": null
          },
          "name": "stdout",
          "output_type": "stream",
          "text": [
            "loss 0.1110 - iou 0.8218 - val_loss 0.2325 - val_iou 0.2108\n",
            "Epoch [218/300]\n"
          ]
        },
        {
          "metadata": {
            "tags": null
          },
          "name": "stderr",
          "output_type": "stream",
          "text": [
            "100%|██████████| 30/30 [00:35<00:00,  1.19s/it, loss=0.109, iou=0.839]\n",
            "100%|██████████| 8/8 [00:04<00:00,  1.95it/s, loss=0.247, iou=0.188]\n"
          ]
        },
        {
          "metadata": {
            "tags": null
          },
          "name": "stdout",
          "output_type": "stream",
          "text": [
            "loss 0.1090 - iou 0.8395 - val_loss 0.2472 - val_iou 0.1875\n",
            "Epoch [219/300]\n"
          ]
        },
        {
          "metadata": {
            "tags": null
          },
          "name": "stderr",
          "output_type": "stream",
          "text": [
            "100%|██████████| 30/30 [00:35<00:00,  1.19s/it, loss=0.109, iou=0.828]\n",
            "100%|██████████| 8/8 [00:04<00:00,  1.97it/s, loss=0.315, iou=0.0368]\n"
          ]
        },
        {
          "metadata": {
            "tags": null
          },
          "name": "stdout",
          "output_type": "stream",
          "text": [
            "loss 0.1092 - iou 0.8281 - val_loss 0.3153 - val_iou 0.0368\n",
            "Epoch [220/300]\n"
          ]
        },
        {
          "metadata": {
            "tags": null
          },
          "name": "stderr",
          "output_type": "stream",
          "text": [
            "100%|██████████| 30/30 [00:35<00:00,  1.20s/it, loss=0.118, iou=0.809]\n",
            "100%|██████████| 8/8 [00:04<00:00,  1.96it/s, loss=0.173, iou=0.571]\n"
          ]
        },
        {
          "metadata": {
            "tags": null
          },
          "name": "stdout",
          "output_type": "stream",
          "text": [
            "loss 0.1179 - iou 0.8086 - val_loss 0.1734 - val_iou 0.5715\n",
            "Epoch [221/300]\n"
          ]
        },
        {
          "metadata": {
            "tags": null
          },
          "name": "stderr",
          "output_type": "stream",
          "text": [
            "100%|██████████| 30/30 [00:35<00:00,  1.19s/it, loss=0.114, iou=0.82]\n",
            "100%|██████████| 8/8 [00:04<00:00,  1.98it/s, loss=0.228, iou=0.158]\n"
          ]
        },
        {
          "metadata": {
            "tags": null
          },
          "name": "stdout",
          "output_type": "stream",
          "text": [
            "loss 0.1137 - iou 0.8197 - val_loss 0.2278 - val_iou 0.1576\n",
            "Epoch [222/300]\n"
          ]
        },
        {
          "metadata": {
            "tags": null
          },
          "name": "stderr",
          "output_type": "stream",
          "text": [
            "100%|██████████| 30/30 [00:35<00:00,  1.19s/it, loss=0.113, iou=0.828]\n",
            "100%|██████████| 8/8 [00:04<00:00,  1.99it/s, loss=0.276, iou=0.133]\n"
          ]
        },
        {
          "metadata": {
            "tags": null
          },
          "name": "stdout",
          "output_type": "stream",
          "text": [
            "loss 0.1127 - iou 0.8283 - val_loss 0.2760 - val_iou 0.1327\n",
            "Epoch [223/300]\n"
          ]
        },
        {
          "metadata": {
            "tags": null
          },
          "name": "stderr",
          "output_type": "stream",
          "text": [
            "100%|██████████| 30/30 [00:35<00:00,  1.19s/it, loss=0.11, iou=0.84]\n",
            "100%|██████████| 8/8 [00:03<00:00,  2.02it/s, loss=0.346, iou=0.0996]\n"
          ]
        },
        {
          "metadata": {
            "tags": null
          },
          "name": "stdout",
          "output_type": "stream",
          "text": [
            "loss 0.1097 - iou 0.8396 - val_loss 0.3458 - val_iou 0.0996\n",
            "Epoch [224/300]\n"
          ]
        },
        {
          "metadata": {
            "tags": null
          },
          "name": "stderr",
          "output_type": "stream",
          "text": [
            "100%|██████████| 30/30 [00:35<00:00,  1.19s/it, loss=0.111, iou=0.833]\n",
            "100%|██████████| 8/8 [00:03<00:00,  2.04it/s, loss=0.441, iou=1.28e-10]\n"
          ]
        },
        {
          "metadata": {
            "tags": null
          },
          "name": "stdout",
          "output_type": "stream",
          "text": [
            "loss 0.1115 - iou 0.8335 - val_loss 0.4410 - val_iou 0.0000\n",
            "Epoch [225/300]\n"
          ]
        },
        {
          "metadata": {
            "tags": null
          },
          "name": "stderr",
          "output_type": "stream",
          "text": [
            "100%|██████████| 30/30 [00:35<00:00,  1.20s/it, loss=0.115, iou=0.82]\n",
            "100%|██████████| 8/8 [00:03<00:00,  2.05it/s, loss=0.384, iou=1.28e-10]\n"
          ]
        },
        {
          "metadata": {
            "tags": null
          },
          "name": "stdout",
          "output_type": "stream",
          "text": [
            "loss 0.1146 - iou 0.8196 - val_loss 0.3836 - val_iou 0.0000\n",
            "Epoch [226/300]\n"
          ]
        },
        {
          "metadata": {
            "tags": null
          },
          "name": "stderr",
          "output_type": "stream",
          "text": [
            "100%|██████████| 30/30 [00:35<00:00,  1.19s/it, loss=0.112, iou=0.831]\n",
            "100%|██████████| 8/8 [00:03<00:00,  2.06it/s, loss=0.371, iou=0.00364]\n"
          ]
        },
        {
          "metadata": {
            "tags": null
          },
          "name": "stdout",
          "output_type": "stream",
          "text": [
            "loss 0.1121 - iou 0.8311 - val_loss 0.3710 - val_iou 0.0036\n",
            "Epoch [227/300]\n"
          ]
        },
        {
          "metadata": {
            "tags": null
          },
          "name": "stderr",
          "output_type": "stream",
          "text": [
            "100%|██████████| 30/30 [00:35<00:00,  1.20s/it, loss=0.109, iou=0.836]\n",
            "100%|██████████| 8/8 [00:03<00:00,  2.09it/s, loss=0.302, iou=0.00152]\n"
          ]
        },
        {
          "metadata": {
            "tags": null
          },
          "name": "stdout",
          "output_type": "stream",
          "text": [
            "loss 0.1093 - iou 0.8357 - val_loss 0.3021 - val_iou 0.0015\n",
            "Epoch [228/300]\n"
          ]
        },
        {
          "metadata": {
            "tags": null
          },
          "name": "stderr",
          "output_type": "stream",
          "text": [
            "100%|██████████| 30/30 [00:35<00:00,  1.20s/it, loss=0.107, iou=0.833]\n",
            "100%|██████████| 8/8 [00:03<00:00,  2.10it/s, loss=0.308, iou=0.12]\n"
          ]
        },
        {
          "metadata": {
            "tags": null
          },
          "name": "stdout",
          "output_type": "stream",
          "text": [
            "loss 0.1070 - iou 0.8330 - val_loss 0.3082 - val_iou 0.1202\n",
            "Epoch [229/300]\n"
          ]
        },
        {
          "metadata": {
            "tags": null
          },
          "name": "stderr",
          "output_type": "stream",
          "text": [
            "100%|██████████| 30/30 [00:35<00:00,  1.20s/it, loss=0.11, iou=0.848]\n",
            "100%|██████████| 8/8 [00:03<00:00,  2.09it/s, loss=0.53, iou=0.0405]\n"
          ]
        },
        {
          "metadata": {
            "tags": null
          },
          "name": "stdout",
          "output_type": "stream",
          "text": [
            "loss 0.1100 - iou 0.8481 - val_loss 0.5303 - val_iou 0.0405\n",
            "Epoch [230/300]\n"
          ]
        },
        {
          "metadata": {
            "tags": null
          },
          "name": "stderr",
          "output_type": "stream",
          "text": [
            "100%|██████████| 30/30 [00:35<00:00,  1.20s/it, loss=0.109, iou=0.843]\n",
            "100%|██████████| 8/8 [00:03<00:00,  2.08it/s, loss=0.279, iou=0.305]\n"
          ]
        },
        {
          "metadata": {
            "tags": null
          },
          "name": "stdout",
          "output_type": "stream",
          "text": [
            "loss 0.1093 - iou 0.8433 - val_loss 0.2788 - val_iou 0.3055\n",
            "Epoch [231/300]\n"
          ]
        },
        {
          "metadata": {
            "tags": null
          },
          "name": "stderr",
          "output_type": "stream",
          "text": [
            "100%|██████████| 30/30 [00:35<00:00,  1.20s/it, loss=0.113, iou=0.827]\n",
            "100%|██████████| 8/8 [00:03<00:00,  2.08it/s, loss=0.312, iou=0.0354]\n"
          ]
        },
        {
          "metadata": {
            "tags": null
          },
          "name": "stdout",
          "output_type": "stream",
          "text": [
            "loss 0.1127 - iou 0.8275 - val_loss 0.3124 - val_iou 0.0354\n",
            "Epoch [232/300]\n"
          ]
        },
        {
          "metadata": {
            "tags": null
          },
          "name": "stderr",
          "output_type": "stream",
          "text": [
            "100%|██████████| 30/30 [00:35<00:00,  1.20s/it, loss=0.105, iou=0.855]\n",
            "100%|██████████| 8/8 [00:03<00:00,  2.09it/s, loss=0.41, iou=1.28e-10]\n"
          ]
        },
        {
          "metadata": {
            "tags": null
          },
          "name": "stdout",
          "output_type": "stream",
          "text": [
            "loss 0.1054 - iou 0.8546 - val_loss 0.4097 - val_iou 0.0000\n",
            "Epoch [233/300]\n"
          ]
        },
        {
          "metadata": {
            "tags": null
          },
          "name": "stderr",
          "output_type": "stream",
          "text": [
            "100%|██████████| 30/30 [00:35<00:00,  1.20s/it, loss=0.108, iou=0.841]\n",
            "100%|██████████| 8/8 [00:03<00:00,  2.11it/s, loss=0.398, iou=0.0146]\n"
          ]
        },
        {
          "metadata": {
            "tags": null
          },
          "name": "stdout",
          "output_type": "stream",
          "text": [
            "loss 0.1082 - iou 0.8408 - val_loss 0.3983 - val_iou 0.0146\n",
            "Epoch [234/300]\n"
          ]
        },
        {
          "metadata": {
            "tags": null
          },
          "name": "stderr",
          "output_type": "stream",
          "text": [
            "100%|██████████| 30/30 [00:36<00:00,  1.20s/it, loss=0.111, iou=0.823]\n",
            "100%|██████████| 8/8 [00:03<00:00,  2.07it/s, loss=0.459, iou=0.0416]\n"
          ]
        },
        {
          "metadata": {
            "tags": null
          },
          "name": "stdout",
          "output_type": "stream",
          "text": [
            "loss 0.1115 - iou 0.8225 - val_loss 0.4585 - val_iou 0.0416\n",
            "Epoch [235/300]\n"
          ]
        },
        {
          "metadata": {
            "tags": null
          },
          "name": "stderr",
          "output_type": "stream",
          "text": [
            "100%|██████████| 30/30 [00:35<00:00,  1.19s/it, loss=0.108, iou=0.841]\n",
            "100%|██████████| 8/8 [00:03<00:00,  2.10it/s, loss=0.368, iou=0.0465]\n"
          ]
        },
        {
          "metadata": {
            "tags": null
          },
          "name": "stdout",
          "output_type": "stream",
          "text": [
            "loss 0.1083 - iou 0.8412 - val_loss 0.3679 - val_iou 0.0465\n",
            "Epoch [236/300]\n"
          ]
        },
        {
          "metadata": {
            "tags": null
          },
          "name": "stderr",
          "output_type": "stream",
          "text": [
            "100%|██████████| 30/30 [00:35<00:00,  1.20s/it, loss=0.112, iou=0.817]\n",
            "100%|██████████| 8/8 [00:03<00:00,  2.12it/s, loss=0.271, iou=0.00913]\n"
          ]
        },
        {
          "metadata": {
            "tags": null
          },
          "name": "stdout",
          "output_type": "stream",
          "text": [
            "loss 0.1117 - iou 0.8168 - val_loss 0.2707 - val_iou 0.0091\n",
            "Epoch [237/300]\n"
          ]
        },
        {
          "metadata": {
            "tags": null
          },
          "name": "stderr",
          "output_type": "stream",
          "text": [
            "100%|██████████| 30/30 [00:35<00:00,  1.20s/it, loss=0.121, iou=0.801]\n",
            "100%|██████████| 8/8 [00:03<00:00,  2.08it/s, loss=0.234, iou=0.254]\n"
          ]
        },
        {
          "metadata": {
            "tags": null
          },
          "name": "stdout",
          "output_type": "stream",
          "text": [
            "loss 0.1213 - iou 0.8012 - val_loss 0.2338 - val_iou 0.2542\n",
            "Epoch [238/300]\n"
          ]
        },
        {
          "metadata": {
            "tags": null
          },
          "name": "stderr",
          "output_type": "stream",
          "text": [
            "100%|██████████| 30/30 [00:35<00:00,  1.19s/it, loss=0.108, iou=0.841]\n",
            "100%|██████████| 8/8 [00:03<00:00,  2.10it/s, loss=0.349, iou=0.0751]\n"
          ]
        },
        {
          "metadata": {
            "tags": null
          },
          "name": "stdout",
          "output_type": "stream",
          "text": [
            "loss 0.1075 - iou 0.8412 - val_loss 0.3490 - val_iou 0.0751\n",
            "Epoch [239/300]\n"
          ]
        },
        {
          "metadata": {
            "tags": null
          },
          "name": "stderr",
          "output_type": "stream",
          "text": [
            "100%|██████████| 30/30 [00:35<00:00,  1.20s/it, loss=0.111, iou=0.832]\n",
            "100%|██████████| 8/8 [00:03<00:00,  2.10it/s, loss=0.204, iou=0.453]\n"
          ]
        },
        {
          "metadata": {
            "tags": null
          },
          "name": "stdout",
          "output_type": "stream",
          "text": [
            "loss 0.1111 - iou 0.8325 - val_loss 0.2045 - val_iou 0.4532\n",
            "Epoch [240/300]\n"
          ]
        },
        {
          "metadata": {
            "tags": null
          },
          "name": "stderr",
          "output_type": "stream",
          "text": [
            "100%|██████████| 30/30 [00:35<00:00,  1.20s/it, loss=0.109, iou=0.835]\n",
            "100%|██████████| 8/8 [00:03<00:00,  2.09it/s, loss=0.329, iou=0.00644]\n"
          ]
        },
        {
          "metadata": {
            "tags": null
          },
          "name": "stdout",
          "output_type": "stream",
          "text": [
            "loss 0.1085 - iou 0.8354 - val_loss 0.3288 - val_iou 0.0064\n",
            "Epoch [241/300]\n"
          ]
        },
        {
          "metadata": {
            "tags": null
          },
          "name": "stderr",
          "output_type": "stream",
          "text": [
            "100%|██████████| 30/30 [00:35<00:00,  1.19s/it, loss=0.112, iou=0.826]\n",
            "100%|██████████| 8/8 [00:03<00:00,  2.10it/s, loss=0.428, iou=0.144]\n"
          ]
        },
        {
          "metadata": {
            "tags": null
          },
          "name": "stdout",
          "output_type": "stream",
          "text": [
            "loss 0.1118 - iou 0.8257 - val_loss 0.4278 - val_iou 0.1440\n",
            "Epoch [242/300]\n"
          ]
        },
        {
          "metadata": {
            "tags": null
          },
          "name": "stderr",
          "output_type": "stream",
          "text": [
            "100%|██████████| 30/30 [00:35<00:00,  1.20s/it, loss=0.106, iou=0.845]\n",
            "100%|██████████| 8/8 [00:03<00:00,  2.09it/s, loss=0.192, iou=0.486]\n"
          ]
        },
        {
          "metadata": {
            "tags": null
          },
          "name": "stdout",
          "output_type": "stream",
          "text": [
            "loss 0.1064 - iou 0.8454 - val_loss 0.1919 - val_iou 0.4856\n",
            "Epoch [243/300]\n"
          ]
        },
        {
          "metadata": {
            "tags": null
          },
          "name": "stderr",
          "output_type": "stream",
          "text": [
            "100%|██████████| 30/30 [00:35<00:00,  1.19s/it, loss=0.11, iou=0.832]\n",
            "100%|██████████| 8/8 [00:03<00:00,  2.10it/s, loss=0.354, iou=0.0107]\n"
          ]
        },
        {
          "metadata": {
            "tags": null
          },
          "name": "stdout",
          "output_type": "stream",
          "text": [
            "loss 0.1102 - iou 0.8317 - val_loss 0.3540 - val_iou 0.0107\n",
            "Epoch [244/300]\n"
          ]
        },
        {
          "metadata": {
            "tags": null
          },
          "name": "stderr",
          "output_type": "stream",
          "text": [
            "100%|██████████| 30/30 [00:35<00:00,  1.20s/it, loss=0.111, iou=0.83]\n",
            "100%|██████████| 8/8 [00:03<00:00,  2.04it/s, loss=0.243, iou=0.235]\n"
          ]
        },
        {
          "metadata": {
            "tags": null
          },
          "name": "stdout",
          "output_type": "stream",
          "text": [
            "loss 0.1110 - iou 0.8295 - val_loss 0.2433 - val_iou 0.2351\n",
            "Epoch [245/300]\n"
          ]
        },
        {
          "metadata": {
            "tags": null
          },
          "name": "stderr",
          "output_type": "stream",
          "text": [
            "100%|██████████| 30/30 [00:35<00:00,  1.19s/it, loss=0.104, iou=0.864]\n",
            "100%|██████████| 8/8 [00:03<00:00,  2.05it/s, loss=0.293, iou=0.0695]\n"
          ]
        },
        {
          "metadata": {
            "tags": null
          },
          "name": "stdout",
          "output_type": "stream",
          "text": [
            "loss 0.1035 - iou 0.8642 - val_loss 0.2933 - val_iou 0.0695\n",
            "Epoch [246/300]\n"
          ]
        },
        {
          "metadata": {
            "tags": null
          },
          "name": "stderr",
          "output_type": "stream",
          "text": [
            "100%|██████████| 30/30 [00:35<00:00,  1.18s/it, loss=0.102, iou=0.863]\n",
            "100%|██████████| 8/8 [00:04<00:00,  1.98it/s, loss=0.316, iou=0.0226]\n"
          ]
        },
        {
          "metadata": {
            "tags": null
          },
          "name": "stdout",
          "output_type": "stream",
          "text": [
            "loss 0.1023 - iou 0.8626 - val_loss 0.3162 - val_iou 0.0226\n",
            "Epoch [247/300]\n"
          ]
        },
        {
          "metadata": {
            "tags": null
          },
          "name": "stderr",
          "output_type": "stream",
          "text": [
            "100%|██████████| 30/30 [00:35<00:00,  1.19s/it, loss=0.109, iou=0.839]\n",
            "100%|██████████| 8/8 [00:03<00:00,  2.02it/s, loss=0.376, iou=0.00454]\n"
          ]
        },
        {
          "metadata": {
            "tags": null
          },
          "name": "stdout",
          "output_type": "stream",
          "text": [
            "loss 0.1092 - iou 0.8391 - val_loss 0.3759 - val_iou 0.0045\n",
            "Epoch [248/300]\n"
          ]
        },
        {
          "metadata": {
            "tags": null
          },
          "name": "stderr",
          "output_type": "stream",
          "text": [
            "100%|██████████| 30/30 [00:35<00:00,  1.19s/it, loss=0.114, iou=0.824]\n",
            "100%|██████████| 8/8 [00:04<00:00,  1.97it/s, loss=0.234, iou=0.142]\n"
          ]
        },
        {
          "metadata": {
            "tags": null
          },
          "name": "stdout",
          "output_type": "stream",
          "text": [
            "loss 0.1145 - iou 0.8245 - val_loss 0.2343 - val_iou 0.1422\n",
            "Epoch [249/300]\n"
          ]
        },
        {
          "metadata": {
            "tags": null
          },
          "name": "stderr",
          "output_type": "stream",
          "text": [
            "100%|██████████| 30/30 [00:35<00:00,  1.19s/it, loss=0.118, iou=0.797]\n",
            "100%|██████████| 8/8 [00:04<00:00,  1.96it/s, loss=0.397, iou=0.0482]\n"
          ]
        },
        {
          "metadata": {
            "tags": null
          },
          "name": "stdout",
          "output_type": "stream",
          "text": [
            "loss 0.1179 - iou 0.7973 - val_loss 0.3972 - val_iou 0.0482\n",
            "Epoch [250/300]\n"
          ]
        },
        {
          "metadata": {
            "tags": null
          },
          "name": "stderr",
          "output_type": "stream",
          "text": [
            "100%|██████████| 30/30 [00:35<00:00,  1.19s/it, loss=0.113, iou=0.837]\n",
            "100%|██████████| 8/8 [00:04<00:00,  1.95it/s, loss=0.294, iou=0.0314]\n"
          ]
        },
        {
          "metadata": {
            "tags": null
          },
          "name": "stdout",
          "output_type": "stream",
          "text": [
            "loss 0.1126 - iou 0.8370 - val_loss 0.2938 - val_iou 0.0314\n",
            "Epoch [251/300]\n"
          ]
        },
        {
          "metadata": {
            "tags": null
          },
          "name": "stderr",
          "output_type": "stream",
          "text": [
            "100%|██████████| 30/30 [00:35<00:00,  1.19s/it, loss=0.106, iou=0.846]\n",
            "100%|██████████| 8/8 [00:04<00:00,  1.94it/s, loss=0.243, iou=0.287]\n"
          ]
        },
        {
          "metadata": {
            "tags": null
          },
          "name": "stdout",
          "output_type": "stream",
          "text": [
            "loss 0.1062 - iou 0.8461 - val_loss 0.2427 - val_iou 0.2873\n",
            "Epoch [252/300]\n"
          ]
        },
        {
          "metadata": {
            "tags": null
          },
          "name": "stderr",
          "output_type": "stream",
          "text": [
            "100%|██████████| 30/30 [00:35<00:00,  1.19s/it, loss=0.104, iou=0.859]\n",
            "100%|██████████| 8/8 [00:04<00:00,  1.97it/s, loss=0.21, iou=0.396]\n"
          ]
        },
        {
          "metadata": {
            "tags": null
          },
          "name": "stdout",
          "output_type": "stream",
          "text": [
            "loss 0.1037 - iou 0.8586 - val_loss 0.2103 - val_iou 0.3963\n",
            "Epoch [253/300]\n"
          ]
        },
        {
          "metadata": {
            "tags": null
          },
          "name": "stderr",
          "output_type": "stream",
          "text": [
            "100%|██████████| 30/30 [00:35<00:00,  1.19s/it, loss=0.11, iou=0.825]\n",
            "100%|██████████| 8/8 [00:04<00:00,  1.98it/s, loss=0.368, iou=0.00404]\n"
          ]
        },
        {
          "metadata": {
            "tags": null
          },
          "name": "stdout",
          "output_type": "stream",
          "text": [
            "loss 0.1098 - iou 0.8250 - val_loss 0.3676 - val_iou 0.0040\n",
            "Epoch [254/300]\n"
          ]
        },
        {
          "metadata": {
            "tags": null
          },
          "name": "stderr",
          "output_type": "stream",
          "text": [
            "100%|██████████| 30/30 [00:35<00:00,  1.19s/it, loss=0.107, iou=0.84]\n",
            "100%|██████████| 8/8 [00:03<00:00,  2.00it/s, loss=0.357, iou=0.0327]\n"
          ]
        },
        {
          "metadata": {
            "tags": null
          },
          "name": "stdout",
          "output_type": "stream",
          "text": [
            "loss 0.1071 - iou 0.8403 - val_loss 0.3570 - val_iou 0.0327\n",
            "Epoch [255/300]\n"
          ]
        },
        {
          "metadata": {
            "tags": null
          },
          "name": "stderr",
          "output_type": "stream",
          "text": [
            "100%|██████████| 30/30 [00:35<00:00,  1.19s/it, loss=0.105, iou=0.852]\n",
            "100%|██████████| 8/8 [00:03<00:00,  2.02it/s, loss=0.268, iou=0.142]\n"
          ]
        },
        {
          "metadata": {
            "tags": null
          },
          "name": "stdout",
          "output_type": "stream",
          "text": [
            "loss 0.1054 - iou 0.8524 - val_loss 0.2680 - val_iou 0.1422\n",
            "Epoch [256/300]\n"
          ]
        },
        {
          "metadata": {
            "tags": null
          },
          "name": "stderr",
          "output_type": "stream",
          "text": [
            "100%|██████████| 30/30 [00:35<00:00,  1.19s/it, loss=0.107, iou=0.839]\n",
            "100%|██████████| 8/8 [00:03<00:00,  2.04it/s, loss=0.224, iou=0.489]\n"
          ]
        },
        {
          "metadata": {
            "tags": null
          },
          "name": "stdout",
          "output_type": "stream",
          "text": [
            "loss 0.1069 - iou 0.8394 - val_loss 0.2238 - val_iou 0.4888\n",
            "Epoch [257/300]\n"
          ]
        },
        {
          "metadata": {
            "tags": null
          },
          "name": "stderr",
          "output_type": "stream",
          "text": [
            "100%|██████████| 30/30 [00:35<00:00,  1.19s/it, loss=0.106, iou=0.856]\n",
            "100%|██████████| 8/8 [00:03<00:00,  2.07it/s, loss=0.385, iou=0.0589]\n"
          ]
        },
        {
          "metadata": {
            "tags": null
          },
          "name": "stdout",
          "output_type": "stream",
          "text": [
            "loss 0.1060 - iou 0.8561 - val_loss 0.3847 - val_iou 0.0589\n",
            "Epoch [258/300]\n"
          ]
        },
        {
          "metadata": {
            "tags": null
          },
          "name": "stderr",
          "output_type": "stream",
          "text": [
            "100%|██████████| 30/30 [00:35<00:00,  1.19s/it, loss=0.112, iou=0.82]\n",
            "100%|██████████| 8/8 [00:03<00:00,  2.11it/s, loss=0.26, iou=0.337]\n"
          ]
        },
        {
          "metadata": {
            "tags": null
          },
          "name": "stdout",
          "output_type": "stream",
          "text": [
            "loss 0.1116 - iou 0.8198 - val_loss 0.2596 - val_iou 0.3370\n",
            "Epoch [259/300]\n"
          ]
        },
        {
          "metadata": {
            "tags": null
          },
          "name": "stderr",
          "output_type": "stream",
          "text": [
            "100%|██████████| 30/30 [00:35<00:00,  1.19s/it, loss=0.107, iou=0.848]\n",
            "100%|██████████| 8/8 [00:03<00:00,  2.11it/s, loss=0.289, iou=0.335]\n"
          ]
        },
        {
          "metadata": {
            "tags": null
          },
          "name": "stdout",
          "output_type": "stream",
          "text": [
            "loss 0.1071 - iou 0.8478 - val_loss 0.2889 - val_iou 0.3354\n",
            "Epoch [260/300]\n"
          ]
        },
        {
          "metadata": {
            "tags": null
          },
          "name": "stderr",
          "output_type": "stream",
          "text": [
            "100%|██████████| 30/30 [00:35<00:00,  1.19s/it, loss=0.103, iou=0.859]\n",
            "100%|██████████| 8/8 [00:03<00:00,  2.10it/s, loss=0.391, iou=0.00072]\n"
          ]
        },
        {
          "metadata": {
            "tags": null
          },
          "name": "stdout",
          "output_type": "stream",
          "text": [
            "loss 0.1029 - iou 0.8591 - val_loss 0.3913 - val_iou 0.0007\n",
            "Epoch [261/300]\n"
          ]
        },
        {
          "metadata": {
            "tags": null
          },
          "name": "stderr",
          "output_type": "stream",
          "text": [
            "100%|██████████| 30/30 [00:35<00:00,  1.19s/it, loss=0.106, iou=0.837]\n",
            "100%|██████████| 8/8 [00:03<00:00,  2.12it/s, loss=0.458, iou=1.28e-10]\n"
          ]
        },
        {
          "metadata": {
            "tags": null
          },
          "name": "stdout",
          "output_type": "stream",
          "text": [
            "loss 0.1063 - iou 0.8366 - val_loss 0.4575 - val_iou 0.0000\n",
            "Epoch [262/300]\n"
          ]
        },
        {
          "metadata": {
            "tags": null
          },
          "name": "stderr",
          "output_type": "stream",
          "text": [
            "100%|██████████| 30/30 [00:35<00:00,  1.19s/it, loss=0.109, iou=0.829]\n",
            "100%|██████████| 8/8 [00:03<00:00,  2.11it/s, loss=0.299, iou=0.012]\n"
          ]
        },
        {
          "metadata": {
            "tags": null
          },
          "name": "stdout",
          "output_type": "stream",
          "text": [
            "loss 0.1094 - iou 0.8285 - val_loss 0.2988 - val_iou 0.0120\n",
            "Epoch [263/300]\n"
          ]
        },
        {
          "metadata": {
            "tags": null
          },
          "name": "stderr",
          "output_type": "stream",
          "text": [
            "100%|██████████| 30/30 [00:35<00:00,  1.18s/it, loss=0.11, iou=0.841]\n",
            "100%|██████████| 8/8 [00:03<00:00,  2.11it/s, loss=0.388, iou=0.000906]\n"
          ]
        },
        {
          "metadata": {
            "tags": null
          },
          "name": "stdout",
          "output_type": "stream",
          "text": [
            "loss 0.1098 - iou 0.8412 - val_loss 0.3880 - val_iou 0.0009\n",
            "Epoch [264/300]\n"
          ]
        },
        {
          "metadata": {
            "tags": null
          },
          "name": "stderr",
          "output_type": "stream",
          "text": [
            "100%|██████████| 30/30 [00:35<00:00,  1.19s/it, loss=0.109, iou=0.838]\n",
            "100%|██████████| 8/8 [00:03<00:00,  2.11it/s, loss=0.353, iou=1.28e-10]\n"
          ]
        },
        {
          "metadata": {
            "tags": null
          },
          "name": "stdout",
          "output_type": "stream",
          "text": [
            "loss 0.1093 - iou 0.8379 - val_loss 0.3535 - val_iou 0.0000\n",
            "Epoch [265/300]\n"
          ]
        },
        {
          "metadata": {
            "tags": null
          },
          "name": "stderr",
          "output_type": "stream",
          "text": [
            "100%|██████████| 30/30 [00:35<00:00,  1.19s/it, loss=0.103, iou=0.857]\n",
            "100%|██████████| 8/8 [00:03<00:00,  2.08it/s, loss=0.238, iou=0.246]\n"
          ]
        },
        {
          "metadata": {
            "tags": null
          },
          "name": "stdout",
          "output_type": "stream",
          "text": [
            "loss 0.1030 - iou 0.8569 - val_loss 0.2382 - val_iou 0.2460\n",
            "Epoch [266/300]\n"
          ]
        },
        {
          "metadata": {
            "tags": null
          },
          "name": "stderr",
          "output_type": "stream",
          "text": [
            "100%|██████████| 30/30 [00:35<00:00,  1.19s/it, loss=0.106, iou=0.835]\n",
            "100%|██████████| 8/8 [00:03<00:00,  2.09it/s, loss=0.354, iou=0.00159]\n"
          ]
        },
        {
          "metadata": {
            "tags": null
          },
          "name": "stdout",
          "output_type": "stream",
          "text": [
            "loss 0.1058 - iou 0.8347 - val_loss 0.3539 - val_iou 0.0016\n",
            "Epoch [267/300]\n"
          ]
        },
        {
          "metadata": {
            "tags": null
          },
          "name": "stderr",
          "output_type": "stream",
          "text": [
            "100%|██████████| 30/30 [00:35<00:00,  1.19s/it, loss=0.109, iou=0.841]\n",
            "100%|██████████| 8/8 [00:03<00:00,  2.12it/s, loss=0.311, iou=0.0246]\n"
          ]
        },
        {
          "metadata": {
            "tags": null
          },
          "name": "stdout",
          "output_type": "stream",
          "text": [
            "loss 0.1086 - iou 0.8407 - val_loss 0.3114 - val_iou 0.0246\n",
            "Epoch [268/300]\n"
          ]
        },
        {
          "metadata": {
            "tags": null
          },
          "name": "stderr",
          "output_type": "stream",
          "text": [
            "100%|██████████| 30/30 [00:35<00:00,  1.19s/it, loss=0.106, iou=0.842]\n",
            "100%|██████████| 8/8 [00:03<00:00,  2.03it/s, loss=0.361, iou=0.00785]\n"
          ]
        },
        {
          "metadata": {
            "tags": null
          },
          "name": "stdout",
          "output_type": "stream",
          "text": [
            "loss 0.1063 - iou 0.8417 - val_loss 0.3608 - val_iou 0.0079\n",
            "Epoch [269/300]\n"
          ]
        },
        {
          "metadata": {
            "tags": null
          },
          "name": "stderr",
          "output_type": "stream",
          "text": [
            "100%|██████████| 30/30 [00:35<00:00,  1.18s/it, loss=0.111, iou=0.829]\n",
            "100%|██████████| 8/8 [00:03<00:00,  2.01it/s, loss=0.388, iou=1.28e-10]\n"
          ]
        },
        {
          "metadata": {
            "tags": null
          },
          "name": "stdout",
          "output_type": "stream",
          "text": [
            "loss 0.1107 - iou 0.8292 - val_loss 0.3884 - val_iou 0.0000\n",
            "Epoch [270/300]\n"
          ]
        },
        {
          "metadata": {
            "tags": null
          },
          "name": "stderr",
          "output_type": "stream",
          "text": [
            "100%|██████████| 30/30 [00:35<00:00,  1.18s/it, loss=0.11, iou=0.842]\n",
            "100%|██████████| 8/8 [00:04<00:00,  1.99it/s, loss=0.274, iou=0.0953]\n"
          ]
        },
        {
          "metadata": {
            "tags": null
          },
          "name": "stdout",
          "output_type": "stream",
          "text": [
            "loss 0.1096 - iou 0.8417 - val_loss 0.2739 - val_iou 0.0953\n",
            "Epoch [271/300]\n"
          ]
        },
        {
          "metadata": {
            "tags": null
          },
          "name": "stderr",
          "output_type": "stream",
          "text": [
            "100%|██████████| 30/30 [00:35<00:00,  1.18s/it, loss=0.111, iou=0.84]\n",
            "100%|██████████| 8/8 [00:03<00:00,  2.02it/s, loss=0.224, iou=0.201]\n"
          ]
        },
        {
          "metadata": {
            "tags": null
          },
          "name": "stdout",
          "output_type": "stream",
          "text": [
            "loss 0.1109 - iou 0.8404 - val_loss 0.2242 - val_iou 0.2006\n",
            "Epoch [272/300]\n"
          ]
        },
        {
          "metadata": {
            "tags": null
          },
          "name": "stderr",
          "output_type": "stream",
          "text": [
            "100%|██████████| 30/30 [00:35<00:00,  1.19s/it, loss=0.108, iou=0.833]\n",
            "100%|██████████| 8/8 [00:03<00:00,  2.09it/s, loss=0.206, iou=0.394]\n"
          ]
        },
        {
          "metadata": {
            "tags": null
          },
          "name": "stdout",
          "output_type": "stream",
          "text": [
            "loss 0.1082 - iou 0.8330 - val_loss 0.2057 - val_iou 0.3935\n",
            "Epoch [273/300]\n"
          ]
        },
        {
          "metadata": {
            "tags": null
          },
          "name": "stderr",
          "output_type": "stream",
          "text": [
            "100%|██████████| 30/30 [00:35<00:00,  1.19s/it, loss=0.106, iou=0.847]\n",
            "100%|██████████| 8/8 [00:03<00:00,  2.11it/s, loss=0.386, iou=1.28e-10]\n"
          ]
        },
        {
          "metadata": {
            "tags": null
          },
          "name": "stdout",
          "output_type": "stream",
          "text": [
            "loss 0.1065 - iou 0.8474 - val_loss 0.3858 - val_iou 0.0000\n",
            "Epoch [274/300]\n"
          ]
        },
        {
          "metadata": {
            "tags": null
          },
          "name": "stderr",
          "output_type": "stream",
          "text": [
            "100%|██████████| 30/30 [00:35<00:00,  1.19s/it, loss=0.107, iou=0.836]\n",
            "100%|██████████| 8/8 [00:03<00:00,  2.11it/s, loss=0.379, iou=1.28e-10]\n"
          ]
        },
        {
          "metadata": {
            "tags": null
          },
          "name": "stdout",
          "output_type": "stream",
          "text": [
            "loss 0.1074 - iou 0.8363 - val_loss 0.3786 - val_iou 0.0000\n",
            "Epoch [275/300]\n"
          ]
        },
        {
          "metadata": {
            "tags": null
          },
          "name": "stderr",
          "output_type": "stream",
          "text": [
            "100%|██████████| 30/30 [00:35<00:00,  1.19s/it, loss=0.106, iou=0.842]\n",
            "100%|██████████| 8/8 [00:03<00:00,  2.10it/s, loss=0.204, iou=0.46]\n"
          ]
        },
        {
          "metadata": {
            "tags": null
          },
          "name": "stdout",
          "output_type": "stream",
          "text": [
            "loss 0.1056 - iou 0.8419 - val_loss 0.2036 - val_iou 0.4605\n",
            "Epoch [276/300]\n"
          ]
        },
        {
          "metadata": {
            "tags": null
          },
          "name": "stderr",
          "output_type": "stream",
          "text": [
            "100%|██████████| 30/30 [00:35<00:00,  1.19s/it, loss=0.105, iou=0.852]\n",
            "100%|██████████| 8/8 [00:03<00:00,  2.09it/s, loss=0.169, iou=0.576]\n"
          ]
        },
        {
          "metadata": {
            "tags": null
          },
          "name": "stdout",
          "output_type": "stream",
          "text": [
            "loss 0.1050 - iou 0.8519 - val_loss 0.1692 - val_iou 0.5762\n",
            "Epoch [277/300]\n"
          ]
        },
        {
          "metadata": {
            "tags": null
          },
          "name": "stderr",
          "output_type": "stream",
          "text": [
            "100%|██████████| 30/30 [00:35<00:00,  1.19s/it, loss=0.105, iou=0.853]\n",
            "100%|██████████| 8/8 [00:03<00:00,  2.03it/s, loss=0.45, iou=1.28e-10]\n"
          ]
        },
        {
          "metadata": {
            "tags": null
          },
          "name": "stdout",
          "output_type": "stream",
          "text": [
            "loss 0.1049 - iou 0.8529 - val_loss 0.4499 - val_iou 0.0000\n",
            "Epoch [278/300]\n"
          ]
        },
        {
          "metadata": {
            "tags": null
          },
          "name": "stderr",
          "output_type": "stream",
          "text": [
            "100%|██████████| 30/30 [00:35<00:00,  1.18s/it, loss=0.104, iou=0.861]\n",
            "100%|██████████| 8/8 [00:04<00:00,  1.96it/s, loss=0.178, iou=0.553]\n"
          ]
        },
        {
          "metadata": {
            "tags": null
          },
          "name": "stdout",
          "output_type": "stream",
          "text": [
            "loss 0.1045 - iou 0.8611 - val_loss 0.1785 - val_iou 0.5526\n",
            "Epoch [279/300]\n"
          ]
        },
        {
          "metadata": {
            "tags": null
          },
          "name": "stderr",
          "output_type": "stream",
          "text": [
            "100%|██████████| 30/30 [00:35<00:00,  1.18s/it, loss=0.108, iou=0.837]\n",
            "100%|██████████| 8/8 [00:03<00:00,  2.02it/s, loss=0.35, iou=1.89e-5]\n"
          ]
        },
        {
          "metadata": {
            "tags": null
          },
          "name": "stdout",
          "output_type": "stream",
          "text": [
            "loss 0.1080 - iou 0.8369 - val_loss 0.3501 - val_iou 0.0000\n",
            "Epoch [280/300]\n"
          ]
        },
        {
          "output_type": "stream",
          "name": "stderr",
          "text": [
            "100%|██████████| 30/30 [00:35<00:00,  1.18s/it, loss=0.107, iou=0.846]\n",
            "100%|██████████| 8/8 [00:03<00:00,  2.09it/s, loss=0.281, iou=0.298]\n"
          ]
        },
        {
          "output_type": "stream",
          "name": "stdout",
          "text": [
            "loss 0.1074 - iou 0.8464 - val_loss 0.2807 - val_iou 0.2980\n",
            "Epoch [281/300]\n"
          ]
        },
        {
          "output_type": "stream",
          "name": "stderr",
          "text": [
            "100%|██████████| 30/30 [00:35<00:00,  1.18s/it, loss=0.108, iou=0.843]\n",
            "100%|██████████| 8/8 [00:03<00:00,  2.11it/s, loss=0.317, iou=0.198]\n"
          ]
        },
        {
          "output_type": "stream",
          "name": "stdout",
          "text": [
            "loss 0.1077 - iou 0.8426 - val_loss 0.3168 - val_iou 0.1977\n",
            "Epoch [282/300]\n"
          ]
        },
        {
          "output_type": "stream",
          "name": "stderr",
          "text": [
            "100%|██████████| 30/30 [00:35<00:00,  1.19s/it, loss=0.105, iou=0.85]\n",
            "100%|██████████| 8/8 [00:03<00:00,  2.10it/s, loss=0.255, iou=0.128]\n"
          ]
        },
        {
          "output_type": "stream",
          "name": "stdout",
          "text": [
            "loss 0.1051 - iou 0.8497 - val_loss 0.2545 - val_iou 0.1278\n",
            "Epoch [283/300]\n"
          ]
        },
        {
          "output_type": "stream",
          "name": "stderr",
          "text": [
            "100%|██████████| 30/30 [00:35<00:00,  1.18s/it, loss=0.104, iou=0.852]\n",
            "100%|██████████| 8/8 [00:03<00:00,  2.10it/s, loss=0.367, iou=1.28e-10]\n"
          ]
        },
        {
          "output_type": "stream",
          "name": "stdout",
          "text": [
            "loss 0.1036 - iou 0.8524 - val_loss 0.3674 - val_iou 0.0000\n",
            "Epoch [284/300]\n"
          ]
        },
        {
          "output_type": "stream",
          "name": "stderr",
          "text": [
            "100%|██████████| 30/30 [00:35<00:00,  1.18s/it, loss=0.109, iou=0.842]\n",
            "100%|██████████| 8/8 [00:03<00:00,  2.09it/s, loss=0.305, iou=0.211]\n"
          ]
        },
        {
          "output_type": "stream",
          "name": "stdout",
          "text": [
            "loss 0.1092 - iou 0.8416 - val_loss 0.3053 - val_iou 0.2107\n",
            "Epoch [285/300]\n"
          ]
        },
        {
          "output_type": "stream",
          "name": "stderr",
          "text": [
            "100%|██████████| 30/30 [00:35<00:00,  1.19s/it, loss=0.109, iou=0.833]\n",
            "100%|██████████| 8/8 [00:03<00:00,  2.09it/s, loss=0.299, iou=0.0688]\n"
          ]
        },
        {
          "output_type": "stream",
          "name": "stdout",
          "text": [
            "loss 0.1093 - iou 0.8329 - val_loss 0.2995 - val_iou 0.0688\n",
            "Epoch [286/300]\n"
          ]
        },
        {
          "output_type": "stream",
          "name": "stderr",
          "text": [
            "100%|██████████| 30/30 [00:35<00:00,  1.18s/it, loss=0.107, iou=0.839]\n",
            "100%|██████████| 8/8 [00:03<00:00,  2.03it/s, loss=0.216, iou=0.578]\n"
          ]
        },
        {
          "output_type": "stream",
          "name": "stdout",
          "text": [
            "loss 0.1067 - iou 0.8386 - val_loss 0.2163 - val_iou 0.5778\n",
            "Epoch [287/300]\n"
          ]
        },
        {
          "output_type": "stream",
          "name": "stderr",
          "text": [
            "100%|██████████| 30/30 [00:35<00:00,  1.19s/it, loss=0.103, iou=0.847]\n",
            "100%|██████████| 8/8 [00:04<00:00,  1.98it/s, loss=0.377, iou=5.87e-5]\n"
          ]
        },
        {
          "output_type": "stream",
          "name": "stdout",
          "text": [
            "loss 0.1029 - iou 0.8474 - val_loss 0.3768 - val_iou 0.0001\n",
            "Epoch [288/300]\n"
          ]
        },
        {
          "output_type": "stream",
          "name": "stderr",
          "text": [
            "100%|██████████| 30/30 [00:35<00:00,  1.18s/it, loss=0.104, iou=0.848]\n",
            "100%|██████████| 8/8 [00:04<00:00,  1.94it/s, loss=0.396, iou=0.00598]\n"
          ]
        },
        {
          "output_type": "stream",
          "name": "stdout",
          "text": [
            "loss 0.1041 - iou 0.8475 - val_loss 0.3961 - val_iou 0.0060\n",
            "Epoch [289/300]\n"
          ]
        },
        {
          "output_type": "stream",
          "name": "stderr",
          "text": [
            "100%|██████████| 30/30 [00:35<00:00,  1.18s/it, loss=0.11, iou=0.833]\n",
            "100%|██████████| 8/8 [00:03<00:00,  2.03it/s, loss=0.419, iou=0.00251]\n"
          ]
        },
        {
          "output_type": "stream",
          "name": "stdout",
          "text": [
            "loss 0.1096 - iou 0.8334 - val_loss 0.4185 - val_iou 0.0025\n",
            "Epoch [290/300]\n"
          ]
        },
        {
          "output_type": "stream",
          "name": "stderr",
          "text": [
            "100%|██████████| 30/30 [00:35<00:00,  1.18s/it, loss=0.105, iou=0.849]\n",
            "100%|██████████| 8/8 [00:03<00:00,  2.11it/s, loss=0.379, iou=0.00147]\n"
          ]
        },
        {
          "output_type": "stream",
          "name": "stdout",
          "text": [
            "loss 0.1047 - iou 0.8492 - val_loss 0.3787 - val_iou 0.0015\n",
            "Epoch [291/300]\n"
          ]
        },
        {
          "output_type": "stream",
          "name": "stderr",
          "text": [
            "100%|██████████| 30/30 [00:35<00:00,  1.18s/it, loss=0.104, iou=0.854]\n",
            "100%|██████████| 8/8 [00:03<00:00,  2.09it/s, loss=0.336, iou=0.00337]\n"
          ]
        },
        {
          "output_type": "stream",
          "name": "stdout",
          "text": [
            "loss 0.1043 - iou 0.8540 - val_loss 0.3356 - val_iou 0.0034\n",
            "Epoch [292/300]\n"
          ]
        },
        {
          "output_type": "stream",
          "name": "stderr",
          "text": [
            "100%|██████████| 30/30 [00:35<00:00,  1.18s/it, loss=0.111, iou=0.809]\n",
            "100%|██████████| 8/8 [00:03<00:00,  2.05it/s, loss=0.26, iou=0.274]\n"
          ]
        },
        {
          "output_type": "stream",
          "name": "stdout",
          "text": [
            "loss 0.1108 - iou 0.8091 - val_loss 0.2602 - val_iou 0.2740\n",
            "Epoch [293/300]\n"
          ]
        },
        {
          "output_type": "stream",
          "name": "stderr",
          "text": [
            "100%|██████████| 30/30 [00:35<00:00,  1.18s/it, loss=0.109, iou=0.842]\n",
            "100%|██████████| 8/8 [00:03<00:00,  2.09it/s, loss=0.375, iou=1.28e-10]\n"
          ]
        },
        {
          "output_type": "stream",
          "name": "stdout",
          "text": [
            "loss 0.1095 - iou 0.8422 - val_loss 0.3751 - val_iou 0.0000\n",
            "Epoch [294/300]\n"
          ]
        },
        {
          "output_type": "stream",
          "name": "stderr",
          "text": [
            "100%|██████████| 30/30 [00:35<00:00,  1.18s/it, loss=0.106, iou=0.851]\n",
            "100%|██████████| 8/8 [00:03<00:00,  2.10it/s, loss=0.275, iou=0.117]\n"
          ]
        },
        {
          "output_type": "stream",
          "name": "stdout",
          "text": [
            "loss 0.1060 - iou 0.8508 - val_loss 0.2746 - val_iou 0.1174\n",
            "Epoch [295/300]\n"
          ]
        },
        {
          "output_type": "stream",
          "name": "stderr",
          "text": [
            "100%|██████████| 30/30 [00:35<00:00,  1.18s/it, loss=0.1, iou=0.865]\n",
            "100%|██████████| 8/8 [00:03<00:00,  2.05it/s, loss=0.457, iou=0.00415]\n"
          ]
        },
        {
          "output_type": "stream",
          "name": "stdout",
          "text": [
            "loss 0.1000 - iou 0.8650 - val_loss 0.4572 - val_iou 0.0042\n",
            "Epoch [296/300]\n"
          ]
        },
        {
          "output_type": "stream",
          "name": "stderr",
          "text": [
            "100%|██████████| 30/30 [00:35<00:00,  1.19s/it, loss=0.107, iou=0.845]\n",
            "100%|██████████| 8/8 [00:04<00:00,  2.00it/s, loss=0.278, iou=0.121]\n"
          ]
        },
        {
          "output_type": "stream",
          "name": "stdout",
          "text": [
            "loss 0.1072 - iou 0.8454 - val_loss 0.2777 - val_iou 0.1214\n",
            "Epoch [297/300]\n"
          ]
        },
        {
          "output_type": "stream",
          "name": "stderr",
          "text": [
            "100%|██████████| 30/30 [00:35<00:00,  1.18s/it, loss=0.103, iou=0.864]\n",
            "100%|██████████| 8/8 [00:04<00:00,  1.95it/s, loss=0.356, iou=1.28e-10]\n"
          ]
        },
        {
          "output_type": "stream",
          "name": "stdout",
          "text": [
            "loss 0.1030 - iou 0.8643 - val_loss 0.3557 - val_iou 0.0000\n",
            "Epoch [298/300]\n"
          ]
        },
        {
          "output_type": "stream",
          "name": "stderr",
          "text": [
            "100%|██████████| 30/30 [00:35<00:00,  1.18s/it, loss=0.101, iou=0.869]\n",
            "100%|██████████| 8/8 [00:03<00:00,  2.01it/s, loss=0.286, iou=0.161]\n"
          ]
        },
        {
          "output_type": "stream",
          "name": "stdout",
          "text": [
            "loss 0.1011 - iou 0.8694 - val_loss 0.2860 - val_iou 0.1614\n",
            "Epoch [299/300]\n"
          ]
        },
        {
          "output_type": "stream",
          "name": "stderr",
          "text": [
            "100%|██████████| 30/30 [00:35<00:00,  1.18s/it, loss=0.108, iou=0.835]\n",
            "100%|██████████| 8/8 [00:03<00:00,  2.08it/s, loss=0.402, iou=0.00119]"
          ]
        },
        {
          "output_type": "stream",
          "name": "stdout",
          "text": [
            "loss 0.1078 - iou 0.8354 - val_loss 0.4023 - val_iou 0.0012\n"
          ]
        },
        {
          "output_type": "stream",
          "name": "stderr",
          "text": [
            "\n"
          ]
        }
      ],
      "source": [
        "for epoch in range(epochs):\n",
        "    print(f'Epoch [{epoch}/{epochs}]')\n",
        "\n",
        "    # train for one epoch\n",
        "    train_log = train(True, train_loader, model, criterion, optimizer)\n",
        "    # evaluate on validation set\n",
        "    val_log = validate(True, val_loader, model, criterion)\n",
        "\n",
        "    print('loss %.4f - iou %.4f - val_loss %.4f - val_iou %.4f'\n",
        "              % (train_log['loss'], train_log['iou'], val_log['loss'], val_log['iou']))\n",
        "\n",
        "    log['epoch'].append(epoch)\n",
        "    log['loss'].append(train_log['loss'])\n",
        "    log['iou'].append(train_log['iou'])  \n",
        "    log['val_loss'].append(val_log['loss'])\n",
        "    log['val_iou'].append(val_log['iou'])\n",
        "\n",
        "    pd.DataFrame(log).to_csv(log_path, index=False)\n",
        "\n",
        "    trigger += 1\n",
        "\n",
        "    if val_log['iou'] > best_iou:\n",
        "        torch.save(model.state_dict(), model_path)\n",
        "        best_iou = val_log['iou']\n",
        "        print(\"=> saved best model\")\n",
        "        trigger = 0"
      ]
    },
    {
      "cell_type": "code",
      "execution_count": 32,
      "metadata": {
        "id": "0P-DGsh9zAM1"
      },
      "outputs": [],
      "source": [
        "import cv2\n",
        "import yaml\n",
        "import torch\n",
        "import numpy as np\n",
        "import matplotlib.pyplot as plt\n",
        "\n",
        "# \n",
        "from source.ML_Pipeline.network import UNetPP\n",
        "from argparse import ArgumentParser\n",
        "from albumentations.augmentations import transforms\n",
        "from albumentations.core.composition import Compose\n",
        "\n",
        "%matplotlib inline"
      ]
    },
    {
      "cell_type": "code",
      "source": [
        "from source.ML_Pipeline.predict import image_loader"
      ],
      "metadata": {
        "id": "PA7PZ4VA5Vr0"
      },
      "execution_count": 31,
      "outputs": []
    },
    {
      "cell_type": "markdown",
      "metadata": {
        "id": "pzAiQ-F3zAM2"
      },
      "source": [
        "## Create validation transforms"
      ]
    },
    {
      "cell_type": "code",
      "execution_count": 33,
      "metadata": {
        "id": "YOPAm9LOzAM2"
      },
      "outputs": [],
      "source": [
        "val_transform = Compose([\n",
        "    A.Resize(256, 256),\n",
        "    transforms.Normalize(),\n",
        "])"
      ]
    },
    {
      "cell_type": "code",
      "execution_count": 46,
      "metadata": {
        "id": "aJTeh4B3zAM2"
      },
      "outputs": [],
      "source": [
        "with open(\"source/config.yaml\") as f:\n",
        "    config = yaml.safe_load(f)"
      ]
    },
    {
      "cell_type": "code",
      "execution_count": 47,
      "metadata": {
        "id": "KUmXb18fzAM3"
      },
      "outputs": [],
      "source": [
        "im_width = config[\"im_width\"]\n",
        "im_height = config[\"im_height\"]\n",
        "model_path = config[\"model_path\"]\n",
        "output_path = config[\"output_path\"]"
      ]
    },
    {
      "cell_type": "markdown",
      "metadata": {
        "id": "VIOpKFuFzAM4"
      },
      "source": [
        "## Load the model"
      ]
    },
    {
      "cell_type": "code",
      "execution_count": 48,
      "metadata": {
        "id": "KhhDyq5uzAM4",
        "colab": {
          "base_uri": "https://localhost:8080/"
        },
        "outputId": "ea058914-27e5-4857-fc81-c67e842be1af"
      },
      "outputs": [
        {
          "output_type": "execute_result",
          "data": {
            "text/plain": [
              "UNetPP(\n",
              "  (pool): MaxPool2d(kernel_size=2, stride=2, padding=0, dilation=1, ceil_mode=False)\n",
              "  (up): Upsample(scale_factor=2.0, mode=bilinear)\n",
              "  (conv0_0): VGGBlock(\n",
              "    (relu): ReLU(inplace=True)\n",
              "    (conv1): Conv2d(3, 32, kernel_size=(3, 3), stride=(1, 1), padding=(1, 1))\n",
              "    (bn1): BatchNorm2d(32, eps=1e-05, momentum=0.1, affine=True, track_running_stats=True)\n",
              "    (conv2): Conv2d(32, 32, kernel_size=(3, 3), stride=(1, 1), padding=(1, 1))\n",
              "    (bn2): BatchNorm2d(32, eps=1e-05, momentum=0.1, affine=True, track_running_stats=True)\n",
              "  )\n",
              "  (conv1_0): VGGBlock(\n",
              "    (relu): ReLU(inplace=True)\n",
              "    (conv1): Conv2d(32, 64, kernel_size=(3, 3), stride=(1, 1), padding=(1, 1))\n",
              "    (bn1): BatchNorm2d(64, eps=1e-05, momentum=0.1, affine=True, track_running_stats=True)\n",
              "    (conv2): Conv2d(64, 64, kernel_size=(3, 3), stride=(1, 1), padding=(1, 1))\n",
              "    (bn2): BatchNorm2d(64, eps=1e-05, momentum=0.1, affine=True, track_running_stats=True)\n",
              "  )\n",
              "  (conv2_0): VGGBlock(\n",
              "    (relu): ReLU(inplace=True)\n",
              "    (conv1): Conv2d(64, 128, kernel_size=(3, 3), stride=(1, 1), padding=(1, 1))\n",
              "    (bn1): BatchNorm2d(128, eps=1e-05, momentum=0.1, affine=True, track_running_stats=True)\n",
              "    (conv2): Conv2d(128, 128, kernel_size=(3, 3), stride=(1, 1), padding=(1, 1))\n",
              "    (bn2): BatchNorm2d(128, eps=1e-05, momentum=0.1, affine=True, track_running_stats=True)\n",
              "  )\n",
              "  (conv3_0): VGGBlock(\n",
              "    (relu): ReLU(inplace=True)\n",
              "    (conv1): Conv2d(128, 256, kernel_size=(3, 3), stride=(1, 1), padding=(1, 1))\n",
              "    (bn1): BatchNorm2d(256, eps=1e-05, momentum=0.1, affine=True, track_running_stats=True)\n",
              "    (conv2): Conv2d(256, 256, kernel_size=(3, 3), stride=(1, 1), padding=(1, 1))\n",
              "    (bn2): BatchNorm2d(256, eps=1e-05, momentum=0.1, affine=True, track_running_stats=True)\n",
              "  )\n",
              "  (conv4_0): VGGBlock(\n",
              "    (relu): ReLU(inplace=True)\n",
              "    (conv1): Conv2d(256, 512, kernel_size=(3, 3), stride=(1, 1), padding=(1, 1))\n",
              "    (bn1): BatchNorm2d(512, eps=1e-05, momentum=0.1, affine=True, track_running_stats=True)\n",
              "    (conv2): Conv2d(512, 512, kernel_size=(3, 3), stride=(1, 1), padding=(1, 1))\n",
              "    (bn2): BatchNorm2d(512, eps=1e-05, momentum=0.1, affine=True, track_running_stats=True)\n",
              "  )\n",
              "  (conv0_1): VGGBlock(\n",
              "    (relu): ReLU(inplace=True)\n",
              "    (conv1): Conv2d(96, 32, kernel_size=(3, 3), stride=(1, 1), padding=(1, 1))\n",
              "    (bn1): BatchNorm2d(32, eps=1e-05, momentum=0.1, affine=True, track_running_stats=True)\n",
              "    (conv2): Conv2d(32, 32, kernel_size=(3, 3), stride=(1, 1), padding=(1, 1))\n",
              "    (bn2): BatchNorm2d(32, eps=1e-05, momentum=0.1, affine=True, track_running_stats=True)\n",
              "  )\n",
              "  (conv1_1): VGGBlock(\n",
              "    (relu): ReLU(inplace=True)\n",
              "    (conv1): Conv2d(192, 64, kernel_size=(3, 3), stride=(1, 1), padding=(1, 1))\n",
              "    (bn1): BatchNorm2d(64, eps=1e-05, momentum=0.1, affine=True, track_running_stats=True)\n",
              "    (conv2): Conv2d(64, 64, kernel_size=(3, 3), stride=(1, 1), padding=(1, 1))\n",
              "    (bn2): BatchNorm2d(64, eps=1e-05, momentum=0.1, affine=True, track_running_stats=True)\n",
              "  )\n",
              "  (conv2_1): VGGBlock(\n",
              "    (relu): ReLU(inplace=True)\n",
              "    (conv1): Conv2d(384, 128, kernel_size=(3, 3), stride=(1, 1), padding=(1, 1))\n",
              "    (bn1): BatchNorm2d(128, eps=1e-05, momentum=0.1, affine=True, track_running_stats=True)\n",
              "    (conv2): Conv2d(128, 128, kernel_size=(3, 3), stride=(1, 1), padding=(1, 1))\n",
              "    (bn2): BatchNorm2d(128, eps=1e-05, momentum=0.1, affine=True, track_running_stats=True)\n",
              "  )\n",
              "  (conv3_1): VGGBlock(\n",
              "    (relu): ReLU(inplace=True)\n",
              "    (conv1): Conv2d(768, 256, kernel_size=(3, 3), stride=(1, 1), padding=(1, 1))\n",
              "    (bn1): BatchNorm2d(256, eps=1e-05, momentum=0.1, affine=True, track_running_stats=True)\n",
              "    (conv2): Conv2d(256, 256, kernel_size=(3, 3), stride=(1, 1), padding=(1, 1))\n",
              "    (bn2): BatchNorm2d(256, eps=1e-05, momentum=0.1, affine=True, track_running_stats=True)\n",
              "  )\n",
              "  (conv0_2): VGGBlock(\n",
              "    (relu): ReLU(inplace=True)\n",
              "    (conv1): Conv2d(128, 32, kernel_size=(3, 3), stride=(1, 1), padding=(1, 1))\n",
              "    (bn1): BatchNorm2d(32, eps=1e-05, momentum=0.1, affine=True, track_running_stats=True)\n",
              "    (conv2): Conv2d(32, 32, kernel_size=(3, 3), stride=(1, 1), padding=(1, 1))\n",
              "    (bn2): BatchNorm2d(32, eps=1e-05, momentum=0.1, affine=True, track_running_stats=True)\n",
              "  )\n",
              "  (conv1_2): VGGBlock(\n",
              "    (relu): ReLU(inplace=True)\n",
              "    (conv1): Conv2d(256, 64, kernel_size=(3, 3), stride=(1, 1), padding=(1, 1))\n",
              "    (bn1): BatchNorm2d(64, eps=1e-05, momentum=0.1, affine=True, track_running_stats=True)\n",
              "    (conv2): Conv2d(64, 64, kernel_size=(3, 3), stride=(1, 1), padding=(1, 1))\n",
              "    (bn2): BatchNorm2d(64, eps=1e-05, momentum=0.1, affine=True, track_running_stats=True)\n",
              "  )\n",
              "  (conv2_2): VGGBlock(\n",
              "    (relu): ReLU(inplace=True)\n",
              "    (conv1): Conv2d(512, 128, kernel_size=(3, 3), stride=(1, 1), padding=(1, 1))\n",
              "    (bn1): BatchNorm2d(128, eps=1e-05, momentum=0.1, affine=True, track_running_stats=True)\n",
              "    (conv2): Conv2d(128, 128, kernel_size=(3, 3), stride=(1, 1), padding=(1, 1))\n",
              "    (bn2): BatchNorm2d(128, eps=1e-05, momentum=0.1, affine=True, track_running_stats=True)\n",
              "  )\n",
              "  (conv0_3): VGGBlock(\n",
              "    (relu): ReLU(inplace=True)\n",
              "    (conv1): Conv2d(160, 32, kernel_size=(3, 3), stride=(1, 1), padding=(1, 1))\n",
              "    (bn1): BatchNorm2d(32, eps=1e-05, momentum=0.1, affine=True, track_running_stats=True)\n",
              "    (conv2): Conv2d(32, 32, kernel_size=(3, 3), stride=(1, 1), padding=(1, 1))\n",
              "    (bn2): BatchNorm2d(32, eps=1e-05, momentum=0.1, affine=True, track_running_stats=True)\n",
              "  )\n",
              "  (conv1_3): VGGBlock(\n",
              "    (relu): ReLU(inplace=True)\n",
              "    (conv1): Conv2d(320, 64, kernel_size=(3, 3), stride=(1, 1), padding=(1, 1))\n",
              "    (bn1): BatchNorm2d(64, eps=1e-05, momentum=0.1, affine=True, track_running_stats=True)\n",
              "    (conv2): Conv2d(64, 64, kernel_size=(3, 3), stride=(1, 1), padding=(1, 1))\n",
              "    (bn2): BatchNorm2d(64, eps=1e-05, momentum=0.1, affine=True, track_running_stats=True)\n",
              "  )\n",
              "  (conv0_4): VGGBlock(\n",
              "    (relu): ReLU(inplace=True)\n",
              "    (conv1): Conv2d(192, 32, kernel_size=(3, 3), stride=(1, 1), padding=(1, 1))\n",
              "    (bn1): BatchNorm2d(32, eps=1e-05, momentum=0.1, affine=True, track_running_stats=True)\n",
              "    (conv2): Conv2d(32, 32, kernel_size=(3, 3), stride=(1, 1), padding=(1, 1))\n",
              "    (bn2): BatchNorm2d(32, eps=1e-05, momentum=0.1, affine=True, track_running_stats=True)\n",
              "  )\n",
              "  (final1): Conv2d(32, 1, kernel_size=(1, 1), stride=(1, 1))\n",
              "  (final2): Conv2d(32, 1, kernel_size=(1, 1), stride=(1, 1))\n",
              "  (final3): Conv2d(32, 1, kernel_size=(1, 1), stride=(1, 1))\n",
              "  (final4): Conv2d(32, 1, kernel_size=(1, 1), stride=(1, 1))\n",
              ")"
            ]
          },
          "metadata": {},
          "execution_count": 48
        }
      ],
      "source": [
        "# Create model object\n",
        "model = UNetPP(1, 3, True)\n",
        "\n",
        "# Load pre-trained weights\n",
        "model.load_state_dict(torch.load(model_path))\n",
        "\n",
        "# Port the model to GPU if it is available\n",
        "if torch.cuda.is_available():\n",
        "    model.cuda()\n",
        "    \n",
        "# Set model mode to evaluation\n",
        "model.eval()"
      ]
    },
    {
      "cell_type": "markdown",
      "metadata": {
        "id": "my1hKTdZzAM5"
      },
      "source": [
        "## Load the test image"
      ]
    },
    {
      "cell_type": "code",
      "execution_count": 49,
      "metadata": {
        "id": "I0jZCFZfzAM5"
      },
      "outputs": [],
      "source": [
        "test_img = \"input/PNG/Original/115.png\"\n",
        "image = image_loader(test_img)\n",
        "\n",
        "# Convert the image to a batch of 1 image\n",
        "image = np.expand_dims(image,0)\n",
        "\n",
        "# Convert numpy array to torch tensor\n",
        "image = torch.from_numpy(image)"
      ]
    },
    {
      "cell_type": "code",
      "execution_count": 50,
      "metadata": {
        "id": "nFOy-VV8zAM6"
      },
      "outputs": [],
      "source": [
        "# Port the image to GPU if it is available\n",
        "if torch.cuda.is_available():\n",
        "    image = image.to(device=\"cuda\")"
      ]
    },
    {
      "cell_type": "markdown",
      "metadata": {
        "id": "9nvdXqL0zAM6"
      },
      "source": [
        "## Make prediction"
      ]
    },
    {
      "cell_type": "code",
      "execution_count": 51,
      "metadata": {
        "id": "PFLtcOplzAM7"
      },
      "outputs": [],
      "source": [
        "mask = model(image)"
      ]
    },
    {
      "cell_type": "code",
      "execution_count": 52,
      "metadata": {
        "id": "vsHlpK2mzAM8",
        "colab": {
          "base_uri": "https://localhost:8080/",
          "height": 287
        },
        "outputId": "955001ac-a888-4cf3-a509-41e2aae5b26f"
      },
      "outputs": [
        {
          "output_type": "execute_result",
          "data": {
            "text/plain": [
              "<matplotlib.image.AxesImage at 0x7f2de13b3ee0>"
            ]
          },
          "metadata": {},
          "execution_count": 52
        },
        {
          "output_type": "display_data",
          "data": {
            "text/plain": [
              "<Figure size 432x288 with 1 Axes>"
            ],
            "image/png": "[encoded data removed]"
          },
          "metadata": {
            "needs_background": "light"
          }
        }
      ],
      "source": [
        "mask = mask[-1]\n",
        "\n",
        "# Convert torch tensor to numpy array\n",
        "mask = mask.detach().cpu().numpy()\n",
        "\n",
        "# Convert output to a 2-d array\n",
        "mask = np.squeeze(np.squeeze(mask, axis=0), axis=0)\n",
        "\n",
        "# Convert output to binary based on threshold\n",
        "mask[mask > -2.5] = 255\n",
        "mask[mask <= -2.5] = 0\n",
        "\n",
        "# Resize the ouptut image to input image size\n",
        "mask = cv2.resize(mask, (im_width, im_height))\n",
        "\n",
        "# Plot the generated mask\n",
        "plt.imshow(mask, cmap=\"gray\")"
      ]
    },
    {
      "cell_type": "markdown",
      "metadata": {
        "id": "kLnVVnjUzAM8"
      },
      "source": [
        "## Read and plot the ground truth mask"
      ]
    },
    {
      "cell_type": "code",
      "execution_count": 44,
      "metadata": {
        "id": "T7UkY6dWzAM8",
        "colab": {
          "base_uri": "https://localhost:8080/",
          "height": 287
        },
        "outputId": "506c0a0e-05d5-4e58-faef-5f8db9978748"
      },
      "outputs": [
        {
          "output_type": "execute_result",
          "data": {
            "text/plain": [
              "<matplotlib.image.AxesImage at 0x7f2de145beb0>"
            ]
          },
          "metadata": {},
          "execution_count": 44
        },
        {
          "output_type": "display_data",
          "data": {
            "text/plain": [
              "<Figure size 432x288 with 1 Axes>"
            ],
            "image/png": "[encoded data removed]"
          },
          "metadata": {
            "needs_background": "light"
          }
        }
      ],
      "source": [
        "actual_mask = \"input/PNG/Ground Truth/115.png\"\n",
        "am = plt.imread(actual_mask)\n",
        "plt.imshow(am, cmap=\"gray\")"
      ]
    }
  ],
  "metadata": {
    "accelerator": "GPU",
    "colab": {
      "provenance": [],
      "include_colab_link": true
    },
    "kernelspec": {
      "display_name": "Python 3",
      "language": "python",
      "name": "python3"
    },
    "language_info": {
      "codemirror_mode": {
        "name": "ipython",
        "version": 3
      },
      "file_extension": ".py",
      "mimetype": "text/x-python",
      "name": "python",
      "nbconvert_exporter": "python",
      "pygments_lexer": "ipython3",
      "version": "3.8.3"
    }
  },
  "nbformat": 4,
  "nbformat_minor": 0
}