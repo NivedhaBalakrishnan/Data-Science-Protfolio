{
  "cells": [
    {
      "cell_type": "markdown",
      "metadata": {
        "id": "view-in-github",
        "colab_type": "text"
      },
      "source": [
        "<a href=\"https://colab.research.google.com/github/NivedhaBalakrishnan/Data-Science-Protfolio/blob/main/Time%20Series%20Forecasting%20using%20LSTM/Time_Series_Forecasting_Using_Deep_Learning_Solution.ipynb\" target=\"_parent\"><img src=\"https://colab.research.google.com/assets/colab-badge.svg\" alt=\"Open In Colab\"/></a>"
      ]
    },
    {
      "cell_type": "code",
      "source": [
        "# Mounting Colab\n",
        "\n",
        "from google.colab import drive\n",
        "drive.mount('/content/drive')"
      ],
      "metadata": {
        "colab": {
          "base_uri": "https://localhost:8080/"
        },
        "id": "ihW2aQ_Gcarh",
        "outputId": "fafd879a-c38e-4506-aea3-da8d64f9b194"
      },
      "execution_count": 1,
      "outputs": [
        {
          "output_type": "stream",
          "name": "stdout",
          "text": [
            "Mounted at /content/drive\n"
          ]
        }
      ]
    },
    {
      "cell_type": "code",
      "source": [
        "# Imports\n",
        "import math\n",
        "import numpy as np\n",
        "import pandas as pd\n",
        "import matplotlib.pyplot as plt\n",
        "\n",
        "import sklearn\n",
        "from sklearn.preprocessing import MinMaxScaler\n",
        "from sklearn.metrics import mean_squared_error\n",
        "\n",
        "\n",
        "from keras.layers import LSTM\n",
        "from keras.layers import Dense\n",
        "from keras.models import Sequential\n",
        "\n",
        "%matplotlib inline"
      ],
      "metadata": {
        "id": "7rE9iAB1cbg8"
      },
      "execution_count": 2,
      "outputs": []
    },
    {
      "cell_type": "code",
      "execution_count": 4,
      "metadata": {
        "colab": {
          "base_uri": "https://localhost:8080/",
          "height": 265
        },
        "id": "mTPBH3-FcO-X",
        "outputId": "f698a3cd-83fe-42fd-d2df-0f401dea55bf"
      },
      "outputs": [
        {
          "output_type": "display_data",
          "data": {
            "text/plain": [
              "<Figure size 432x288 with 1 Axes>"
            ],
            "image/png": "[encoded data removed]"
          },
          "metadata": {
            "needs_background": "light"
          }
        }
      ],
      "source": [
        "dataset = pd.read_csv('/content/drive/Shareddrives/Interview Preparation/Data Science/LSTM Time Forecasting/Data/international-airline-passengers.csv',usecols=[1],engine='python',skipfooter=3)\n",
        "plt.plot(dataset)\n",
        "plt.show()"
      ]
    },
    {
      "cell_type": "code",
      "execution_count": 6,
      "metadata": {
        "collapsed": true,
        "colab": {
          "base_uri": "https://localhost:8080/",
          "height": 206
        },
        "id": "zMsrU9hZcO-d",
        "outputId": "7f9c8d21-2ee9-4086-d88c-9fa8203315ec"
      },
      "outputs": [
        {
          "output_type": "execute_result",
          "data": {
            "text/plain": [
              "   International airline passengers: monthly totals in thousands. Jan 49 ? Dec 60\n",
              "0                                                112                             \n",
              "1                                                118                             \n",
              "2                                                132                             \n",
              "3                                                129                             \n",
              "4                                                121                             "
            ],
            "text/html": [
              "\n",
              "  <div id=\"df-3320e942-718a-44f9-97f6-3a0dfbe68abe\">\n",
              "    <div class=\"colab-df-container\">\n",
              "      <div>\n",
              "<style scoped>\n",
              "    .dataframe tbody tr th:only-of-type {\n",
              "        vertical-align: middle;\n",
              "    }\n",
              "\n",
              "    .dataframe tbody tr th {\n",
              "        vertical-align: top;\n",
              "    }\n",
              "\n",
              "    .dataframe thead th {\n",
              "        text-align: right;\n",
              "    }\n",
              "</style>\n",
              "<table border=\"1\" class=\"dataframe\">\n",
              "  <thead>\n",
              "    <tr style=\"text-align: right;\">\n",
              "      <th></th>\n",
              "      <th>International airline passengers: monthly totals in thousands. Jan 49 ? Dec 60</th>\n",
              "    </tr>\n",
              "  </thead>\n",
              "  <tbody>\n",
              "    <tr>\n",
              "      <th>0</th>\n",
              "      <td>112</td>\n",
              "    </tr>\n",
              "    <tr>\n",
              "      <th>1</th>\n",
              "      <td>118</td>\n",
              "    </tr>\n",
              "    <tr>\n",
              "      <th>2</th>\n",
              "      <td>132</td>\n",
              "    </tr>\n",
              "    <tr>\n",
              "      <th>3</th>\n",
              "      <td>129</td>\n",
              "    </tr>\n",
              "    <tr>\n",
              "      <th>4</th>\n",
              "      <td>121</td>\n",
              "    </tr>\n",
              "  </tbody>\n",
              "</table>\n",
              "</div>\n",
              "      <button class=\"colab-df-convert\" onclick=\"convertToInteractive('df-3320e942-718a-44f9-97f6-3a0dfbe68abe')\"\n",
              "              title=\"Convert this dataframe to an interactive table.\"\n",
              "              style=\"display:none;\">\n",
              "        \n",
              "  <svg xmlns=\"http://www.w3.org/2000/svg\" height=\"24px\"viewBox=\"0 0 24 24\"\n",
              "       width=\"24px\">\n",
              "    <path d=\"M0 0h24v24H0V0z\" fill=\"none\"/>\n",
              "    <path d=\"M18.56 5.44l.94 2.06.94-2.06 2.06-.94-2.06-.94-.94-2.06-.94 2.06-2.06.94zm-11 1L8.5 8.5l.94-2.06 2.06-.94-2.06-.94L8.5 2.5l-.94 2.06-2.06.94zm10 10l.94 2.06.94-2.06 2.06-.94-2.06-.94-.94-2.06-.94 2.06-2.06.94z\"/><path d=\"M17.41 7.96l-1.37-1.37c-.4-.4-.92-.59-1.43-.59-.52 0-1.04.2-1.43.59L10.3 9.45l-7.72 7.72c-.78.78-.78 2.05 0 2.83L4 21.41c.39.39.9.59 1.41.59.51 0 1.02-.2 1.41-.59l7.78-7.78 2.81-2.81c.8-.78.8-2.07 0-2.86zM5.41 20L4 18.59l7.72-7.72 1.47 1.35L5.41 20z\"/>\n",
              "  </svg>\n",
              "      </button>\n",
              "      \n",
              "  <style>\n",
              "    .colab-df-container {\n",
              "      display:flex;\n",
              "      flex-wrap:wrap;\n",
              "      gap: 12px;\n",
              "    }\n",
              "\n",
              "    .colab-df-convert {\n",
              "      background-color: #E8F0FE;\n",
              "      border: none;\n",
              "      border-radius: 50%;\n",
              "      cursor: pointer;\n",
              "      display: none;\n",
              "      fill: #1967D2;\n",
              "      height: 32px;\n",
              "      padding: 0 0 0 0;\n",
              "      width: 32px;\n",
              "    }\n",
              "\n",
              "    .colab-df-convert:hover {\n",
              "      background-color: #E2EBFA;\n",
              "      box-shadow: 0px 1px 2px rgba(60, 64, 67, 0.3), 0px 1px 3px 1px rgba(60, 64, 67, 0.15);\n",
              "      fill: #174EA6;\n",
              "    }\n",
              "\n",
              "    [theme=dark] .colab-df-convert {\n",
              "      background-color: #3B4455;\n",
              "      fill: #D2E3FC;\n",
              "    }\n",
              "\n",
              "    [theme=dark] .colab-df-convert:hover {\n",
              "      background-color: #434B5C;\n",
              "      box-shadow: 0px 1px 3px 1px rgba(0, 0, 0, 0.15);\n",
              "      filter: drop-shadow(0px 1px 2px rgba(0, 0, 0, 0.3));\n",
              "      fill: #FFFFFF;\n",
              "    }\n",
              "  </style>\n",
              "\n",
              "      <script>\n",
              "        const buttonEl =\n",
              "          document.querySelector('#df-3320e942-718a-44f9-97f6-3a0dfbe68abe button.colab-df-convert');\n",
              "        buttonEl.style.display =\n",
              "          google.colab.kernel.accessAllowed ? 'block' : 'none';\n",
              "\n",
              "        async function convertToInteractive(key) {\n",
              "          const element = document.querySelector('#df-3320e942-718a-44f9-97f6-3a0dfbe68abe');\n",
              "          const dataTable =\n",
              "            await google.colab.kernel.invokeFunction('convertToInteractive',\n",
              "                                                     [key], {});\n",
              "          if (!dataTable) return;\n",
              "\n",
              "          const docLinkHtml = 'Like what you see? Visit the ' +\n",
              "            '<a target=\"_blank\" href=https://colab.research.google.com/notebooks/data_table.ipynb>data table notebook</a>'\n",
              "            + ' to learn more about interactive tables.';\n",
              "          element.innerHTML = '';\n",
              "          dataTable['output_type'] = 'display_data';\n",
              "          await google.colab.output.renderOutput(dataTable, element);\n",
              "          const docLink = document.createElement('div');\n",
              "          docLink.innerHTML = docLinkHtml;\n",
              "          element.appendChild(docLink);\n",
              "        }\n",
              "      </script>\n",
              "    </div>\n",
              "  </div>\n",
              "  "
            ]
          },
          "metadata": {},
          "execution_count": 6
        }
      ],
      "source": [
        "# for reproducability of the results let's fix the seed function\n",
        "np.random.seed(1234)\n",
        "dataset.head()"
      ]
    },
    {
      "cell_type": "code",
      "execution_count": 7,
      "metadata": {
        "id": "CyoaW-ZqcO-e"
      },
      "outputs": [],
      "source": [
        "dataset = dataset.values\n",
        "dataset = dataset.astype('float32')"
      ]
    },
    {
      "cell_type": "code",
      "execution_count": 8,
      "metadata": {
        "collapsed": true,
        "id": "YWtAlGz_cO-e"
      },
      "outputs": [],
      "source": [
        "# normaliza the dataset\n",
        "scaler = MinMaxScaler(feature_range=(0,1))\n",
        "dataset = scaler.fit_transform(dataset)"
      ]
    },
    {
      "cell_type": "code",
      "execution_count": 9,
      "metadata": {
        "colab": {
          "base_uri": "https://localhost:8080/"
        },
        "id": "DV_P6cz3cO-f",
        "outputId": "ad354813-df06-4c28-ed10-1f3d457d0451"
      },
      "outputs": [
        {
          "output_type": "execute_result",
          "data": {
            "text/plain": [
              "array([[0.01544401],\n",
              "       [0.02702703],\n",
              "       [0.05405405],\n",
              "       [0.04826255],\n",
              "       [0.03281853],\n",
              "       [0.05984557],\n",
              "       [0.08494207],\n",
              "       [0.08494207],\n",
              "       [0.06177607],\n",
              "       [0.02895753],\n",
              "       [0.        ],\n",
              "       [0.02702703],\n",
              "       [0.02123553],\n",
              "       [0.04247104],\n",
              "       [0.07142857],\n",
              "       [0.05984557],\n",
              "       [0.04054055],\n",
              "       [0.08687258],\n",
              "       [0.12741312],\n",
              "       [0.12741312],\n",
              "       [0.10424709],\n",
              "       [0.05598456],\n",
              "       [0.01930502],\n",
              "       [0.06949806],\n",
              "       [0.07915059],\n",
              "       [0.08880308],\n",
              "       [0.14285713],\n",
              "       [0.11389962],\n",
              "       [0.13127413],\n",
              "       [0.14285713],\n",
              "       [0.18339768],\n",
              "       [0.18339768],\n",
              "       [0.15444016],\n",
              "       [0.11196911],\n",
              "       [0.08108109],\n",
              "       [0.1196911 ],\n",
              "       [0.12934363],\n",
              "       [0.14671814],\n",
              "       [0.17181468],\n",
              "       [0.14864865],\n",
              "       [0.15250966],\n",
              "       [0.22007722],\n",
              "       [0.24324325],\n",
              "       [0.26640925],\n",
              "       [0.2027027 ],\n",
              "       [0.16795367],\n",
              "       [0.13127413],\n",
              "       [0.17374519],\n",
              "       [0.17760617],\n",
              "       [0.17760617],\n",
              "       [0.25482625],\n",
              "       [0.25289574],\n",
              "       [0.24131274],\n",
              "       [0.26833975],\n",
              "       [0.3088803 ],\n",
              "       [0.32432434],\n",
              "       [0.25675675],\n",
              "       [0.20656371],\n",
              "       [0.14671814],\n",
              "       [0.18725869],\n",
              "       [0.19305018],\n",
              "       [0.16216215],\n",
              "       [0.25289574],\n",
              "       [0.23745173],\n",
              "       [0.25096524],\n",
              "       [0.3088803 ],\n",
              "       [0.38223937],\n",
              "       [0.36486486],\n",
              "       [0.2992278 ],\n",
              "       [0.24131274],\n",
              "       [0.1911197 ],\n",
              "       [0.24131274],\n",
              "       [0.26640925],\n",
              "       [0.24903473],\n",
              "       [0.31467178],\n",
              "       [0.3185328 ],\n",
              "       [0.32046333],\n",
              "       [0.4073359 ],\n",
              "       [0.5019305 ],\n",
              "       [0.46911195],\n",
              "       [0.40154442],\n",
              "       [0.32818535],\n",
              "       [0.25675675],\n",
              "       [0.3359073 ],\n",
              "       [0.34749034],\n",
              "       [0.33397684],\n",
              "       [0.41119692],\n",
              "       [0.4034749 ],\n",
              "       [0.4131274 ],\n",
              "       [0.52123547],\n",
              "       [0.5965251 ],\n",
              "       [0.58108103],\n",
              "       [0.484556  ],\n",
              "       [0.3899614 ],\n",
              "       [0.3223938 ],\n",
              "       [0.3899614 ],\n",
              "       [0.4073359 ],\n",
              "       [0.3803089 ],\n",
              "       [0.48648646],\n",
              "       [0.47104248],\n",
              "       [0.484556  ],\n",
              "       [0.6138996 ],\n",
              "       [0.6969112 ],\n",
              "       [0.70077217],\n",
              "       [0.57915056],\n",
              "       [0.46911195],\n",
              "       [0.38803086],\n",
              "       [0.44787642],\n",
              "       [0.45559844],\n",
              "       [0.4131274 ],\n",
              "       [0.4980695 ],\n",
              "       [0.47104248],\n",
              "       [0.49999997],\n",
              "       [0.6389961 ],\n",
              "       [0.7471043 ],\n",
              "       [0.7741313 ],\n",
              "       [0.57915056],\n",
              "       [0.492278  ],\n",
              "       [0.3976834 ],\n",
              "       [0.44980696],\n",
              "       [0.49420848],\n",
              "       [0.45945945],\n",
              "       [0.5830116 ],\n",
              "       [0.5637065 ],\n",
              "       [0.61003864],\n",
              "       [0.71042466],\n",
              "       [0.8571429 ],\n",
              "       [0.8783784 ],\n",
              "       [0.69305015],\n",
              "       [0.5849421 ],\n",
              "       [0.4980695 ],\n",
              "       [0.58108103],\n",
              "       [0.6042471 ],\n",
              "       [0.554054  ],\n",
              "       [0.60810804],\n",
              "       [0.6891892 ],\n",
              "       [0.71042466],\n",
              "       [0.8320464 ],\n",
              "       [1.        ],\n",
              "       [0.96911204],\n",
              "       [0.7799227 ],\n",
              "       [0.6891892 ],\n",
              "       [0.55212355],\n",
              "       [0.6332046 ]], dtype=float32)"
            ]
          },
          "metadata": {},
          "execution_count": 9
        }
      ],
      "source": [
        "dataset"
      ]
    },
    {
      "cell_type": "code",
      "execution_count": 10,
      "metadata": {
        "collapsed": true,
        "id": "zA2cIOsXcO-f"
      },
      "outputs": [],
      "source": [
        "# split the dataset into train and test \n",
        "train_size = int(len(dataset)*0.67)"
      ]
    },
    {
      "cell_type": "code",
      "execution_count": 11,
      "metadata": {
        "colab": {
          "base_uri": "https://localhost:8080/"
        },
        "id": "75Z4PLM8cO-f",
        "outputId": "e6d09dd1-78db-466c-bbec-b79d84d2a1d6"
      },
      "outputs": [
        {
          "output_type": "stream",
          "name": "stdout",
          "text": [
            "96\n"
          ]
        }
      ],
      "source": [
        "print(train_size)"
      ]
    },
    {
      "cell_type": "code",
      "execution_count": 12,
      "metadata": {
        "collapsed": true,
        "id": "w7o8nF26cO-g"
      },
      "outputs": [],
      "source": [
        "test_size = len(dataset) - train_size"
      ]
    },
    {
      "cell_type": "code",
      "execution_count": 13,
      "metadata": {
        "colab": {
          "base_uri": "https://localhost:8080/"
        },
        "id": "QLNqOaIOcO-g",
        "outputId": "c9fb06d4-40f0-4dde-b4a1-cf13637df926"
      },
      "outputs": [
        {
          "output_type": "stream",
          "name": "stdout",
          "text": [
            "48\n"
          ]
        }
      ],
      "source": [
        "print(test_size)"
      ]
    },
    {
      "cell_type": "code",
      "execution_count": 14,
      "metadata": {
        "id": "aWL0UjpGcO-g"
      },
      "outputs": [],
      "source": [
        "train,test = dataset[0:train_size,:],dataset[train_size:len(dataset),:]"
      ]
    },
    {
      "cell_type": "code",
      "execution_count": 15,
      "metadata": {
        "colab": {
          "base_uri": "https://localhost:8080/"
        },
        "id": "7QowOcWScO-g",
        "outputId": "0a51cf6c-a1fb-4942-b2a6-efb1494b2714"
      },
      "outputs": [
        {
          "output_type": "stream",
          "name": "stdout",
          "text": [
            "96 48\n"
          ]
        }
      ],
      "source": [
        "print (len(train), len(test))"
      ]
    },
    {
      "cell_type": "code",
      "execution_count": 16,
      "metadata": {
        "id": "35QsHOaUcO-h"
      },
      "outputs": [],
      "source": [
        "# create dataset matrix\n",
        "def create_dataset(dataset, look_back=1):\n",
        "    dataX, dataY = [], []\n",
        "    for i in range(len(dataset)-look_back-1):\n",
        "        a = dataset[i:(i+look_back),0]\n",
        "        dataX.append(a)\n",
        "        dataY.append(dataset[i+look_back,0])\n",
        "    return np.array(dataX),np.array(dataY)"
      ]
    },
    {
      "cell_type": "code",
      "execution_count": 17,
      "metadata": {
        "collapsed": true,
        "id": "94H31Z50cO-h"
      },
      "outputs": [],
      "source": [
        "#reshape the dataset X =current time, and Yt+1 =future time period\n",
        "look_back =1\n",
        "trainX, trainY = create_dataset(train,look_back)\n",
        "testX, testY = create_dataset(test,look_back)"
      ]
    },
    {
      "cell_type": "code",
      "execution_count": 18,
      "metadata": {
        "collapsed": true,
        "id": "RzPyDkixcO-h"
      },
      "outputs": [],
      "source": [
        "trainX = np.reshape(trainX,(trainX.shape[0],1,trainX.shape[1]))\n",
        "testX = np.reshape(testX,(testX.shape[0],1,testX.shape[1]))"
      ]
    },
    {
      "cell_type": "code",
      "execution_count": 19,
      "metadata": {
        "colab": {
          "base_uri": "https://localhost:8080/"
        },
        "id": "i3B2o_1EcO-h",
        "outputId": "5bb6d7de-9225-4f35-b354-ea6c8c0856fa"
      },
      "outputs": [
        {
          "output_type": "stream",
          "name": "stdout",
          "text": [
            "[[[0.4073359 ]]\n",
            "\n",
            " [[0.3803089 ]]\n",
            "\n",
            " [[0.48648646]]\n",
            "\n",
            " [[0.47104248]]\n",
            "\n",
            " [[0.484556  ]]\n",
            "\n",
            " [[0.6138996 ]]\n",
            "\n",
            " [[0.6969112 ]]\n",
            "\n",
            " [[0.70077217]]\n",
            "\n",
            " [[0.57915056]]\n",
            "\n",
            " [[0.46911195]]\n",
            "\n",
            " [[0.38803086]]\n",
            "\n",
            " [[0.44787642]]\n",
            "\n",
            " [[0.45559844]]\n",
            "\n",
            " [[0.4131274 ]]\n",
            "\n",
            " [[0.4980695 ]]\n",
            "\n",
            " [[0.47104248]]\n",
            "\n",
            " [[0.49999997]]\n",
            "\n",
            " [[0.6389961 ]]\n",
            "\n",
            " [[0.7471043 ]]\n",
            "\n",
            " [[0.7741313 ]]\n",
            "\n",
            " [[0.57915056]]\n",
            "\n",
            " [[0.492278  ]]\n",
            "\n",
            " [[0.3976834 ]]\n",
            "\n",
            " [[0.44980696]]\n",
            "\n",
            " [[0.49420848]]\n",
            "\n",
            " [[0.45945945]]\n",
            "\n",
            " [[0.5830116 ]]\n",
            "\n",
            " [[0.5637065 ]]\n",
            "\n",
            " [[0.61003864]]\n",
            "\n",
            " [[0.71042466]]\n",
            "\n",
            " [[0.8571429 ]]\n",
            "\n",
            " [[0.8783784 ]]\n",
            "\n",
            " [[0.69305015]]\n",
            "\n",
            " [[0.5849421 ]]\n",
            "\n",
            " [[0.4980695 ]]\n",
            "\n",
            " [[0.58108103]]\n",
            "\n",
            " [[0.6042471 ]]\n",
            "\n",
            " [[0.554054  ]]\n",
            "\n",
            " [[0.60810804]]\n",
            "\n",
            " [[0.6891892 ]]\n",
            "\n",
            " [[0.71042466]]\n",
            "\n",
            " [[0.8320464 ]]\n",
            "\n",
            " [[1.        ]]\n",
            "\n",
            " [[0.96911204]]\n",
            "\n",
            " [[0.7799227 ]]\n",
            "\n",
            " [[0.6891892 ]]]\n"
          ]
        }
      ],
      "source": [
        "print(testX)"
      ]
    },
    {
      "cell_type": "code",
      "execution_count": 20,
      "metadata": {
        "colab": {
          "base_uri": "https://localhost:8080/"
        },
        "id": "6QWgBrNrcO-i",
        "outputId": "b40b09cf-effd-448a-d4e5-01a7543a79aa"
      },
      "outputs": [
        {
          "output_type": "stream",
          "name": "stdout",
          "text": [
            "94/94 - 2s - loss: 0.0376 - 2s/epoch - 21ms/step\n"
          ]
        },
        {
          "output_type": "execute_result",
          "data": {
            "text/plain": [
              "<keras.callbacks.History at 0x7f5fb8243610>"
            ]
          },
          "metadata": {},
          "execution_count": 20
        }
      ],
      "source": [
        "# let's create  a RNN or LSTM model\n",
        "model = Sequential()\n",
        "model.add(LSTM(4,input_shape=(1,look_back)))\n",
        "model.add(Dense(1))\n",
        "model.compile(loss='mean_squared_error',optimizer='adam')\n",
        "\n",
        "# fit the model\n",
        "model.fit(trainX,trainY,batch_size=1,verbose=2)"
      ]
    },
    {
      "cell_type": "code",
      "execution_count": 21,
      "metadata": {
        "collapsed": true,
        "colab": {
          "base_uri": "https://localhost:8080/"
        },
        "id": "POLFk_xlcO-i",
        "outputId": "01011d0b-d6a1-4bb2-a77f-108f969a76fa"
      },
      "outputs": [
        {
          "output_type": "stream",
          "name": "stdout",
          "text": [
            "3/3 [==============================] - 0s 3ms/step\n",
            "2/2 [==============================] - 0s 4ms/step\n"
          ]
        }
      ],
      "source": [
        "# make predictions\n",
        "trainPredict = model.predict(trainX)\n",
        "testPredict = model.predict(testX)"
      ]
    },
    {
      "cell_type": "code",
      "execution_count": 22,
      "metadata": {
        "colab": {
          "base_uri": "https://localhost:8080/"
        },
        "id": "NdnowCTWcO-i",
        "outputId": "a6fa51cd-0ddd-4a12-82cd-81e05b57ab52"
      },
      "outputs": [
        {
          "output_type": "stream",
          "name": "stdout",
          "text": [
            "[[0.11135438]\n",
            " [0.11234487]\n",
            " [0.11468257]\n",
            " [0.11417851]\n",
            " [0.11284269]\n",
            " [0.11518833]\n",
            " [0.1173996 ]\n",
            " [0.1173996 ]\n",
            " [0.1153573 ]\n",
            " [0.11251062]\n",
            " [0.11004438]\n",
            " [0.11234487]\n",
            " [0.11184877]\n",
            " [0.11367615]\n",
            " [0.11620496]\n",
            " [0.11518833]\n",
            " [0.11350908]\n",
            " [0.11757103]\n",
            " [0.12121418]\n",
            " [0.12121418]\n",
            " [0.11912225]\n",
            " [0.11485097]\n",
            " [0.11168379]\n",
            " [0.11603504]\n",
            " [0.11688649]\n",
            " [0.11774263]\n",
            " [0.12262376]\n",
            " [0.1199906 ]\n",
            " [0.12156545]\n",
            " [0.12262376]\n",
            " [0.12638052]\n",
            " [0.12638052]\n",
            " [0.12368876]\n",
            " [0.11981656]\n",
            " [0.11705734]\n",
            " [0.12051387]\n",
            " [0.12138972]\n",
            " [0.12297801]\n",
            " [0.12529883]\n",
            " [0.12315542]\n",
            " [0.12351079]\n",
            " [0.12984967]\n",
            " [0.13207483]\n",
            " [0.13432616]\n",
            " [0.12819813]\n",
            " [0.12493972]\n",
            " [0.12156545]\n",
            " [0.12547863]\n",
            " [0.12583883]\n",
            " [0.12583883]\n",
            " [0.13319723]\n",
            " [0.1330097 ]\n",
            " [0.1318884 ]\n",
            " [0.13451496]\n",
            " [0.13852105]\n",
            " [0.14006793]\n",
            " [0.13338493]\n",
            " [0.12856385]\n",
            " [0.12297801]\n",
            " [0.12674257]\n",
            " [0.12728702]\n",
            " [0.12440249]\n",
            " [0.1330097 ]\n",
            " [0.1315161 ]\n",
            " [0.13282236]\n",
            " [0.13852105]\n",
            " [0.14596932]\n",
            " [0.14418232]\n",
            " [0.13756004]\n",
            " [0.1318884 ]\n",
            " [0.12710536]\n",
            " [0.1318884 ]\n",
            " [0.13432616]\n",
            " [0.13263522]\n",
            " [0.13909978]\n",
            " [0.13948652]\n",
            " [0.13968015]\n",
            " [0.14857534]\n",
            " [0.15865669]\n",
            " [0.15511334]\n",
            " [0.14797135]\n",
            " [0.14045641]\n",
            " [0.13338493]\n",
            " [0.14123553]\n",
            " [0.1424095 ]\n",
            " [0.14104047]\n",
            " [0.14897886]\n",
            " [0.14817251]\n",
            " [0.14918086]\n",
            " [0.1607633 ]\n",
            " [0.16913351]\n",
            " [0.16739678]\n",
            " [0.15677482]\n",
            " [0.14676805]]\n"
          ]
        }
      ],
      "source": [
        "print(trainPredict)"
      ]
    },
    {
      "cell_type": "code",
      "execution_count": 23,
      "metadata": {
        "colab": {
          "base_uri": "https://localhost:8080/"
        },
        "id": "Kchw1r9KcO-j",
        "outputId": "05c896fa-35d1-40b6-891b-559cb9d86ea9"
      },
      "outputs": [
        {
          "output_type": "stream",
          "name": "stdout",
          "text": [
            "[[0.14857534]\n",
            " [0.14577006]\n",
            " [0.15698324]\n",
            " [0.15532044]\n",
            " [0.15677482]\n",
            " [0.17109932]\n",
            " [0.18066247]\n",
            " [0.18111397]\n",
            " [0.1671804 ]\n",
            " [0.15511334]\n",
            " [0.1465681 ]\n",
            " [0.15284632]\n",
            " [0.15366834]\n",
            " [0.14918086]\n",
            " [0.15823734]\n",
            " [0.15532044]\n",
            " [0.15844692]\n",
            " [0.17396092]\n",
            " [0.1865776 ]\n",
            " [0.18980259]\n",
            " [0.1671804 ]\n",
            " [0.15760955]\n",
            " [0.14756958]\n",
            " [0.15305158]\n",
            " [0.15781863]\n",
            " [0.15408035]\n",
            " [0.16761333]\n",
            " [0.16545506]\n",
            " [0.17066139]\n",
            " [0.18224537]\n",
            " [0.19987558]\n",
            " [0.2024916 ]\n",
            " [0.18021151]\n",
            " [0.16783004]\n",
            " [0.15823734]\n",
            " [0.16739678]\n",
            " [0.17000565]\n",
            " [0.1643819 ]\n",
            " [0.17044264]\n",
            " [0.17976116]\n",
            " [0.18224537]\n",
            " [0.1968042 ]\n",
            " [0.21776137]\n",
            " [0.2138387 ]\n",
            " [0.19049722]\n",
            " [0.17976116]]\n"
          ]
        }
      ],
      "source": [
        "print(testPredict)"
      ]
    },
    {
      "cell_type": "code",
      "execution_count": 24,
      "metadata": {
        "id": "qDrr4TEHcO-j"
      },
      "outputs": [],
      "source": [
        "# reverse the predicted values to thee actual time series values using inverse tranform function\n",
        "trainPredict = scaler.inverse_transform(trainPredict) \n",
        "testPredict = scaler.inverse_transform(testPredict)\n",
        "\n",
        "trainY = scaler.inverse_transform([trainY])\n",
        "testY = scaler.inverse_transform([testY])"
      ]
    },
    {
      "cell_type": "code",
      "execution_count": 25,
      "metadata": {
        "colab": {
          "base_uri": "https://localhost:8080/"
        },
        "id": "8kFcHHqpcO-j",
        "outputId": "9d925955-8f6c-49e4-c3f2-2917c2444d78"
      },
      "outputs": [
        {
          "output_type": "stream",
          "name": "stdout",
          "text": [
            "[[161.68156]\n",
            " [162.19464]\n",
            " [163.40558]\n",
            " [163.14447]\n",
            " [162.45251]\n",
            " [163.66756]\n",
            " [164.81299]\n",
            " [164.81299]\n",
            " [163.75508]\n",
            " [162.2805 ]\n",
            " [161.00299]\n",
            " [162.19464]\n",
            " [161.93767]\n",
            " [162.88425]\n",
            " [164.19417]\n",
            " [163.66756]\n",
            " [162.79771]\n",
            " [164.9018 ]\n",
            " [166.78894]\n",
            " [166.78894]\n",
            " [165.70532]\n",
            " [163.4928 ]\n",
            " [161.8522 ]\n",
            " [164.10616]\n",
            " [164.54721]\n",
            " [164.99068]\n",
            " [167.51912]\n",
            " [166.15514]\n",
            " [166.9709 ]\n",
            " [167.51912]\n",
            " [169.46512]\n",
            " [169.46512]\n",
            " [168.07077]\n",
            " [166.06499]\n",
            " [164.63571]\n",
            " [166.4262 ]\n",
            " [166.87987]\n",
            " [167.7026 ]\n",
            " [168.9048 ]\n",
            " [167.79451]\n",
            " [167.97859]\n",
            " [171.26213]\n",
            " [172.41476]\n",
            " [173.58095]\n",
            " [170.40663]\n",
            " [168.71877]\n",
            " [166.9709 ]\n",
            " [168.99792]\n",
            " [169.18452]\n",
            " [169.18452]\n",
            " [172.99615]\n",
            " [172.89903]\n",
            " [172.3182 ]\n",
            " [173.67874]\n",
            " [175.7539 ]\n",
            " [176.55519]\n",
            " [173.09338]\n",
            " [170.59607]\n",
            " [167.7026 ]\n",
            " [169.65265]\n",
            " [169.93466]\n",
            " [168.44049]\n",
            " [172.89903]\n",
            " [172.12534]\n",
            " [172.80199]\n",
            " [175.7539 ]\n",
            " [179.6121 ]\n",
            " [178.68645]\n",
            " [175.2561 ]\n",
            " [172.3182 ]\n",
            " [169.84058]\n",
            " [172.3182 ]\n",
            " [173.58095]\n",
            " [172.70503]\n",
            " [176.05368]\n",
            " [176.25401]\n",
            " [176.35432]\n",
            " [180.96202]\n",
            " [186.18416]\n",
            " [184.34871]\n",
            " [180.64917]\n",
            " [176.75642]\n",
            " [173.09338]\n",
            " [177.16   ]\n",
            " [177.76813]\n",
            " [177.05896]\n",
            " [181.17105]\n",
            " [180.75337]\n",
            " [181.27568]\n",
            " [187.27539]\n",
            " [191.61116]\n",
            " [190.71153]\n",
            " [185.20935]\n",
            " [180.02586]] [[117.99999916 131.99999879 129.00000163 120.99999632 135.00000368\n",
            "  147.99999397 147.99999397 136.00000531 119.00000078 103.99999952\n",
            "  117.99999916 115.00000199 125.99999674 140.99999801 135.00000368\n",
            "  125.00000283 148.9999956  169.99999891 169.99999891 157.99999481\n",
            "  133.00000042 114.00000036 139.99999638 145.00000452 149.99999723\n",
            "  177.9999965  163.00000295 172.00000217 177.9999965  198.99999982\n",
            "  198.99999982 184.00000627 162.00000133 146.00000615 165.9999924\n",
            "  171.00000054 179.99999976 193.00000549 181.00000139 183.00000464\n",
            "  217.99999988 230.00000398 241.99999264 209.00000066 191.00000223\n",
            "  172.00000217 194.00000712 195.99999493 195.99999493 235.99999831\n",
            "  234.99999668 229.00000235 242.99999427 263.99999759 272.00001061\n",
            "  236.99999994 211.00000392 179.99999976 201.00000308 203.99999252\n",
            "  187.99999735 234.99999668 226.9999991  233.99999506 263.99999759\n",
            "  301.99999771 292.99999849 259.00000488 229.00000235 203.00000633\n",
            "  229.00000235 241.99999264 232.99999343 266.99998703 268.99999029\n",
            "  270.00000736 315.00000344 363.99999059 346.99999379 312.00001399\n",
            "  274.00001387 236.99999994 277.99998951 283.99999928 277.00000332\n",
            "  317.00000669 313.00000018 317.99999288 373.999976   412.99999319\n",
            "  404.99998016 355.00000681 306.00000422 270.99999355]]\n"
          ]
        }
      ],
      "source": [
        "print(trainPredict, trainY)"
      ]
    },
    {
      "cell_type": "code",
      "execution_count": 26,
      "metadata": {
        "colab": {
          "base_uri": "https://localhost:8080/"
        },
        "id": "YZ1ptMu8cO-j",
        "outputId": "ad1a0bab-4ef8-44c5-95ac-f51496c2c407"
      },
      "outputs": [
        {
          "output_type": "stream",
          "name": "stdout",
          "text": [
            "[[180.96202]\n",
            " [179.50888]\n",
            " [185.3173 ]\n",
            " [184.456  ]\n",
            " [185.20935]\n",
            " [192.62946]\n",
            " [197.58316]\n",
            " [197.81705]\n",
            " [190.59944]\n",
            " [184.34871]\n",
            " [179.92227]\n",
            " [183.1744 ]\n",
            " [183.6002 ]\n",
            " [181.27568]\n",
            " [185.96695]\n",
            " [184.456  ]\n",
            " [186.07552]\n",
            " [194.11176]\n",
            " [200.64719]\n",
            " [202.31775]\n",
            " [190.59944]\n",
            " [185.64175]\n",
            " [180.44104]\n",
            " [183.28072]\n",
            " [185.75006]\n",
            " [183.81363]\n",
            " [190.8237 ]\n",
            " [189.70573]\n",
            " [192.4026 ]\n",
            " [198.4031 ]\n",
            " [207.53554]\n",
            " [208.89066]\n",
            " [197.34956]\n",
            " [190.93596]\n",
            " [185.96695]\n",
            " [190.71153]\n",
            " [192.06293]\n",
            " [189.14983]\n",
            " [192.28929]\n",
            " [197.11627]\n",
            " [198.4031 ]\n",
            " [205.94458]\n",
            " [216.80038]\n",
            " [214.76845]\n",
            " [202.67757]\n",
            " [197.11627]] [[301.00001152 355.999993   348.00001085 355.00000681 421.9999924\n",
            "  465.0000161  466.99998848 403.99999397 346.99999379 304.99998716\n",
            "  335.99999132 339.99999783 317.99999288 362.00000277 348.00001085\n",
            "  362.99998896 434.99999813 491.00002756 505.00001948 403.99999397\n",
            "  359.00001333 310.00001073 337.00000838 359.99999952 342.00000109\n",
            "  406.0000281  395.99998094 420.00002002 471.99998119 548.00004318\n",
            "  559.00001477 462.99998197 407.00001429 362.00000277 404.99998016\n",
            "  416.9999997  390.99998824 418.99997208 461.00000959 471.99998119\n",
            "  535.00003745 622.00000929 606.00004499 507.99997805 461.00000959\n",
            "  390.00000205]]\n"
          ]
        }
      ],
      "source": [
        "print(testPredict, testY)"
      ]
    },
    {
      "cell_type": "code",
      "execution_count": 27,
      "metadata": {
        "colab": {
          "base_uri": "https://localhost:8080/"
        },
        "id": "_tYIk3PNcO-j",
        "outputId": "aebaa8d7-ac89-4a6f-e9c2-444d2962c356"
      },
      "outputs": [
        {
          "output_type": "stream",
          "name": "stdout",
          "text": [
            "Train Score: 77.34 RMSE\n"
          ]
        }
      ],
      "source": [
        "# calculate the RMSE root mean square error\n",
        "trainScore = math.sqrt(mean_squared_error(trainY[0],trainPredict[:,0]))\n",
        "print('Train Score: %.2f RMSE' % (trainScore))"
      ]
    },
    {
      "cell_type": "code",
      "execution_count": 28,
      "metadata": {
        "colab": {
          "base_uri": "https://localhost:8080/"
        },
        "id": "Q-qa9clJcO-k",
        "outputId": "85486431-c306-4caf-c6a9-e8229d0e6397"
      },
      "outputs": [
        {
          "output_type": "stream",
          "name": "stdout",
          "text": [
            "Test Score: 234.24 RMSE\n"
          ]
        }
      ],
      "source": [
        "testScore = math.sqrt(mean_squared_error(testY[0],testPredict[:,0]))\n",
        "print('Test Score: %.2f RMSE' % (testScore))"
      ]
    },
    {
      "cell_type": "code",
      "execution_count": 29,
      "metadata": {
        "collapsed": true,
        "colab": {
          "base_uri": "https://localhost:8080/",
          "height": 356
        },
        "id": "-3GdLNficO-k",
        "outputId": "c7825790-3aba-42d4-a655-54aef92b9d6f"
      },
      "outputs": [
        {
          "output_type": "stream",
          "name": "stdout",
          "text": [
            "92/92 - 2s - loss: 0.0423 - 2s/epoch - 19ms/step\n",
            "3/3 [==============================] - 1s 3ms/step\n",
            "2/2 [==============================] - 0s 4ms/step\n",
            "Train Score: 84.57 RMSE\n",
            "Test Score: 253.66 RMSE\n"
          ]
        },
        {
          "output_type": "display_data",
          "data": {
            "text/plain": [
              "<Figure size 432x288 with 1 Axes>"
            ],
            "image/png": "[encoded data removed]"
          },
          "metadata": {
            "needs_background": "light"
          }
        }
      ],
      "source": [
        "# LSTM for international airline passengers problem with window regression framing\n",
        "# convert an array of values into a dataset matrix\n",
        "\n",
        "def create_dataset(dataset, look_back=1):\n",
        "\tdataX, dataY = [], []\n",
        "\tfor i in range(len(dataset)-look_back-1):\n",
        "\t\ta = dataset[i:(i+look_back), 0]\n",
        "\t\tdataX.append(a)\n",
        "\t\tdataY.append(dataset[i + look_back, 0])\n",
        "\treturn np.array(dataX), np.array(dataY)\n",
        "# fix random seed for reproducibility\n",
        "np.random.seed(7)\n",
        "# load the dataset\n",
        "dataframe = pd.read_csv('/content/drive/Shareddrives/Interview Preparation/Data Science/LSTM Time Forecasting/Data/international-airline-passengers.csv', usecols=[1], engine='python', skipfooter=3)\n",
        "dataset = dataframe.values\n",
        "dataset = dataset.astype('float32')\n",
        "# normalize the dataset\n",
        "scaler = MinMaxScaler(feature_range=(0, 1))\n",
        "dataset = scaler.fit_transform(dataset)\n",
        "# split into train and test sets\n",
        "train_size = int(len(dataset) * 0.67)\n",
        "test_size = len(dataset) - train_size\n",
        "train, test = dataset[0:train_size,:], dataset[train_size:len(dataset),:]\n",
        "# reshape into X=t and Y=t+1\n",
        "look_back = 3\n",
        "trainX, trainY = create_dataset(train, look_back)\n",
        "testX, testY = create_dataset(test, look_back)\n",
        "# reshape input to be [samples, time steps, features]\n",
        "trainX = np.reshape(trainX, (trainX.shape[0], 1, trainX.shape[1]))\n",
        "testX = np.reshape(testX, (testX.shape[0], 1, testX.shape[1]))\n",
        "# create and fit the LSTM network\n",
        "model = Sequential()\n",
        "model.add(LSTM(4, input_shape=(1, look_back)))\n",
        "model.add(Dense(1))\n",
        "model.compile(loss='mean_squared_error', optimizer='adam')\n",
        "model.fit(trainX, trainY, batch_size=1, verbose=2)\n",
        "# make predictions\n",
        "trainPredict = model.predict(trainX)\n",
        "testPredict = model.predict(testX)\n",
        "# invert predictions\n",
        "trainPredict = scaler.inverse_transform(trainPredict)\n",
        "trainY = scaler.inverse_transform([trainY])\n",
        "testPredict = scaler.inverse_transform(testPredict)\n",
        "testY = scaler.inverse_transform([testY])\n",
        "# calculate root mean squared error\n",
        "trainScore = math.sqrt(mean_squared_error(trainY[0], trainPredict[:,0]))\n",
        "print('Train Score: %.2f RMSE' % (trainScore))\n",
        "testScore = math.sqrt(mean_squared_error(testY[0], testPredict[:,0]))\n",
        "print('Test Score: %.2f RMSE' % (testScore))\n",
        "# shift train predictions for plotting\n",
        "trainPredictPlot = np.empty_like(dataset)\n",
        "trainPredictPlot[:, :] = np.nan\n",
        "trainPredictPlot[look_back:len(trainPredict)+look_back, :] = trainPredict\n",
        "# shift test predictions for plotting\n",
        "testPredictPlot = np.empty_like(dataset)\n",
        "testPredictPlot[:, :] = np.nan\n",
        "testPredictPlot[len(trainPredict)+(look_back*2)+1:len(dataset)-1, :] = testPredict\n",
        "# plot baseline and predictions\n",
        "plt.plot(scaler.inverse_transform(dataset))\n",
        "plt.plot(trainPredictPlot)\n",
        "plt.plot(testPredictPlot)\n",
        "plt.show()"
      ]
    },
    {
      "cell_type": "code",
      "execution_count": null,
      "metadata": {
        "collapsed": true,
        "id": "xSuaM1bQcO-k"
      },
      "outputs": [],
      "source": []
    }
  ],
  "metadata": {
    "anaconda-cloud": {},
    "kernelspec": {
      "display_name": "Python 3",
      "name": "python3"
    },
    "language_info": {
      "name": "python"
    },
    "colab": {
      "provenance": [],
      "machine_shape": "hm",
      "include_colab_link": true
    },
    "accelerator": "TPU",
    "gpuClass": "standard"
  },
  "nbformat": 4,
  "nbformat_minor": 0
}